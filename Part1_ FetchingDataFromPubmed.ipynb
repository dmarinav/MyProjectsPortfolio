{
 "cells": [
  {
   "cell_type": "markdown",
   "metadata": {},
   "source": [
    "To get data from PubMed, I used two Python packages. I started with Biopython Entrez and while it was doing relatively well with downloading 500 abstracts (it wold atke it around 2 hours), it would give me an IncompleteRead error described here: https://github.com/biopython/biopython/issues/1944\n",
    "or slow down and hang for many hours if I increase the number of abstracts to download. I was not able to resolve the issue by throwing exception errors or by following the directions in the link. Luckily, I ran into another open source package, Metapub. I did have a hard time setting up API key in jupyter notebook since there was no clear directions in the documentation. However, I was able to reach out to the API developers, and they were kind to respond right away and help me. Overall, Metpub was very fast and helpful in downloading a large amount of data form PubMed. \n",
    "\n",
    "To get data for the category Other, I collected all the topics from this link: https://www.ncbi.nlm.nih.gov/mesh/1000048 into a python list that were related to either 'Chemicals and Drugs Category' or 'Diseases Category' but not related to  sub-topics such as 'Congenital, Hereditary, and Neonatal Diseases and Abnormalities' and 'Chemically-Induced Disorders'. \n",
    "\n",
    "Please see all the codes below.\n"
   ]
  },
  {
   "cell_type": "markdown",
   "metadata": {},
   "source": [
    "### Fetching data from Pubmed using Biopython Entrez"
   ]
  },
  {
   "cell_type": "code",
   "execution_count": 1,
   "metadata": {},
   "outputs": [],
   "source": [
    "from Bio import Entrez\n",
    "import pandas as pd\n",
    "def fetch_data_entrez(topic, quantity, file_name):\n",
    "    Entrez.email = \"marina.drus@gmail.com\"   \n",
    "    handle = Entrez.esearch(db=\"pubmed\", term=topic,retmax=quantity)\n",
    "    record = Entrez.read(handle)\n",
    "    list = record[\"IdList\"]\n",
    "    pmids = [int(i) for i in list]\n",
    "    for index in range(0, len(list)):\n",
    "        listId = list[index]\n",
    "        handle = Entrez.efetch(db=\"pubmed\", id=','.join(map(str, pmids)),\n",
    "                       retmode=\"text\",rettype=\"xml\")\n",
    "        records = Entrez.read(handle)\n",
    "        abstracts = [pubmed_article['MedlineCitation']['Article']['Abstract'] ['AbstractText'][0] \n",
    "             for pubmed_article in records['PubmedArticle'] if 'Abstract' in\n",
    "             pubmed_article['MedlineCitation']['Article'].keys()]\n",
    "    Abstract_data = pd.DataFrame(abstracts, index=range (0,len(abstracts)), columns=['abstract'])\n",
    "    Abstract_data.to_csv(file_name)\n",
    "    return\n",
    "    \n"
   ]
  },
  {
   "cell_type": "code",
   "execution_count": 2,
   "metadata": {},
   "outputs": [],
   "source": [
    "fetch_data_entrez('Congenital Abnormalities', 500, 'abnom.csv')"
   ]
  },
  {
   "cell_type": "markdown",
   "metadata": {},
   "source": [
    "###  Fetching data from Pubmed using Metapub"
   ]
  },
  {
   "cell_type": "code",
   "execution_count": 7,
   "metadata": {},
   "outputs": [],
   "source": [
    "import os\n",
    "from metapub import PubMedFetcher\n",
    "import pandas as pd\n",
    "\n",
    "def fetch_data_metapub(topic, quantity, file_name):\n",
    "    os.environ[\"NCBI_API_KEY\"] = \"metapub_key\"\n",
    "    fetch = PubMedFetcher()\n",
    "    pmids = fetch.pmids_for_query(topic, retmax=quantity)\n",
    "    Abstract_data = pd.DataFrame(columns=[\"abstract\"])\n",
    "    for pmid in pmids:\n",
    "        Abstract_data = Abstract_data.append({\"abstract\":fetch.article_by_pmid(pmid).abstract},ignore_index=True)\n",
    "    Abstract_data.to_csv(file_name)\n",
    "    return\n"
   ]
  },
  {
   "cell_type": "code",
   "execution_count": 8,
   "metadata": {},
   "outputs": [],
   "source": [
    "fetch_data_metapub('Congenital Abnormalities', 3700, 'abnom.csv')"
   ]
  },
  {
   "cell_type": "markdown",
   "metadata": {},
   "source": [
    "### Fetching data from Pubmed for category Other using Metapub"
   ]
  },
  {
   "cell_type": "code",
   "execution_count": 77,
   "metadata": {},
   "outputs": [],
   "source": [
    "from metapub import PubMedFetcher\n",
    "\n",
    "topics=['Amino Acids, Peptides, and Proteins','Biological Factors',\\\n",
    "       'Biomedical and Dental Materials','Carbohydrates','Chemical Actions and Uses',\\\n",
    "       'Complex Mixtures','Enzymes and Coenzymes','Heterocyclic Compounds',\\\n",
    "        'Hormones, Hormone Substitutes, and Hormone Antagonists','Inorganic Chemicals',\n",
    "       'Lipids','Macromolecular Substances','Nucleic Acids, Nucleotides, and Nucleosides',\\\n",
    "       'Organic Chemicals','Pharmaceutical Preparations','Polycyclic Compounds',\n",
    "       'Animal Diseases','Cardiovascular Diseases','Digestive System Diseases',\\\n",
    "       'Disorders of Environmental Origin','Endocrine System Diseases','Eye Diseases',\\\n",
    "       'Female Urogenital Diseases and Pregnancy Complications','Hemic and Lymphatic Diseases',\\\n",
    "        'Immune System Diseases','Infections','Male Urogenital Diseases','Musculoskeletal Diseases',\\\n",
    "        'Neoplasms','Nervous System Diseases','Nutritional and Metabolic Diseases',\\\n",
    "        'Occupational Diseases','Otorhinolaryngologic Diseases','Pathological Conditions, Signs and Symptoms',\\\n",
    "        'Respiratory Tract Diseases','Skin and Connective Tissue Diseases',\\\n",
    "        'Stomatognathic Diseases','Wounds and Injuries']\n",
    "\n",
    "pmids_list=[]\n",
    "fetch = PubMedFetcher()\n",
    "for topic in topics:\n",
    "    pmids = fetch.pmids_for_query(topic, retmax=106)\n",
    "    pmids_list.append(pmids)\n",
    "pmids_mix = [item for sublist in pmids_list for item in sublist] \n",
    "Abstract_data = pd.DataFrame(columns=[\"abstract\"])\n",
    "for pmid in pmids_mix:\n",
    "    Abstract_data = Abstract_data.append({\"abstract\":fetch.article_by_pmid(pmid).abstract},ignore_index=True)\n",
    "Abstract_data.to_csv('others.csv')"
   ]
  }
 ],
 "metadata": {
  "kernelspec": {
   "display_name": "Python 3",
   "language": "python",
   "name": "python3"
  },
  "language_info": {
   "codemirror_mode": {
    "name": "ipython",
    "version": 3
   },
   "file_extension": ".py",
   "mimetype": "text/x-python",
   "name": "python",
   "nbconvert_exporter": "python",
   "pygments_lexer": "ipython3",
   "version": "3.7.4"
  }
 },
 "nbformat": 4,
 "nbformat_minor": 2
}
