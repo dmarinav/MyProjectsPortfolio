{
 "cells": [
  {
   "cell_type": "code",
   "execution_count": 1,
   "metadata": {},
   "outputs": [],
   "source": [
    "from IPython.display import display\n",
    "import pandas as pd\n",
    "import numpy as np\n",
    "import matplotlib.pyplot as plt\n",
    "%matplotlib inline\n",
    "import seaborn as sns\n",
    "from datetime import datetime\n",
    "pd.set_option('display.max_colwidth', -1)\n",
    "pd.set_option('display.max_rows', 1000)\n",
    "pd.set_option('display.float_format', lambda x: '%.3f' % x)\n",
    "import warnings\n",
    "warnings.filterwarnings(\"ignore\")"
   ]
  },
  {
   "cell_type": "markdown",
   "metadata": {},
   "source": [
    "### Data Cleaning"
   ]
  },
  {
   "cell_type": "code",
   "execution_count": 2,
   "metadata": {},
   "outputs": [],
   "source": [
    "# Loading extracted data to data frames\n",
    "df_abnom= pd.read_csv('abnom.csv',index_col =0,encoding = \"ISO-8859-1\")\n",
    "df_sf= pd.read_csv('side_effects.csv',index_col =0,encoding = \"ISO-8859-1\")\n",
    "df_both=pd.read_csv('both.csv',index_col =0,encoding = \"ISO-8859-1\")\n",
    "df_others=pd.read_csv('others.csv',index_col =0,encoding = \"ISO-8859-1\")\n",
    "# Creating labels \n",
    "df_abnom['label']='Congenital Abnormalities'\n",
    "df_sf['label']='Side Effects'\n",
    "df_both['label']='Both'\n",
    "df_others['label']='Other'\n",
    "# Combining all the data frames\n",
    "all_data=pd.concat([df_abnom, df_sf,df_both, df_others],axis=0).dropna() \n"
   ]
  },
  {
   "cell_type": "markdown",
   "metadata": {},
   "source": [
    "After deleting rows with empty abstracts and one-sentence abstracts, I got 9,534 abstracts. Unfortunately, the category Both contained only 514 abstracts. That was the only abstacts that PubMed had for the category Both. That means that I am dealing with imbalanced outcome and imbalanced outcome can decrease my accuracy for this specific category. "
   ]
  },
  {
   "cell_type": "code",
   "execution_count": 3,
   "metadata": {},
   "outputs": [
    {
     "name": "stdout",
     "output_type": "stream",
     "text": [
      "\u001b[1mData Info:\u001b[0m\n",
      "<class 'pandas.core.frame.DataFrame'>\n",
      "Int64Index: 9534 entries, 0 to 3699\n",
      "Data columns (total 2 columns):\n",
      "abstract    9534 non-null object\n",
      "label       9534 non-null object\n",
      "dtypes: object(2)\n",
      "memory usage: 223.5+ KB\n",
      "None\n",
      "\n",
      "\u001b[1mCategories:\u001b[0m\n",
      "Congenital Abnormalities    3064\n",
      "Side Effects                2984\n",
      "Other                       2972\n",
      "Both                        514 \n",
      "Name: label, dtype: int64\n"
     ]
    }
   ],
   "source": [
    "# Deleting all the rows that contain one sentence (the articles did not conain full abstracts)\n",
    "all_data['delete']=all_data['abstract'].map(lambda x: 'delete' if len(x.split('.'))==1 or len(x.split(' '))<=10 else 'do not delete')\n",
    "df=all_data[all_data['delete']=='do not delete']\n",
    "\n",
    "print ('\\033[1m'+'Data Info:'+'\\033[0m')\n",
    "print (df[['abstract','label']].info())\n",
    "print ('')\n",
    "print ('\\033[1m'+'Categories:' +'\\033[0m')\n",
    "print (df['label'].value_counts() )"
   ]
  },
  {
   "cell_type": "markdown",
   "metadata": {},
   "source": [
    "I used custom stop list because scientific abstracts have a particular jargon that if included into a bag of words can decrease classifier accuracy. For example, those words are 'aim', 'study', 'report', 'reported', 'studies', 'objective','method','materials','results','backgroud','setting', 'methods','design','designs','conclusion','conclusions','settings', 'objectives','shown','h','th', 'ci', 'p','g','cg','n','show','also','result','may','cases','associated','group','used','data','use', 'however','including','using','p','due','case','well','c','found','remain', 'extend','studied','extensively','experiment','patient', 'mg','kg','follow', 'time', 'week',  'age', 'mean', 'median', 'day', 'showed', 'group', 'total', 'significantly', 'significant', 'respectively'. They are commonly used by scientists to describe results in abstracts. For this reason, they would consider stop words when dealing with scientific abstracts. This is my custom stop list. I've used it in my NLP work and it got me very good results in the past. "
   ]
  },
  {
   "cell_type": "code",
   "execution_count": 4,
   "metadata": {},
   "outputs": [],
   "source": [
    "# This is a custom stoplist \n",
    "\n",
    "stoplist=[\"i\",\"one\", \"two\",\"three\",\"four\",\"five\",\"six\",\"seven\",\"nine\", \"ten\",\n",
    "          \"me\", \"my\", \"ok\", \"okey\", \"myself\", \"we\", \"our\", \"ours\", \"ourselves\",\n",
    "          \"you\", \"your\", \"yours\", \"yourself\", \"yourselves\", \"he\", \"him\", \"his\", \n",
    "          \"himself\", \"she\", \"her\", \"hers\", \"herself\", \"it\", \"its\", \"itself\", \"they\",\n",
    "          \"them\", \"their\", \"theirs\", \"themselves\", \"what\", \"which\", \"who\", \"whom\", \n",
    "          \"this\", \"that\", \"these\", \"those\", \"am\", \"is\", \"are\", \"was\", \"were\", \"be\", \n",
    "          \"been\", \"being\", \"have\", \"has\", \"had\", \"having\", \"do\", \"does\", \"did\", \"doing\",\n",
    "          \"a\", \"an\", \"the\", \"and\", \"but\", \"if\", \"or\", \"because\", \"as\", \"until\", \"while\", \n",
    "          \"of\", \"at\", \"by\", \"for\", \"with\", \"about\", \"against\", \"between\", \"into\", \"through\",\n",
    "          \"during\", \"before\", \"after\", \"above\", \"below\", \"to\", \"from\", \"up\", \"down\", \"in\", \n",
    "          \"out\", \"on\", \"off\", \"over\", \"under\", \"again\", \"further\", \"then\", \"once\", \"here\",\n",
    "          \"there\", \"when\", \"where\",\"would\", \"why\", \"how\", \"all\", \"any\", \"both\", \"each\", \n",
    "          \"few\", \"more\", \"most\", \"other\", \"some\", \"such\", \"no\", \"nor\", \"not\", \"only\", \n",
    "          \"own\", \"same\", \"so\", \"than\", \"too\", \"very\", \"can\", \"will\", \"just\", \n",
    "          \"don\", \"should\", \"now\",\"i\",\"ill\",'im','um','dont','theres','lets',\\\n",
    "          'wont','u','isnt','anything',\"way\",'bit','lot','someone','anyone','okay',\\\n",
    "          'sure','kind','thats','youve','something','youre','doesnt',\\\n",
    "         'whereas','whats','itll','theyre','youd','little', 'everythings',\\\n",
    "          'things','thing','wouldnt', 'aim', 'study', 'report', 'reported', 'studies',\n",
    "         'objective','method','materials','results','backgroud','setting',\n",
    "         'methods','design','designs','conclusion','conclusions','settings',\\\n",
    "         'objectives','shown','h','th', 'ci', 'p','g','cg','n','show','ûø',\\\n",
    "         'also','result','may','cases','associated','group','used','data','use',\\\n",
    "          'however','including','using','p','due','case','well','c','found','remain',\n",
    "         'extend','studied','extensively','experiment','patient', 'mg','kg','follow', \n",
    "          'time', 'week',  'age', 'mean','median', 'day', 'showed', 'group', 'total',\n",
    "          'significantly', 'significant', 'respectively']"
   ]
  },
  {
   "cell_type": "markdown",
   "metadata": {},
   "source": [
    "While cleaning text, I got rid of all special characters, digits, capital letters, punctuations, stop words. I also lemmatized my tokens before processing."
   ]
  },
  {
   "cell_type": "code",
   "execution_count": 5,
   "metadata": {},
   "outputs": [],
   "source": [
    "from nltk.stem.wordnet import WordNetLemmatizer\n",
    "from nltk.tokenize import word_tokenize\n",
    "import itertools, nltk, string,re\n",
    "\n",
    "# Getting rid of special characters, digits, punctuation, capital letters\n",
    "df['special_char']=df['abstract'].map(lambda x: re.sub('[^A-Za-z0-9]+', ' ', x)).map(lambda x: x.replace('â',' ')).\\\n",
    "map (lambda x: re.sub(r'[0-9]', ' ', x )).map(lambda x: str(x).translate(str.maketrans('', '', string.punctuation)).lower())\n",
    "# Getting rid of stop words and tokenizing text\n",
    "df['stopped_text']=df['special_char'].map(lambda x: [word for word in nltk.word_tokenize(x) if word if word not in set(stoplist)])\n",
    "wordnet_lemmatizer = WordNetLemmatizer()\n",
    "# Lemmatizing tokens\n",
    "df['lemma_text']=df['stopped_text'].map(lambda x:  [wordnet_lemmatizer.lemmatize(word) if len(word)>= 5 else word for word in x])\n",
    "# Extracting text from lists\n",
    "df['text'] = df['lemma_text'].map(lambda x: \", \".join(map(str, x)))"
   ]
  },
  {
   "cell_type": "markdown",
   "metadata": {},
   "source": [
    "### Building Model"
   ]
  },
  {
   "cell_type": "markdown",
   "metadata": {},
   "source": [
    "I tried several approaches to reach higher accuracy scores. First, I vectorized my text using tf-idf weights and count. Convert text into tf-idf vectors, count vectors, and topics using LDA model. Then I tried to combine features from different vectors. The best accuracy was obtained by combining tf-idf features with 20 topic features. Unfortunately, increasing number of topics in LDA model would yield me lower accuracy while training my classifiers so I only extracted 20 topics. Note: In this case, I do not specifically care about extracting specific topics, however,  I care about feature extraction using LDA model that could get me the best classifier's result. Specifically, including 20 topic vectors helped me to increase recall of the imbalanced category Both (from 59% to 64%)."
   ]
  },
  {
   "cell_type": "code",
   "execution_count": 6,
   "metadata": {},
   "outputs": [],
   "source": [
    "from sklearn.feature_extraction.text import TfidfVectorizer,CountVectorizer\n",
    "\n",
    "# Vectorizong data using tfidf vectorizer and count vectorizer \n",
    "tfidf_vect = TfidfVectorizer(sublinear_tf=True, min_df=5, norm='l2', encoding='latin-1', ngram_range=(1, 2), stop_words='english')\n",
    "tfidf = tfidf_vect.fit_transform(df.text).toarray()\n",
    "count_vect = CountVectorizer(analyzer='word')\n",
    "countvec = count_vect.fit_transform(df.text).toarray()"
   ]
  },
  {
   "cell_type": "code",
   "execution_count": 8,
   "metadata": {},
   "outputs": [
    {
     "name": "stdout",
     "output_type": "stream",
     "text": [
      "Time used 501.37s\n"
     ]
    }
   ],
   "source": [
    "from sklearn import decomposition\n",
    "from time import time\n",
    "\n",
    "# Getting topics from the data using LDA model\n",
    "start = time()\n",
    "lda_model = decomposition.LatentDirichletAllocation(n_components=20, learning_method='online', max_iter=50)\n",
    "topics = lda_model.fit_transform(countvec)\n",
    "print('Time used {:.2f}s'.format(time()-start))"
   ]
  },
  {
   "cell_type": "code",
   "execution_count": 9,
   "metadata": {},
   "outputs": [
    {
     "name": "stdout",
     "output_type": "stream",
     "text": [
      "TFIDF shape:  (9534, 31765)\n",
      "Topics shape:  (9534, 20)\n"
     ]
    }
   ],
   "source": [
    "print ('TFIDF shape: ',tfidf.shape)\n",
    "print ('Topics shape: ',topics.shape)"
   ]
  },
  {
   "cell_type": "code",
   "execution_count": 10,
   "metadata": {},
   "outputs": [
    {
     "name": "stdout",
     "output_type": "stream",
     "text": [
      "X shape:  (9534, 31785)\n"
     ]
    }
   ],
   "source": [
    "# Combining topics and df-idf vectors\n",
    "X=np.concatenate((topics,tfidf),axis=1)\n",
    "y = df.label\n",
    "print ('X shape: ',X.shape)"
   ]
  },
  {
   "cell_type": "code",
   "execution_count": 11,
   "metadata": {},
   "outputs": [
    {
     "name": "stdout",
     "output_type": "stream",
     "text": [
      "\u001b[1mTraning Accuracy\u001b[0m\n",
      " \n",
      "Random Forest Score:\t0.793 ± 0.01\n",
      "NB Score:\t0.79 ± 0.012\n",
      "Logistic Regression Score:\t0.833 ± 0.012\n",
      "Linear SVC Score:\t0.871 ± 0.007\n"
     ]
    }
   ],
   "source": [
    "from sklearn.model_selection import cross_val_score, StratifiedKFold,train_test_split\n",
    "from sklearn.linear_model import LogisticRegression\n",
    "from sklearn.svm import LinearSVC\n",
    "from sklearn.ensemble import RandomForestClassifier\n",
    "from sklearn.naive_bayes import MultinomialNB\n",
    "\n",
    "\n",
    "# Training data using Stratified K-fold \n",
    "\n",
    "X_train, X_test, y_train, y_test = train_test_split(X,\\\n",
    "                                                    y,train_size=0.7,random_state=1,stratify=y)\n",
    "\n",
    "rf = RandomForestClassifier(random_state=0)\n",
    "mb = MultinomialNB()\n",
    "lr = LogisticRegression(random_state=0)\n",
    "svc = LinearSVC(random_state=0)\n",
    "\n",
    "\n",
    "cv = StratifiedKFold(n_splits=5, shuffle=True, random_state=78)\n",
    "def score(model, name):\n",
    "    s = cross_val_score(model, X_train, y_train, cv=cv, n_jobs=-1)\n",
    "    print (\"{} Score:\\t{:0.3} ± {:0.3}\".format(name, s.mean().round(3), s.std().round(3)))\n",
    "\n",
    "print ('\\033[1m'+'Traning Accuracy' +'\\033[0m')\n",
    "print (' ')\n",
    "score(rf,\"Random Forest\")\n",
    "score(mb, \"NB\")\n",
    "score(lr, \"Logistic Regression\")\n",
    "score(svc, \"Linear SVC\")"
   ]
  },
  {
   "cell_type": "markdown",
   "metadata": {},
   "source": [
    "I picked Linear SVC  as my algorithm of choice since it gave me the best accuracy score."
   ]
  },
  {
   "cell_type": "code",
   "execution_count": 12,
   "metadata": {},
   "outputs": [
    {
     "name": "stdout",
     "output_type": "stream",
     "text": [
      "\u001b[1mTest Accuracy Linear SVC: 87.84%\u001b[0m\n",
      "\u001b[1m                              Classification Report\u001b[0m\n",
      "\n",
      "                          precision    recall  f1-score   support\n",
      "\n",
      "                    Both       0.92      0.64      0.76       154\n",
      "Congenital Abnormalities       0.89      0.91      0.90       920\n",
      "                   Other       0.84      0.86      0.85       892\n",
      "            Side Effects       0.90      0.90      0.90       895\n",
      "\n",
      "                accuracy                           0.88      2861\n",
      "               macro avg       0.89      0.83      0.85      2861\n",
      "            weighted avg       0.88      0.88      0.88      2861\n",
      "\n"
     ]
    }
   ],
   "source": [
    "from sklearn.metrics import accuracy_score, confusion_matrix, classification_report\n",
    "\n",
    "# Fitting training data into the algorithm of my choice\n",
    "svc.fit(X_train, y_train)\n",
    "# Getting predicted values\n",
    "y_pred = svc.predict(X_test)\n",
    "# Estimating test accuracy\n",
    "test_acc = accuracy_score(y_true=y_test, y_pred=y_pred)\n",
    "# Estimating confusion matrix\n",
    "matrix_clf = np.array(confusion_matrix(y_test,y_pred))\n",
    "# Putting confusion matrix into a data frame\n",
    "confusion_clf = pd.DataFrame(matrix_clf,index=['Both','Congenital\\nAbnormalities',\\\n",
    "                'Other','Side Effects'], columns=['Both','Congenital\\nAbnormalities',\\\n",
    "                'Other','Side Effects'])\n",
    "\n",
    "print (('\\033[1m'+'Test Accuracy Linear SVC: %.2f%%' +'\\033[0m')% (100 * test_acc))\n",
    "print ('\\033[1m'+'                              Classification Report' +'\\033[0m')\n",
    "print ('')\n",
    "print (classification_report(y_test, y_pred))"
   ]
  },
  {
   "cell_type": "markdown",
   "metadata": {},
   "source": [
    "Overall, I got a pretty decent result. However, as I expected recall for imbalanced class Other was below average. To combat imbalanced classes, I used a synthetic minority oversampling technique. Using SMOTE for text classification have been done in the past and it has been shown to increase precision and recall accuracies (https://pdfs.semanticscholar.org/2cba/d4a57d962fa9c78f0ac46bc52a171ab2a5ed.pdf). \n",
    "\n",
    "After trying several oversampling techniques, SMOTE regular got me the best results. In addition, this method had the fastest training time. The method generates minority class samples so that they are positioned randomly between a minority sample and its nearest neighbor. SMOTE regular will take a minority class sample from the feature space, and randomly choose a neighbor from K-nearest neighbors.  This method helps prevent over-fitting as it populates empty data space instead of simply replicating existing samples. \n",
    "\n",
    "I also played with undersampling techniques, but they did not help me to get better results so I ended up sticking with the synthetic oversampling. \n"
   ]
  },
  {
   "cell_type": "code",
   "execution_count": 13,
   "metadata": {},
   "outputs": [
    {
     "name": "stdout",
     "output_type": "stream",
     "text": [
      "Time used 824.19s\n"
     ]
    }
   ],
   "source": [
    "from imblearn.over_sampling import SMOTE\n",
    "from time import time\n",
    "\n",
    "\n",
    "start = time()\n",
    "# Creating syntetic samples by applying the SMOTE regular technique\n",
    "sm = SMOTE(kind='regular')\n",
    "X_resampled, y_resampled = sm.fit_sample(X, y)\n",
    "\n",
    "print('Time used {:.2f}s'.format(time()-start))"
   ]
  },
  {
   "cell_type": "markdown",
   "metadata": {},
   "source": [
    "After creating synthetic samples, I trained my algorithms again. Again, Support Vector Machine algorithm got me the best accuracy results. "
   ]
  },
  {
   "cell_type": "code",
   "execution_count": 14,
   "metadata": {},
   "outputs": [
    {
     "name": "stdout",
     "output_type": "stream",
     "text": [
      "\u001b[1mTraning Accuracy SMOTE\u001b[0m\n",
      " \n",
      "Random Forest SMOTE Score:\t0.833 ± 0.003\n",
      "NB SMOTE Score:\t0.828 ± 0.01\n",
      "Logistic Regression SMOTE Score:\t0.865 ± 0.007\n",
      "Linear SVC SMOTE Score:\t0.905 ± 0.005\n"
     ]
    }
   ],
   "source": [
    "from sklearn.model_selection import cross_val_score, StratifiedKFold,train_test_split\n",
    "from sklearn.linear_model import LogisticRegression\n",
    "from sklearn.svm import LinearSVC\n",
    "from sklearn.ensemble import RandomForestClassifier\n",
    "from sklearn.naive_bayes import MultinomialNB\n",
    "\n",
    "\n",
    "# Training data using Stratified K-fold\n",
    "\n",
    "X_train_smote, X_test_smote, y_train_smote, y_test_smote = train_test_split(X_resampled,\\\n",
    "                                                     y_resampled,train_size=0.7,random_state=1,stratify=y_resampled)\n",
    "\n",
    "rf_smote = RandomForestClassifier(random_state=0)\n",
    "mb_smote = MultinomialNB()\n",
    "lr_smote = LogisticRegression(random_state=0)\n",
    "svc_smote = LinearSVC(random_state=0)\n",
    "\n",
    "\n",
    "cv = StratifiedKFold(n_splits=3, shuffle=True, random_state=78)\n",
    "def score(model, name):\n",
    "    s = cross_val_score(model, X_train_smote, y_train_smote, cv=cv, n_jobs=-1)\n",
    "    print (\"{} Score:\\t{:0.3} ± {:0.3}\".format(name, s.mean().round(3), s.std().round(3)))\n",
    "\n",
    "print ('\\033[1m'+'Traning Accuracy SMOTE' +'\\033[0m')\n",
    "print (' ')\n",
    "score(rf_smote,\"Random Forest SMOTE\")\n",
    "score(mb_smote, \"NB SMOTE\")\n",
    "score(lr_smote, \"Logistic Regression SMOTE\")\n",
    "score(svc_smote, \"Linear SVC SMOTE\")"
   ]
  },
  {
   "cell_type": "code",
   "execution_count": 15,
   "metadata": {},
   "outputs": [
    {
     "name": "stdout",
     "output_type": "stream",
     "text": [
      "\u001b[1mTest Accuracy Linear SVC SMOTE: 96.30%\u001b[0m\n",
      "\n",
      "\u001b[1m                              Classification Report SMOTE\u001b[0m\n",
      "                          precision    recall  f1-score   support\n",
      "\n",
      "                    Both       0.94      0.99      0.97       154\n",
      "Congenital Abnormalities       0.96      0.97      0.96       920\n",
      "                   Other       0.95      0.95      0.95       892\n",
      "            Side Effects       0.99      0.96      0.97       895\n",
      "\n",
      "                accuracy                           0.96      2861\n",
      "               macro avg       0.96      0.97      0.96      2861\n",
      "            weighted avg       0.96      0.96      0.96      2861\n",
      "\n"
     ]
    }
   ],
   "source": [
    "from sklearn.metrics import accuracy_score, confusion_matrix, classification_report\n",
    "# Fitting training data into the algorithm of my choice\n",
    "svc_smote.fit(X_train_smote, y_train_smote)\n",
    "# Getting predicted values\n",
    "y_pred_smote = svc_smote.predict(X_test)\n",
    "# Estimating test accuracy\n",
    "test_acc = accuracy_score(y_true=y_test, y_pred=y_pred_smote)\n",
    "# Estimating confusion matrix\n",
    "matrix_clf_smote = np.array(confusion_matrix(y_test,y_pred_smote))\n",
    "# Putting confusion matrix into a data frame\n",
    "confusion_clf_smote = pd.DataFrame(matrix_clf_smote,index=['Both','Congenital\\nAbnormalities',\\\n",
    "                'Other','Side Effects'], columns=['Both','Congenital\\nAbnormalities',\\\n",
    "                'Other','Side Effects'])\n",
    "\n",
    "print (('\\033[1m'+'Test Accuracy Linear SVC SMOTE: %.2f%%' +'\\033[0m')% (100 * test_acc))\n",
    "print ('')\n",
    "print ('\\033[1m'+'                              Classification Report SMOTE' +'\\033[0m')\n",
    "print (classification_report(y_test, y_pred_smote))"
   ]
  },
  {
   "cell_type": "markdown",
   "metadata": {},
   "source": [
    "I got higher test accuracy score than my training scores (96% vs 90%). I tried various oversampling techniques and undersampling techniques, feature selection, different splits between train and validation sets. All of those tries resulted in better test accuracy scores (4-6 points higher) after testing on actual cases. \n",
    "\n",
    "I think that since I trained my algorithms on a synthetic sample but tested on an imbalance test set (the way it should be done), it is possible that the fact that my algorithm is giving me better results on actual data has to do with the issue of imbalanced classes rather than with underfitting. There is a way to check that. If the problem has to do with underfitting then testing on synthetic sample would give also give me much higher accuracy score. You can see below that this is not the case.I get accuracy of 91% while testing synthetic samples which is compatible with my training accuracy. However, with synthetic samples, algorithm perform slightly worse at the categories Other and Side Effects. When used on actual data, it does much better on the same categories. At worse, that is how we can expect the algorithm to perform. \n",
    "\n",
    "There might be other ways to handle this issue. One way to handle this problem is to do tune model parameters. Due to time shortage, I was able to tune model’s parameters, but this can help with this ‘underfitting’ problem as well and, in general, would improve the model’s performance. \n",
    "\n",
    "PS: In some cases, difference of 6 points might not be even consider underfitting. I would have more concerns if that difference was over 10 points. "
   ]
  },
  {
   "cell_type": "code",
   "execution_count": 25,
   "metadata": {},
   "outputs": [
    {
     "name": "stdout",
     "output_type": "stream",
     "text": [
      "\u001b[1mTest Accuracy Linear SVC SMOTE - Synthetic Sample: 91.08%\u001b[0m\n",
      "\n",
      "\u001b[1m                              Classification Report SMOTE\u001b[0m\n",
      "                          precision    recall  f1-score   support\n",
      "\n",
      "                    Both       0.97      1.00      0.98       919\n",
      "Congenital Abnormalities       0.90      0.88      0.89       920\n",
      "                   Other       0.84      0.87      0.86       919\n",
      "            Side Effects       0.94      0.89      0.92       919\n",
      "\n",
      "                accuracy                           0.91      3677\n",
      "               macro avg       0.91      0.91      0.91      3677\n",
      "            weighted avg       0.91      0.91      0.91      3677\n",
      "\n"
     ]
    }
   ],
   "source": [
    "from sklearn.metrics import accuracy_score, confusion_matrix, classification_report\n",
    "# Fitting training data into the algorithm of my choice\n",
    "svc_smote.fit(X_train_smote, y_train_smote)\n",
    "# Getting predicted values\n",
    "y_pred_smote = svc_smote.predict(X_test_smote)\n",
    "# Estimating test accuracy\n",
    "test_acc = accuracy_score(y_true=y_test_smote, y_pred=y_pred_smote)\n",
    "# Estimating confusion matrix\n",
    "matrix_clf_smote_s = np.array(confusion_matrix(y_test_smote,y_pred_smote))\n",
    "# Putting confusion matrix into a data frame\n",
    "confusion_clf_smote_s = pd.DataFrame(matrix_clf_smote_s,index=['Both','Congenital\\nAbnormalities',\\\n",
    "                'Other','Side Effects'], columns=['Both','Congenital\\nAbnormalities',\\\n",
    "                'Other','Side Effects'])\n",
    "\n",
    "print (('\\033[1m'+'Test Accuracy Linear SVC SMOTE - Synthetic Sample: %.2f%%' +'\\033[0m')% (100 * test_acc))\n",
    "print ('')\n",
    "print ('\\033[1m'+'                              Classification Report SMOTE' +'\\033[0m')\n",
    "print (classification_report(y_test_smote, y_pred_smote))"
   ]
  },
  {
   "cell_type": "code",
   "execution_count": 17,
   "metadata": {},
   "outputs": [
    {
     "data": {
      "image/png": "[encoded data removed]",
      "text/plain": [
       "<Figure size 720x324 with 2 Axes>"
      ]
     },
     "metadata": {},
     "output_type": "display_data"
    }
   ],
   "source": [
    "plt.style.use('ggplot')\n",
    "\n",
    "fig, axes = plt.subplots(ncols=2, figsize=(10,4.5))\n",
    "plt.tight_layout(w_pad=12)\n",
    "confusion_matrix=[confusion_clf,confusion_clf_smote]\n",
    "titles=['Support Vector Machine','Support Vector Machine\\nSMOTE']\n",
    "for ax,matrix, title in zip(axes.flat,confusion_matrix, titles):\n",
    "    sns.heatmap(matrix, annot=True, annot_kws={\"size\": 14},cmap=\"bone\",fmt='g',\\\n",
    "            cbar=False,linewidths=2,ax=ax, alpha=.6)\n",
    "    ax.set_ylabel('Actual', fontsize=17,family='serif')\n",
    "    ax.set_xlabel('Predicted', fontsize=17,family='serif')\n",
    "    ax.set_title(title, fontsize=18, y=1.05,family='serif')\n",
    "    ax.set_ylim(len(matrix_clf), 0)\n",
    "    ax.set_yticklabels(('Both','Congenital\\nAbnormalities',\\\n",
    "                'Other','Side Effects'),rotation=0, fontsize=12, va=\"center\")\n",
    "    ax.set_xticklabels(('Both','Congenital\\nAbnormalities',\\\n",
    "                'Other','Side Effects'), rotation=0, fontsize=12)"
   ]
  },
  {
   "cell_type": "markdown",
   "metadata": {},
   "source": [
    "We can see that algorithm mostly misclassifies between categories Other, Side Effects, and Congenital Abnormalities. For this reason, I think that cleaning category Other (offered above) can help increase the accuracy of the classifier. It is possible that some abstracts from category Other also contain topics on Congenital Abnormalities and/or Drug-Related Side Effects. To eliminate abstracts from category Other that contain words relevant to ‘Congenital Abnormalities’ or ‘Drug-Related Side Effects’ might help to improve classification pattern for these categories. It is something that is worth trying given more time. It might also help with the problem of 'underfitting' mentioned above. \n",
    "\n",
    "In general, however, the algorithm perform much better after being trained on the synthetically created sample than on the imbalanced sample. It is a good result. "
   ]
  },
  {
   "cell_type": "markdown",
   "metadata": {},
   "source": [
    "### Conclusion"
   ]
  },
  {
   "cell_type": "markdown",
   "metadata": {},
   "source": [
    "I have tried many more things to improve accuracy of my algorithm. I’ve tried to get rid of low-frequency words using the code below and preform tf-idf feature selection using chi-squared statistics. The chi-squared statistic measures the lack of independence between a feature and class. It did not help me to improve classifier’s accuracy. It would be more useful in the cases when my matrix is so huge that it cannot be trained without dimensionality reduction. The codes I used are in the Appendix.\n",
    "\n",
    "I did not try PCA because it does not usually do well on sparse data. \n",
    "\n",
    "What I would love to do given more time:\n",
    "\n",
    "1. I would love to try to create features using Doc2Vec approach and train my model. But I would need to find pre-trained algorithm using abstracts from PubMed or relevant data or train my own Doc2Vec model using PubMed abstracts. \n",
    "\n",
    "2. I would definitely tune my model's parameters. I think it would help me a lot to improve stability and performance of my algorithm. \n",
    "\n",
    "3. Finally, I would definitely clean category Other as it seems to me that I could accidently fetch some abstracts related to the categories Congenital Abnormalities and Side Effects given the results of the confusion matrix.\n"
   ]
  },
  {
   "cell_type": "markdown",
   "metadata": {},
   "source": [
    "### Appendix"
   ]
  },
  {
   "cell_type": "code",
   "execution_count": null,
   "metadata": {},
   "outputs": [],
   "source": [
    "# Code to clean low frequncy words\n",
    "\n",
    "flat_list = [item for sublist in df['lemma_text'].tolist() for item in sublist]\n",
    "\n",
    "frequency = {}\n",
    "for word in flat_list:\n",
    "    count = frequency.get(word,0)\n",
    "    frequency[word] = count + 1   \n",
    "df_=pd.Series(frequency).to_frame().reset_index()\n",
    "result = df_.sort_values(0, ascending=False)\n",
    "low_freq_words=result[result[0]<=30]\n",
    "low_freq_list=set(low_freq_words['index'].tolist())\n",
    "df['clean_freq']=df['lemma_text'].map(lambda x: [word for word in x if word not in low_freq_list])\n",
    "df['text'] = df['clean_freq'].map(lambda x: \", \".join(map(str, x)))"
   ]
  },
  {
   "cell_type": "code",
   "execution_count": null,
   "metadata": {},
   "outputs": [],
   "source": [
    "# Code to do feature selection using chi-squared statistic \n",
    "\n",
    "x_train, x_validation, y_train, y_validation = train_test_split(df.text,\\\n",
    "                                                    y,train_size=0.7,random_state=1,stratify=y)\n",
    "\n",
    "\n",
    "from sklearn.feature_selection import chi2\n",
    "from sklearn.feature_extraction.text import TfidfVectorizer\n",
    "plt.style.use(['ggplot'])\n",
    "tvec = TfidfVectorizer(max_features=30000,ngram_range=(1, 2))\n",
    "x_train_tfidf = tvec.fit_transform(x_train)\n",
    "x_validation_tfidf = tvec.transform(x_validation)\n",
    "chi2score = chi2(x_train_tfidf, y_train)[0]\n",
    "\n",
    "plt.figure(figsize=(10,7))\n",
    "wscores = zip(tvec.get_feature_names(), chi2score)\n",
    "wchi2 = sorted(wscores, key=lambda x:x[1])\n",
    "topchi2 = list(zip(*wchi2[-20:]))\n",
    "x = range(len(topchi2[1]))\n",
    "labels = topchi2[0]\n",
    "plt.barh(x,topchi2[1], align='center', alpha=.9, color='slategrey')\n",
    "plt.plot(topchi2[1], x, '-o', markersize=5, alpha=0.8, color='black')\n",
    "plt.yticks(x, labels)\n",
    "plt.xlabel('$\\chi^2$')\n",
    "plt.show()"
   ]
  },
  {
   "cell_type": "code",
   "execution_count": null,
   "metadata": {},
   "outputs": [],
   "source": [
    "# Feature Selection using Chi2\n",
    "from sklearn.feature_selection import SelectKBest, chi2\n",
    "ch2_result = []\n",
    "for n in np.arange(10000,30000,5000):\n",
    "    ch2 = SelectKBest(chi2, k=n)\n",
    "    x_train_chi2_selected = ch2.fit_transform(x_train_tfidf, y_train)\n",
    "    x_validation_chi2_selected = ch2.transform(x_validation_tfidf)\n",
    "    clf = LinearSVC(random_state=0)\n",
    "    clf.fit(x_train_chi2_selected, y_train)\n",
    "    score = clf.score(x_validation_chi2_selected, y_validation)\n",
    "    ch2_result.append(score)\n",
    "    print (\"chi2 feature selection evaluation calculated for {} features\".format(n), round(score,3))"
   ]
  },
  {
   "cell_type": "code",
   "execution_count": null,
   "metadata": {},
   "outputs": [],
   "source": []
  }
 ],
 "metadata": {
  "kernelspec": {
   "display_name": "Python 3",
   "language": "python",
   "name": "python3"
  },
  "language_info": {
   "codemirror_mode": {
    "name": "ipython",
    "version": 3
   },
   "file_extension": ".py",
   "mimetype": "text/x-python",
   "name": "python",
   "nbconvert_exporter": "python",
   "pygments_lexer": "ipython3",
   "version": "3.7.4"
  }
 },
 "nbformat": 4,
 "nbformat_minor": 2
}
