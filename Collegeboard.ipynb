{
 "cells": [
  {
   "cell_type": "code",
   "execution_count": 2,
   "metadata": {
    "collapsed": true
   },
   "outputs": [],
   "source": [
    "import pandas as pd\n",
    "import numpy as np\n",
    "import matplotlib.pyplot as plt\n",
    "%matplotlib inline\n",
    "import seaborn as sns\n"
   ]
  },
  {
   "cell_type": "markdown",
   "metadata": {},
   "source": [
    "1)\tPlease load lines 100,001 through 120,000 of this file. That means you’re not loading the first 100,000 lines, but then getting the next 20,000. (There’s nothing special about this subset, and it’s not intended to be representative—it’s just what we’re working with for this exercise)"
   ]
  },
  {
   "cell_type": "code",
   "execution_count": 2,
   "metadata": {
    "collapsed": true
   },
   "outputs": [],
   "source": [
    "df = pd.DataFrame(columns=['wine_name','wine_wineId','wine_variant','wine_year',\\\n",
    "                               'review_points','review_time','review_userId',\\\n",
    "                               'review_userName','review_text'])"
   ]
  },
  {
   "cell_type": "code",
   "execution_count": 3,
   "metadata": {
    "collapsed": true
   },
   "outputs": [],
   "source": [
    "f=open('cellartracker.txt', encoding='latin-1')\n",
    "for line in f.readlines()[100000:120000]:\n",
    "    if 'wine/name' in line:\n",
    "        wine_name=str(line).split(':')[1].strip()\n",
    "    elif 'wine/wineId' in line:\n",
    "        wine_wineId=int(str(line).split(':')[1].strip())\n",
    "    elif 'wine/variant' in line:\n",
    "        wine_variant=str(line).split(':')[1].strip()\n",
    "    elif 'wine/year' in line:\n",
    "        wine_year=str(line).split(':')[1].strip() \n",
    "    elif 'review/points' in line:\n",
    "        review_points=str(line).split(':')[1].strip() \n",
    "    elif 'review/time' in line:\n",
    "        review_time=str(line).split(':')[1].strip() \n",
    "    elif 'review/userId' in line:\n",
    "        review_userId=str(line).split(':')[1].strip() \n",
    "    elif 'review/userName' in line:\n",
    "        review_userName=str(line).split(':')[1].strip()\n",
    "    elif 'review/text' in line:\n",
    "        review_text=str(line).split(':')[1].strip()\n",
    "        df=df.append({'wine_name':wine_name, 'wine_wineId':wine_wineId,\\\n",
    "                             'wine_variant':wine_variant,'wine_year':wine_year,\\\n",
    "                             'review_points':review_points,'review_time':review_time,\\\n",
    "                             'review_userId':review_userId,\\\n",
    "                              'review_userName':review_userName,'review_text':review_text},ignore_index=True) \n",
    "               \n",
    "f.close()"
   ]
  },
  {
   "cell_type": "markdown",
   "metadata": {},
   "source": [
    "2) Convert the data from “key: value” format to a standard data structure of your choice"
   ]
  },
  {
   "cell_type": "code",
   "execution_count": 5,
   "metadata": {
    "collapsed": true
   },
   "outputs": [],
   "source": [
    "df.to_csv(path_or_buf=\"data_frame.csv\", index=False)"
   ]
  },
  {
   "cell_type": "code",
   "execution_count": 3,
   "metadata": {
    "collapsed": true
   },
   "outputs": [],
   "source": [
    "df=pd.read_csv('data_frame.csv')\n"
   ]
  },
  {
   "cell_type": "code",
   "execution_count": 70,
   "metadata": {},
   "outputs": [
    {
     "data": {
      "text/html": [
       "<div>\n",
       "<style>\n",
       "    .dataframe thead tr:only-child th {\n",
       "        text-align: right;\n",
       "    }\n",
       "\n",
       "    .dataframe thead th {\n",
       "        text-align: left;\n",
       "    }\n",
       "\n",
       "    .dataframe tbody tr th {\n",
       "        vertical-align: top;\n",
       "    }\n",
       "</style>\n",
       "<table border=\"1\" class=\"dataframe\">\n",
       "  <thead>\n",
       "    <tr style=\"text-align: right;\">\n",
       "      <th></th>\n",
       "      <th>wine_name</th>\n",
       "      <th>wine_wineId</th>\n",
       "      <th>wine_variant</th>\n",
       "      <th>wine_year</th>\n",
       "      <th>review_points</th>\n",
       "      <th>review_time</th>\n",
       "      <th>review_userId</th>\n",
       "      <th>review_userName</th>\n",
       "      <th>review_text</th>\n",
       "    </tr>\n",
       "  </thead>\n",
       "  <tbody>\n",
       "    <tr>\n",
       "      <th>0</th>\n",
       "      <td>1999 Fattoria di F&amp;#232;lsina Berardenga Fonta...</td>\n",
       "      <td>7901</td>\n",
       "      <td>Sangiovese</td>\n",
       "      <td>1999.0</td>\n",
       "      <td>84.0</td>\n",
       "      <td>1251676800</td>\n",
       "      <td>34</td>\n",
       "      <td>Lorien</td>\n",
       "      <td>drink up</td>\n",
       "    </tr>\n",
       "    <tr>\n",
       "      <th>1</th>\n",
       "      <td>2000 Ruffino Vino Nobile di Montepulciano Lodo...</td>\n",
       "      <td>52531</td>\n",
       "      <td>Sangiovese</td>\n",
       "      <td>2000.0</td>\n",
       "      <td>89.0</td>\n",
       "      <td>1220572800</td>\n",
       "      <td>34</td>\n",
       "      <td>Lorien</td>\n",
       "      <td>3 years later and still singing, only now with...</td>\n",
       "    </tr>\n",
       "    <tr>\n",
       "      <th>2</th>\n",
       "      <td>1996 Bodegas del Marqu&amp;#233;s de Vargas Rioja ...</td>\n",
       "      <td>4240</td>\n",
       "      <td>Tempranillo Blend, Tempranillo</td>\n",
       "      <td>1996.0</td>\n",
       "      <td>90.0</td>\n",
       "      <td>1289692800</td>\n",
       "      <td>34</td>\n",
       "      <td>Lorien</td>\n",
       "      <td>Very nice! Ready and glowing right now. Beauti...</td>\n",
       "    </tr>\n",
       "    <tr>\n",
       "      <th>3</th>\n",
       "      <td>2000 Descendientes de Jos&amp;#233; Palacios Bierz...</td>\n",
       "      <td>5383</td>\n",
       "      <td>Menc&amp;#237;a</td>\n",
       "      <td>2000.0</td>\n",
       "      <td>93.0</td>\n",
       "      <td>1072656000</td>\n",
       "      <td>34</td>\n",
       "      <td>Lorien</td>\n",
       "      <td>Dark ruby red. Interesting and good aromas of ...</td>\n",
       "    </tr>\n",
       "    <tr>\n",
       "      <th>4</th>\n",
       "      <td>1997 Alvaro Palacios Priorat Finca Dof&amp;#237;</td>\n",
       "      <td>4568</td>\n",
       "      <td>Red Blend</td>\n",
       "      <td>1997.0</td>\n",
       "      <td>80.0</td>\n",
       "      <td>1107475200</td>\n",
       "      <td>34</td>\n",
       "      <td>Lorien</td>\n",
       "      <td>Well it was going to happen one day and it did...</td>\n",
       "    </tr>\n",
       "  </tbody>\n",
       "</table>\n",
       "</div>"
      ],
      "text/plain": [
       "                                           wine_name  wine_wineId  \\\n",
       "0  1999 Fattoria di F&#232;lsina Berardenga Fonta...         7901   \n",
       "1  2000 Ruffino Vino Nobile di Montepulciano Lodo...        52531   \n",
       "2  1996 Bodegas del Marqu&#233;s de Vargas Rioja ...         4240   \n",
       "3  2000 Descendientes de Jos&#233; Palacios Bierz...         5383   \n",
       "4       1997 Alvaro Palacios Priorat Finca Dof&#237;         4568   \n",
       "\n",
       "                     wine_variant  wine_year  review_points  review_time  \\\n",
       "0                      Sangiovese     1999.0           84.0   1251676800   \n",
       "1                      Sangiovese     2000.0           89.0   1220572800   \n",
       "2  Tempranillo Blend, Tempranillo     1996.0           90.0   1289692800   \n",
       "3                     Menc&#237;a     2000.0           93.0   1072656000   \n",
       "4                       Red Blend     1997.0           80.0   1107475200   \n",
       "\n",
       "   review_userId review_userName  \\\n",
       "0             34          Lorien   \n",
       "1             34          Lorien   \n",
       "2             34          Lorien   \n",
       "3             34          Lorien   \n",
       "4             34          Lorien   \n",
       "\n",
       "                                         review_text  \n",
       "0                                           drink up  \n",
       "1  3 years later and still singing, only now with...  \n",
       "2  Very nice! Ready and glowing right now. Beauti...  \n",
       "3  Dark ruby red. Interesting and good aromas of ...  \n",
       "4  Well it was going to happen one day and it did...  "
      ]
     },
     "execution_count": 70,
     "metadata": {},
     "output_type": "execute_result"
    }
   ],
   "source": [
    "df.head(5)"
   ]
  },
  {
   "cell_type": "code",
   "execution_count": 4,
   "metadata": {},
   "outputs": [
    {
     "name": "stdout",
     "output_type": "stream",
     "text": [
      "<class 'pandas.core.frame.DataFrame'>\n",
      "RangeIndex: 2000 entries, 0 to 1999\n",
      "Data columns (total 9 columns):\n",
      "wine_name          2000 non-null object\n",
      "wine_wineId        2000 non-null int64\n",
      "wine_variant       2000 non-null object\n",
      "wine_year          1980 non-null float64\n",
      "review_points      1535 non-null float64\n",
      "review_time        2000 non-null int64\n",
      "review_userId      2000 non-null int64\n",
      "review_userName    2000 non-null object\n",
      "review_text        2000 non-null object\n",
      "dtypes: float64(2), int64(3), object(4)\n",
      "memory usage: 140.7+ KB\n"
     ]
    }
   ],
   "source": [
    "df.info()"
   ]
  },
  {
   "cell_type": "code",
   "execution_count": 5,
   "metadata": {},
   "outputs": [
    {
     "data": {
      "text/html": [
       "<div>\n",
       "<style>\n",
       "    .dataframe thead tr:only-child th {\n",
       "        text-align: right;\n",
       "    }\n",
       "\n",
       "    .dataframe thead th {\n",
       "        text-align: left;\n",
       "    }\n",
       "\n",
       "    .dataframe tbody tr th {\n",
       "        vertical-align: top;\n",
       "    }\n",
       "</style>\n",
       "<table border=\"1\" class=\"dataframe\">\n",
       "  <thead>\n",
       "    <tr style=\"text-align: right;\">\n",
       "      <th></th>\n",
       "      <th>wine_wineId</th>\n",
       "      <th>wine_year</th>\n",
       "      <th>review_points</th>\n",
       "      <th>review_time</th>\n",
       "      <th>review_userId</th>\n",
       "    </tr>\n",
       "  </thead>\n",
       "  <tbody>\n",
       "    <tr>\n",
       "      <th>count</th>\n",
       "      <td>2.000000e+03</td>\n",
       "      <td>1980.000000</td>\n",
       "      <td>1535.000000</td>\n",
       "      <td>2.000000e+03</td>\n",
       "      <td>2000.0000</td>\n",
       "    </tr>\n",
       "    <tr>\n",
       "      <th>mean</th>\n",
       "      <td>2.553898e+05</td>\n",
       "      <td>2000.762626</td>\n",
       "      <td>89.872313</td>\n",
       "      <td>1.219252e+09</td>\n",
       "      <td>826.6160</td>\n",
       "    </tr>\n",
       "    <tr>\n",
       "      <th>std</th>\n",
       "      <td>3.003486e+05</td>\n",
       "      <td>6.664274</td>\n",
       "      <td>2.843022</td>\n",
       "      <td>7.833533e+07</td>\n",
       "      <td>10124.7419</td>\n",
       "    </tr>\n",
       "    <tr>\n",
       "      <th>min</th>\n",
       "      <td>3.000000e+00</td>\n",
       "      <td>1945.000000</td>\n",
       "      <td>70.000000</td>\n",
       "      <td>8.458560e+08</td>\n",
       "      <td>34.0000</td>\n",
       "    </tr>\n",
       "    <tr>\n",
       "      <th>25%</th>\n",
       "      <td>2.165700e+04</td>\n",
       "      <td>1999.000000</td>\n",
       "      <td>88.000000</td>\n",
       "      <td>1.149293e+09</td>\n",
       "      <td>40.0000</td>\n",
       "    </tr>\n",
       "    <tr>\n",
       "      <th>50%</th>\n",
       "      <td>1.259100e+05</td>\n",
       "      <td>2002.000000</td>\n",
       "      <td>90.000000</td>\n",
       "      <td>1.226102e+09</td>\n",
       "      <td>40.0000</td>\n",
       "    </tr>\n",
       "    <tr>\n",
       "      <th>75%</th>\n",
       "      <td>4.141278e+05</td>\n",
       "      <td>2005.000000</td>\n",
       "      <td>91.000000</td>\n",
       "      <td>1.289347e+09</td>\n",
       "      <td>42.0000</td>\n",
       "    </tr>\n",
       "    <tr>\n",
       "      <th>max</th>\n",
       "      <td>1.424800e+06</td>\n",
       "      <td>2011.000000</td>\n",
       "      <td>100.000000</td>\n",
       "      <td>1.348013e+09</td>\n",
       "      <td>131113.0000</td>\n",
       "    </tr>\n",
       "  </tbody>\n",
       "</table>\n",
       "</div>"
      ],
      "text/plain": [
       "        wine_wineId    wine_year  review_points   review_time  review_userId\n",
       "count  2.000000e+03  1980.000000    1535.000000  2.000000e+03      2000.0000\n",
       "mean   2.553898e+05  2000.762626      89.872313  1.219252e+09       826.6160\n",
       "std    3.003486e+05     6.664274       2.843022  7.833533e+07     10124.7419\n",
       "min    3.000000e+00  1945.000000      70.000000  8.458560e+08        34.0000\n",
       "25%    2.165700e+04  1999.000000      88.000000  1.149293e+09        40.0000\n",
       "50%    1.259100e+05  2002.000000      90.000000  1.226102e+09        40.0000\n",
       "75%    4.141278e+05  2005.000000      91.000000  1.289347e+09        42.0000\n",
       "max    1.424800e+06  2011.000000     100.000000  1.348013e+09    131113.0000"
      ]
     },
     "execution_count": 5,
     "metadata": {},
     "output_type": "execute_result"
    }
   ],
   "source": [
    "df.describe()"
   ]
  },
  {
   "cell_type": "code",
   "execution_count": 6,
   "metadata": {
    "collapsed": true
   },
   "outputs": [],
   "source": [
    "df=df.drop_duplicates()"
   ]
  },
  {
   "cell_type": "code",
   "execution_count": 7,
   "metadata": {},
   "outputs": [
    {
     "name": "stdout",
     "output_type": "stream",
     "text": [
      "<class 'pandas.core.frame.DataFrame'>\n",
      "Int64Index: 2000 entries, 0 to 1999\n",
      "Data columns (total 9 columns):\n",
      "wine_name          2000 non-null object\n",
      "wine_wineId        2000 non-null int64\n",
      "wine_variant       2000 non-null object\n",
      "wine_year          1980 non-null float64\n",
      "review_points      1535 non-null float64\n",
      "review_time        2000 non-null int64\n",
      "review_userId      2000 non-null int64\n",
      "review_userName    2000 non-null object\n",
      "review_text        2000 non-null object\n",
      "dtypes: float64(2), int64(3), object(4)\n",
      "memory usage: 156.2+ KB\n"
     ]
    }
   ],
   "source": [
    "df.info()"
   ]
  },
  {
   "cell_type": "markdown",
   "metadata": {},
   "source": [
    "3) How many unique users are represented in this subset?"
   ]
  },
  {
   "cell_type": "code",
   "execution_count": 8,
   "metadata": {},
   "outputs": [
    {
     "name": "stdout",
     "output_type": "stream",
     "text": [
      "Number of unique user names: 9\n",
      "Number of unique user IDs: 9\n"
     ]
    }
   ],
   "source": [
    "print ('Number of unique user names:', df['review_userName'].nunique())\n",
    "print ('Number of unique user IDs:', df['review_userId'].nunique())\n"
   ]
  },
  {
   "cell_type": "markdown",
   "metadata": {},
   "source": [
    "There are 9 users represented in this subset. "
   ]
  },
  {
   "cell_type": "markdown",
   "metadata": {},
   "source": [
    "4) For each user: \n",
    "•how many reviews did they submit?\n",
    "•what was the mean and standard deviation of their wine rating (review_points)?\n",
    "•how many different kinds of wine (wine_variant) did they review?\n"
   ]
  },
  {
   "cell_type": "code",
   "execution_count": 9,
   "metadata": {},
   "outputs": [
    {
     "data": {
      "text/html": [
       "<div>\n",
       "<style>\n",
       "    .dataframe thead tr:only-child th {\n",
       "        text-align: right;\n",
       "    }\n",
       "\n",
       "    .dataframe thead th {\n",
       "        text-align: left;\n",
       "    }\n",
       "\n",
       "    .dataframe tbody tr th {\n",
       "        vertical-align: top;\n",
       "    }\n",
       "</style>\n",
       "<table border=\"1\" class=\"dataframe\">\n",
       "  <thead>\n",
       "    <tr style=\"text-align: right;\">\n",
       "      <th></th>\n",
       "      <th>review_userName</th>\n",
       "      <th>review_text</th>\n",
       "      <th>review_points</th>\n",
       "    </tr>\n",
       "  </thead>\n",
       "  <tbody>\n",
       "    <tr>\n",
       "      <th>0</th>\n",
       "      <td>Decaturwinedude</td>\n",
       "      <td>1063</td>\n",
       "      <td>930</td>\n",
       "    </tr>\n",
       "    <tr>\n",
       "      <th>1</th>\n",
       "      <td>JamieMc</td>\n",
       "      <td>1</td>\n",
       "      <td>1</td>\n",
       "    </tr>\n",
       "    <tr>\n",
       "      <th>2</th>\n",
       "      <td>JeffO</td>\n",
       "      <td>38</td>\n",
       "      <td>27</td>\n",
       "    </tr>\n",
       "    <tr>\n",
       "      <th>3</th>\n",
       "      <td>Jeury</td>\n",
       "      <td>2</td>\n",
       "      <td>2</td>\n",
       "    </tr>\n",
       "    <tr>\n",
       "      <th>4</th>\n",
       "      <td>Lorien</td>\n",
       "      <td>54</td>\n",
       "      <td>50</td>\n",
       "    </tr>\n",
       "    <tr>\n",
       "      <th>5</th>\n",
       "      <td>Rani</td>\n",
       "      <td>691</td>\n",
       "      <td>514</td>\n",
       "    </tr>\n",
       "    <tr>\n",
       "      <th>6</th>\n",
       "      <td>RickG</td>\n",
       "      <td>141</td>\n",
       "      <td>4</td>\n",
       "    </tr>\n",
       "    <tr>\n",
       "      <th>7</th>\n",
       "      <td>bwhitney</td>\n",
       "      <td>3</td>\n",
       "      <td>2</td>\n",
       "    </tr>\n",
       "    <tr>\n",
       "      <th>8</th>\n",
       "      <td>mknudtson</td>\n",
       "      <td>7</td>\n",
       "      <td>5</td>\n",
       "    </tr>\n",
       "  </tbody>\n",
       "</table>\n",
       "</div>"
      ],
      "text/plain": [
       "   review_userName  review_text  review_points\n",
       "0  Decaturwinedude         1063            930\n",
       "1          JamieMc            1              1\n",
       "2            JeffO           38             27\n",
       "3            Jeury            2              2\n",
       "4           Lorien           54             50\n",
       "5             Rani          691            514\n",
       "6            RickG          141              4\n",
       "7         bwhitney            3              2\n",
       "8        mknudtson            7              5"
      ]
     },
     "execution_count": 9,
     "metadata": {},
     "output_type": "execute_result"
    }
   ],
   "source": [
    "table1 = df.groupby(['review_userName'])[['review_text','review_points']].count()\n",
    "\n",
    "table1.reset_index()\n",
    "\n"
   ]
  },
  {
   "cell_type": "markdown",
   "metadata": {},
   "source": [
    "As we can see from the table above, most of the reviewers submitted more text reviews than review points. In this specific sample, Decaturwinedude and Rani submitted more reviews and review points than any other reviewer in the subset."
   ]
  },
  {
   "cell_type": "code",
   "execution_count": 10,
   "metadata": {},
   "outputs": [
    {
     "data": {
      "text/html": [
       "<div>\n",
       "<style>\n",
       "    .dataframe thead tr:only-child th {\n",
       "        text-align: right;\n",
       "    }\n",
       "\n",
       "    .dataframe thead th {\n",
       "        text-align: left;\n",
       "    }\n",
       "\n",
       "    .dataframe tbody tr th {\n",
       "        vertical-align: top;\n",
       "    }\n",
       "</style>\n",
       "<table border=\"1\" class=\"dataframe\">\n",
       "  <thead>\n",
       "    <tr style=\"text-align: right;\">\n",
       "      <th></th>\n",
       "      <th>review_userName</th>\n",
       "      <th>mean</th>\n",
       "      <th>std</th>\n",
       "    </tr>\n",
       "  </thead>\n",
       "  <tbody>\n",
       "    <tr>\n",
       "      <th>0</th>\n",
       "      <td>Decaturwinedude</td>\n",
       "      <td>89.38</td>\n",
       "      <td>2.27</td>\n",
       "    </tr>\n",
       "    <tr>\n",
       "      <th>1</th>\n",
       "      <td>JamieMc</td>\n",
       "      <td>80.00</td>\n",
       "      <td>NaN</td>\n",
       "    </tr>\n",
       "    <tr>\n",
       "      <th>2</th>\n",
       "      <td>JeffO</td>\n",
       "      <td>94.37</td>\n",
       "      <td>3.94</td>\n",
       "    </tr>\n",
       "    <tr>\n",
       "      <th>3</th>\n",
       "      <td>Jeury</td>\n",
       "      <td>91.00</td>\n",
       "      <td>1.41</td>\n",
       "    </tr>\n",
       "    <tr>\n",
       "      <th>4</th>\n",
       "      <td>Lorien</td>\n",
       "      <td>89.96</td>\n",
       "      <td>5.15</td>\n",
       "    </tr>\n",
       "    <tr>\n",
       "      <th>5</th>\n",
       "      <td>Rani</td>\n",
       "      <td>90.60</td>\n",
       "      <td>2.93</td>\n",
       "    </tr>\n",
       "    <tr>\n",
       "      <th>6</th>\n",
       "      <td>RickG</td>\n",
       "      <td>89.75</td>\n",
       "      <td>1.50</td>\n",
       "    </tr>\n",
       "    <tr>\n",
       "      <th>7</th>\n",
       "      <td>bwhitney</td>\n",
       "      <td>90.00</td>\n",
       "      <td>1.41</td>\n",
       "    </tr>\n",
       "    <tr>\n",
       "      <th>8</th>\n",
       "      <td>mknudtson</td>\n",
       "      <td>84.20</td>\n",
       "      <td>6.42</td>\n",
       "    </tr>\n",
       "  </tbody>\n",
       "</table>\n",
       "</div>"
      ],
      "text/plain": [
       "   review_userName   mean   std\n",
       "0  Decaturwinedude  89.38  2.27\n",
       "1          JamieMc  80.00   NaN\n",
       "2            JeffO  94.37  3.94\n",
       "3            Jeury  91.00  1.41\n",
       "4           Lorien  89.96  5.15\n",
       "5             Rani  90.60  2.93\n",
       "6            RickG  89.75  1.50\n",
       "7         bwhitney  90.00  1.41\n",
       "8        mknudtson  84.20  6.42"
      ]
     },
     "execution_count": 10,
     "metadata": {},
     "output_type": "execute_result"
    }
   ],
   "source": [
    "table2=df.groupby('review_userName')['review_points'].agg([np.mean,np.std]).round(2)\n",
    "table2.reset_index()"
   ]
  },
  {
   "cell_type": "markdown",
   "metadata": {},
   "source": [
    "JeffO left the highest average review score. It is possible that JeffO prefer better quality wine but it is also possible that JeffO tends to assign higher review points in general."
   ]
  },
  {
   "cell_type": "code",
   "execution_count": 11,
   "metadata": {
    "collapsed": true
   },
   "outputs": [],
   "source": [
    "table3= df.groupby(['review_userName'])['wine_variant'].count().sort_values().to_frame('kinds of wine')\n",
    "table3=table3.reset_index()"
   ]
  },
  {
   "cell_type": "code",
   "execution_count": 12,
   "metadata": {},
   "outputs": [
    {
     "data": {
      "text/html": [
       "<div>\n",
       "<style>\n",
       "    .dataframe thead tr:only-child th {\n",
       "        text-align: right;\n",
       "    }\n",
       "\n",
       "    .dataframe thead th {\n",
       "        text-align: left;\n",
       "    }\n",
       "\n",
       "    .dataframe tbody tr th {\n",
       "        vertical-align: top;\n",
       "    }\n",
       "</style>\n",
       "<table border=\"1\" class=\"dataframe\">\n",
       "  <thead>\n",
       "    <tr style=\"text-align: right;\">\n",
       "      <th></th>\n",
       "      <th>review_userName</th>\n",
       "      <th>kinds of wine</th>\n",
       "    </tr>\n",
       "  </thead>\n",
       "  <tbody>\n",
       "    <tr>\n",
       "      <th>0</th>\n",
       "      <td>JamieMc</td>\n",
       "      <td>1</td>\n",
       "    </tr>\n",
       "    <tr>\n",
       "      <th>1</th>\n",
       "      <td>Jeury</td>\n",
       "      <td>2</td>\n",
       "    </tr>\n",
       "    <tr>\n",
       "      <th>2</th>\n",
       "      <td>bwhitney</td>\n",
       "      <td>3</td>\n",
       "    </tr>\n",
       "    <tr>\n",
       "      <th>3</th>\n",
       "      <td>mknudtson</td>\n",
       "      <td>7</td>\n",
       "    </tr>\n",
       "    <tr>\n",
       "      <th>4</th>\n",
       "      <td>JeffO</td>\n",
       "      <td>38</td>\n",
       "    </tr>\n",
       "    <tr>\n",
       "      <th>5</th>\n",
       "      <td>Lorien</td>\n",
       "      <td>54</td>\n",
       "    </tr>\n",
       "    <tr>\n",
       "      <th>6</th>\n",
       "      <td>RickG</td>\n",
       "      <td>141</td>\n",
       "    </tr>\n",
       "    <tr>\n",
       "      <th>7</th>\n",
       "      <td>Rani</td>\n",
       "      <td>691</td>\n",
       "    </tr>\n",
       "    <tr>\n",
       "      <th>8</th>\n",
       "      <td>Decaturwinedude</td>\n",
       "      <td>1063</td>\n",
       "    </tr>\n",
       "  </tbody>\n",
       "</table>\n",
       "</div>"
      ],
      "text/plain": [
       "   review_userName  kinds of wine\n",
       "0          JamieMc              1\n",
       "1            Jeury              2\n",
       "2         bwhitney              3\n",
       "3        mknudtson              7\n",
       "4            JeffO             38\n",
       "5           Lorien             54\n",
       "6            RickG            141\n",
       "7             Rani            691\n",
       "8  Decaturwinedude           1063"
      ]
     },
     "execution_count": 12,
     "metadata": {},
     "output_type": "execute_result"
    }
   ],
   "source": [
    "table3"
   ]
  },
  {
   "cell_type": "markdown",
   "metadata": {},
   "source": [
    "Decaturwinedude(1063) and Rani(691) evaluated more wine types than any other reviewer in the sample, followed by EickG(141), Lorien(54), JeffO(38), mknudtson(7), bwhitney(3), Jeury(2), and JamieMc(1)"
   ]
  },
  {
   "cell_type": "markdown",
   "metadata": {},
   "source": [
    "5)\tPlease graphically plot review_points vs. wine_year. Anything to observe about this relationship? Is it the same for all users?"
   ]
  },
  {
   "cell_type": "code",
   "execution_count": 64,
   "metadata": {
    "collapsed": true
   },
   "outputs": [],
   "source": [
    "table4 = df.groupby(['review_userName'])[['review_points']].count().sort_values('review_points',ascending=False).reset_index()\n",
    "\n",
    "colors = {'JamieMc' : 'k', \n",
    "          'Jeury' : 'm', \n",
    "          'bwhitney' : 'indigo', \n",
    "          'mknudtson' : 'Maroon', \n",
    "          'JeffO' : 'coral', \n",
    "          'RickG':'darkslategrey',\n",
    "          'Lorien' : 'teal', \n",
    "          'Rani' : 'grey', \n",
    "          'Decaturwinedude' : 'y'}\n",
    "\n",
    "genre_list = list(table4['review_userName'])"
   ]
  },
  {
   "cell_type": "code",
   "execution_count": 65,
   "metadata": {},
   "outputs": [
    {
     "data": {
      "image/png": "[encoded data removed]",
      "text/plain": [
       "<matplotlib.figure.Figure at 0x1a13f35550>"
      ]
     },
     "metadata": {},
     "output_type": "display_data"
    }
   ],
   "source": [
    "plt.style.use('ggplot')\n",
    "\n",
    "sns.set(font_scale=1.4)\n",
    "df_copy=df.copy()\n",
    "\n",
    "fig, ax = plt.subplots(figsize=(15,7))\n",
    "for i in genre_list:\n",
    "    y = df_copy[df_copy['review_userName'] == i]\n",
    "    ax.scatter(y['wine_year'],y['review_points'] , color = colors[i],s=150,\\\n",
    "    label = i, alpha=.9, edgecolor='white', marker='*')\n",
    "    \n",
    "plt.xlabel('Wine Year',fontsize=18, labelpad=20,family=\"serif\")\n",
    "plt.ylabel('Wine Points',fontsize=18, labelpad=10,family=\"serif\")\n",
    "plt.title('Wine Year vs. Wine Points', fontsize = 20,y=1.03,family=\"serif\")\n",
    "plt.legend(genre_list,loc='best', fontsize = 15,markerscale=1.2)\n",
    "\n",
    "plt.show()"
   ]
  },
  {
   "cell_type": "markdown",
   "metadata": {},
   "source": [
    "Decaturwinedude,, Rani, and Lorien are more likely to review younger wines but they also like occasionally to review older wines, produced since mid 60s. JeffO, on the other hand, is more likely to enjoy reviewing much older wines, produced since 50s,  and does not review wines that are produced after the year of 2000. I assume that JeffO has more financial resources to enjoy older wines as the older wines are usually more expensive. RickG, mknudtson, Jeury, bwhitney, JamieMc seem to be occasional wine lovers as they reviewed less than 5 wine types in the sample that are the younger side. However, it is also possible that the sample does not include all the reviews from the latter individuals.  "
   ]
  },
  {
   "cell_type": "code",
   "execution_count": null,
   "metadata": {
    "collapsed": true
   },
   "outputs": [],
   "source": []
  }
 ],
 "metadata": {
  "kernelspec": {
   "display_name": "Python 3",
   "language": "python",
   "name": "python3"
  },
  "language_info": {
   "codemirror_mode": {
    "name": "ipython",
    "version": 3
   },
   "file_extension": ".py",
   "mimetype": "text/x-python",
   "name": "python",
   "nbconvert_exporter": "python",
   "pygments_lexer": "ipython3",
   "version": "3.6.3"
  }
 },
 "nbformat": 4,
 "nbformat_minor": 2
}
