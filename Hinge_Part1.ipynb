{
 "cells": [
  {
   "cell_type": "code",
   "execution_count": 1,
   "metadata": {},
   "outputs": [],
   "source": [
    "import pandas as pd\n",
    "import numpy as np\n",
    "import matplotlib.pyplot as plt\n",
    "%matplotlib inline\n",
    "import warnings\n",
    "warnings.filterwarnings('ignore')\n",
    "\n",
    "\n",
    "\n",
    "df=pd.read_csv('/Users/Marina/Documents/hinge/ratings_sample.csv', encoding='ISO-8859-1')"
   ]
  },
  {
   "cell_type": "code",
   "execution_count": 2,
   "metadata": {},
   "outputs": [
    {
     "name": "stdout",
     "output_type": "stream",
     "text": [
      "<class 'pandas.core.frame.DataFrame'>\n",
      "RangeIndex: 500763 entries, 0 to 500762\n",
      "Data columns (total 30 columns):\n",
      "like                          500763 non-null int64\n",
      "player_id                     500763 non-null object\n",
      "subject_id                    500763 non-null object\n",
      "player_age                    500763 non-null int64\n",
      "player_height                 500763 non-null int64\n",
      "player_age_max                500763 non-null int64\n",
      "player_age_min                500763 non-null int64\n",
      "player_distance_max           500763 non-null int64\n",
      "player_height_min             500763 non-null int64\n",
      "player_height_max             500763 non-null int64\n",
      "subject_age                   500763 non-null int64\n",
      "subject_height                500763 non-null int64\n",
      "subject_age_max               500763 non-null int64\n",
      "subject_age_min               500763 non-null int64\n",
      "subject_distance_max          500763 non-null int64\n",
      "subject_height_min            500763 non-null int64\n",
      "subject_height_max            500763 non-null int64\n",
      "player_gender_orientation     500763 non-null object\n",
      "player_hometown               500763 non-null object\n",
      "player_metro                  500763 non-null object\n",
      "player_location               500763 non-null object\n",
      "subject_gender_orientation    500763 non-null object\n",
      "subject_hometown              500763 non-null object\n",
      "subject_metro                 500763 non-null object\n",
      "subject_location              500763 non-null object\n",
      "distance                      500763 non-null float64\n",
      "player_saved                  500763 non-null int64\n",
      "player_rated                  500763 non-null int64\n",
      "subject_saved                 500763 non-null int64\n",
      "subject_rated                 500763 non-null int64\n",
      "dtypes: float64(1), int64(19), object(10)\n",
      "memory usage: 114.6+ MB\n"
     ]
    }
   ],
   "source": [
    "df.info()"
   ]
  },
  {
   "cell_type": "markdown",
   "metadata": {},
   "source": [
    "## PART1"
   ]
  },
  {
   "cell_type": "markdown",
   "metadata": {},
   "source": [
    "There are 2,762 unique player IDs and 19,942 unique subject IDs in the data set."
   ]
  },
  {
   "cell_type": "code",
   "execution_count": 3,
   "metadata": {},
   "outputs": [
    {
     "data": {
      "text/plain": [
       "player_id      2762\n",
       "subject_id    19942\n",
       "dtype: int64"
      ]
     },
     "execution_count": 3,
     "metadata": {},
     "output_type": "execute_result"
    }
   ],
   "source": [
    "df[['player_id', 'subject_id']].nunique()"
   ]
  },
  {
   "cell_type": "markdown",
   "metadata": {},
   "source": [
    "59.56% of players are straight males; 38.62% are straight females; 1.18% are bi females; 0.39% are gay males; 0.21% are gay females; and 0.02% are bi males."
   ]
  },
  {
   "cell_type": "code",
   "execution_count": 4,
   "metadata": {},
   "outputs": [
    {
     "data": {
      "text/plain": [
       "MS    0.595575\n",
       "FS    0.386293\n",
       "FB    0.011802\n",
       "MG    0.003940\n",
       "FG    0.002099\n",
       "MB    0.000292\n",
       "Name: player_gender_orientation, dtype: float64"
      ]
     },
     "execution_count": 4,
     "metadata": {},
     "output_type": "execute_result"
    }
   ],
   "source": [
    "df['player_gender_orientation'].value_counts(normalize=True)"
   ]
  },
  {
   "cell_type": "markdown",
   "metadata": {},
   "source": [
    "The distribution is slightly different among subjects. 56.26 % of subjects are straight males; 39.81% are straight females; 3.25% are bi females; 0.36% are gay males; 0.16 % are gay females; and 0.15% are bi males.\n",
    "\n",
    "Interestingly, in this sample, bi males and bi females prefer being a subject to being a player. Straigt males, however, prefer being a player. "
   ]
  },
  {
   "cell_type": "code",
   "execution_count": 5,
   "metadata": {},
   "outputs": [
    {
     "data": {
      "text/plain": [
       "FS    0.562607\n",
       "MS    0.398198\n",
       "FB    0.032504\n",
       "MG    0.003646\n",
       "FG    0.001586\n",
       "MB    0.001458\n",
       "Name: subject_gender_orientation, dtype: float64"
      ]
     },
     "execution_count": 5,
     "metadata": {},
     "output_type": "execute_result"
    }
   ],
   "source": [
    "df['subject_gender_orientation'].value_counts(normalize=True)"
   ]
  },
  {
   "cell_type": "markdown",
   "metadata": {},
   "source": [
    "There are 19,969 users in the data set."
   ]
  },
  {
   "cell_type": "code",
   "execution_count": 6,
   "metadata": {},
   "outputs": [],
   "source": [
    "list1=df['subject_id'].unique().tolist()\n",
    "list2=df['player_id'].unique().tolist()"
   ]
  },
  {
   "cell_type": "code",
   "execution_count": 7,
   "metadata": {},
   "outputs": [
    {
     "data": {
      "text/plain": [
       "19969"
      ]
     },
     "execution_count": 7,
     "metadata": {},
     "output_type": "execute_result"
    }
   ],
   "source": [
    "pd.concat([df['subject_id'], df['player_id']]).unique().shape[0]\n"
   ]
  },
  {
   "cell_type": "markdown",
   "metadata": {},
   "source": [
    "2,735 (13.70%) users appear both as a player and a subject."
   ]
  },
  {
   "cell_type": "code",
   "execution_count": 8,
   "metadata": {},
   "outputs": [
    {
     "data": {
      "text/plain": [
       "2735"
      ]
     },
     "execution_count": 8,
     "metadata": {},
     "output_type": "execute_result"
    }
   ],
   "source": [
    "len(set(list1).intersection(list2))"
   ]
  },
  {
   "cell_type": "code",
   "execution_count": 9,
   "metadata": {},
   "outputs": [
    {
     "name": "stdout",
     "output_type": "stream",
     "text": [
      "2735\n"
     ]
    }
   ],
   "source": [
    "\n",
    "count = 0\n",
    "for num in list1:\n",
    "    if num in list2:\n",
    "        count += 1\n",
    "print (count)"
   ]
  },
  {
   "cell_type": "code",
   "execution_count": 10,
   "metadata": {},
   "outputs": [
    {
     "data": {
      "text/plain": [
       "13.696229155190546"
      ]
     },
     "execution_count": 10,
     "metadata": {},
     "output_type": "execute_result"
    }
   ],
   "source": [
    "2735/19969*100"
   ]
  },
  {
   "cell_type": "code",
   "execution_count": 11,
   "metadata": {},
   "outputs": [
    {
     "data": {
      "text/plain": [
       "87899"
      ]
     },
     "execution_count": 11,
     "metadata": {},
     "output_type": "execute_result"
    }
   ],
   "source": [
    "\n",
    "df_like=df.loc[df['like'] ==1];\n",
    "len(df_like)"
   ]
  },
  {
   "cell_type": "markdown",
   "metadata": {},
   "source": [
    "Approximately 16% of users went outside of their declared distance preferences. That is, they liked someone who live farther than they prefered."
   ]
  },
  {
   "cell_type": "code",
   "execution_count": 12,
   "metadata": {},
   "outputs": [
    {
     "data": {
      "text/plain": [
       "0    0.839463\n",
       "1    0.160537\n",
       "Name: distance_diff, dtype: float64"
      ]
     },
     "execution_count": 12,
     "metadata": {},
     "output_type": "execute_result"
    }
   ],
   "source": [
    "def distance(distance,player_distance_max):\n",
    "    if distance > player_distance_max:\n",
    "        return 1\n",
    "    else:\n",
    "        return 0\n",
    "\n",
    "df_like['distance_diff']=df_like.apply(lambda x: distance(x['distance']\\\n",
    "                                                            ,x['player_distance_max']), axis=1)\n",
    "\n",
    "df_like['distance_diff'].value_counts(normalize=True)"
   ]
  },
  {
   "cell_type": "markdown",
   "metadata": {},
   "source": [
    "However, only 5.6% of players would prefer someone who is either older or younger than their preferred age. "
   ]
  },
  {
   "cell_type": "code",
   "execution_count": 13,
   "metadata": {},
   "outputs": [
    {
     "data": {
      "text/plain": [
       "0    0.944266\n",
       "1    0.055734\n",
       "Name: age_diff, dtype: float64"
      ]
     },
     "execution_count": 13,
     "metadata": {},
     "output_type": "execute_result"
    }
   ],
   "source": [
    "def age(subject_age,player_age_min,player_age_max):\n",
    "    if subject_age < player_age_min or subject_age > player_age_max:\n",
    "        return 1\n",
    "    else:\n",
    "        return 0\n",
    "\n",
    "df_like['age_diff']=df_like.apply(lambda x: age(x['subject_age']\\\n",
    "                                                            ,x['player_age_min'],x['player_age_max'] ), axis=1)\n",
    "\n",
    "df_like['age_diff'].value_counts(normalize=True)"
   ]
  },
  {
   "cell_type": "markdown",
   "metadata": {},
   "source": [
    "And even fewer players (0.7%) would prefer someone who is either taller or shorter than they originally preferred."
   ]
  },
  {
   "cell_type": "code",
   "execution_count": 14,
   "metadata": {},
   "outputs": [
    {
     "data": {
      "text/plain": [
       "0    0.993163\n",
       "1    0.006837\n",
       "Name: height_diff, dtype: float64"
      ]
     },
     "execution_count": 14,
     "metadata": {},
     "output_type": "execute_result"
    }
   ],
   "source": [
    "def height(subject_height,player_height_min,player_height_max):\n",
    "    if subject_height < player_height_min or subject_height > player_height_max:\n",
    "        return 1\n",
    "    else:\n",
    "        return 0\n",
    "\n",
    "df_like['height_diff']=df_like.apply(lambda x: height(x['subject_height']\\\n",
    "                                                            ,x['player_height_min'],x['player_height_max'] ), axis=1)\n",
    "\n",
    "df_like['height_diff'].value_counts(normalize=True)"
   ]
  },
  {
   "cell_type": "markdown",
   "metadata": {},
   "source": [
    "None of players liked someone who did not match their sexual orientations.\n"
   ]
  },
  {
   "cell_type": "code",
   "execution_count": 15,
   "metadata": {},
   "outputs": [
    {
     "data": {
      "text/plain": [
       "0    1.0\n",
       "Name: orient_diff, dtype: float64"
      ]
     },
     "execution_count": 15,
     "metadata": {},
     "output_type": "execute_result"
    }
   ],
   "source": [
    "def orient(player_gender_orientation,subject_gender_orientation):\n",
    "    if player_gender_orientation=='MS' and subject_gender_orientation=='FS':\n",
    "        return 0\n",
    "    if player_gender_orientation=='FS' and subject_gender_orientation=='MS':\n",
    "        return 0\n",
    "    if player_gender_orientation=='FG' and subject_gender_orientation=='FG':\n",
    "        return 0\n",
    "    if player_gender_orientation=='MG' and subject_gender_orientation=='MG':\n",
    "        return 0\n",
    "    if player_gender_orientation=='MB' and subject_gender_orientation=='MB' or subject_gender_orientation =='FB' or subject_gender_orientation=='MG' or subject_gender_orientation=='FS' or subject_gender_orientation=='MS':\n",
    "        return 0\n",
    "    if player_gender_orientation=='FB' and subject_gender_orientation =='FB' or subject_gender_orientation =='MB' or subject_gender_orientation=='FG' or subject_gender_orientation=='FS' or subject=='MS' :\n",
    "        return 0\n",
    "    else: \n",
    "        return 1\n",
    "\n",
    "df_like['orient_diff']=df_like.apply(lambda x: orient(x['player_gender_orientation']\\\n",
    "                                                            ,x['subject_gender_orientation']), axis=1)\n",
    "\n",
    "df_like['orient_diff'].value_counts(normalize=True)"
   ]
  },
  {
   "cell_type": "markdown",
   "metadata": {},
   "source": [
    "I find these findings very interesting. While many players do not mind to have long distance relationship or even date someone who is older or younger than their ideal partner, they seem to be more uptight when it comes to height, and none of players would not match sexual preferences. It seems that height and sexual orientation are very important factors in mating, even more important than age and distance. "
   ]
  },
  {
   "cell_type": "code",
   "execution_count": 16,
   "metadata": {},
   "outputs": [],
   "source": [
    "df_like['all_diff']=df_like['height_diff']+df_like['age_diff']+df_like['distance_diff']"
   ]
  },
  {
   "cell_type": "markdown",
   "metadata": {},
   "source": [
    "20.69% of players go outside of their declared preferences. 19.15% would go outside of their declared preferences based on only one characteristic, 1.42 % would go outside of their declared preferences based on two characteristics, and only 0.12% would go outside of their declared preferences based on three characteristics."
   ]
  },
  {
   "cell_type": "code",
   "execution_count": 17,
   "metadata": {},
   "outputs": [
    {
     "data": {
      "text/plain": [
       "0    0.793138\n",
       "1    0.191595\n",
       "2    0.014289\n",
       "3    0.000978\n",
       "Name: all_diff, dtype: float64"
      ]
     },
     "execution_count": 17,
     "metadata": {},
     "output_type": "execute_result"
    }
   ],
   "source": [
    "df_like['all_diff'].value_counts(normalize=True)"
   ]
  },
  {
   "cell_type": "markdown",
   "metadata": {},
   "source": [
    "Almost an equal number of players 2.7% vs. 2.9% would like someone younger or older than their declared age."
   ]
  },
  {
   "cell_type": "code",
   "execution_count": 18,
   "metadata": {},
   "outputs": [
    {
     "data": {
      "text/plain": [
       "0    0.972958\n",
       "1    0.027042\n",
       "Name: younger, dtype: float64"
      ]
     },
     "execution_count": 18,
     "metadata": {},
     "output_type": "execute_result"
    }
   ],
   "source": [
    "def younger(subject_age,player_age_min):\n",
    "    if subject_age < player_age_min:\n",
    "        return 1\n",
    "    else:\n",
    "        return 0\n",
    "\n",
    "df_like['younger']=df_like.apply(lambda x: younger(x['subject_age']\\\n",
    "                                                            ,x['player_age_min']), axis=1)\n",
    "\n",
    "df_like['younger'].value_counts(normalize=True)"
   ]
  },
  {
   "cell_type": "code",
   "execution_count": 19,
   "metadata": {},
   "outputs": [
    {
     "data": {
      "text/plain": [
       "0    0.971308\n",
       "1    0.028692\n",
       "Name: older, dtype: float64"
      ]
     },
     "execution_count": 19,
     "metadata": {},
     "output_type": "execute_result"
    }
   ],
   "source": [
    "def older(subject_age,player_age_max):\n",
    "    if subject_age > player_age_max:\n",
    "        return 1\n",
    "    else:\n",
    "        return 0\n",
    "\n",
    "df_like['older']=df_like.apply(lambda x: older(x['subject_age']\\\n",
    "                                                            ,x['player_age_max']), axis=1)\n",
    "\n",
    "df_like['older'].value_counts(normalize=True)"
   ]
  },
  {
   "cell_type": "markdown",
   "metadata": {},
   "source": [
    "However, as seen below, if players go outside of their declared age, straight females players and gay male players prefer younger subjects while straight male players prefer older subjects."
   ]
  },
  {
   "cell_type": "code",
   "execution_count": 20,
   "metadata": {},
   "outputs": [
    {
     "data": {
      "text/html": [
       "<div>\n",
       "<style>\n",
       "    .dataframe thead tr:only-child th {\n",
       "        text-align: right;\n",
       "    }\n",
       "\n",
       "    .dataframe thead th {\n",
       "        text-align: left;\n",
       "    }\n",
       "\n",
       "    .dataframe tbody tr th {\n",
       "        vertical-align: top;\n",
       "    }\n",
       "</style>\n",
       "<table border=\"1\" class=\"dataframe\">\n",
       "  <thead>\n",
       "    <tr style=\"text-align: right;\">\n",
       "      <th></th>\n",
       "      <th>player_gender_orientation</th>\n",
       "      <th>older</th>\n",
       "      <th>younger</th>\n",
       "    </tr>\n",
       "  </thead>\n",
       "  <tbody>\n",
       "    <tr>\n",
       "      <th>0</th>\n",
       "      <td>FB</td>\n",
       "      <td>27</td>\n",
       "      <td>25</td>\n",
       "    </tr>\n",
       "    <tr>\n",
       "      <th>1</th>\n",
       "      <td>FG</td>\n",
       "      <td>5</td>\n",
       "      <td>4</td>\n",
       "    </tr>\n",
       "    <tr>\n",
       "      <th>2</th>\n",
       "      <td>FS</td>\n",
       "      <td>320</td>\n",
       "      <td>626</td>\n",
       "    </tr>\n",
       "    <tr>\n",
       "      <th>3</th>\n",
       "      <td>MB</td>\n",
       "      <td>0</td>\n",
       "      <td>1</td>\n",
       "    </tr>\n",
       "    <tr>\n",
       "      <th>4</th>\n",
       "      <td>MG</td>\n",
       "      <td>7</td>\n",
       "      <td>15</td>\n",
       "    </tr>\n",
       "    <tr>\n",
       "      <th>5</th>\n",
       "      <td>MS</td>\n",
       "      <td>2163</td>\n",
       "      <td>1706</td>\n",
       "    </tr>\n",
       "  </tbody>\n",
       "</table>\n",
       "</div>"
      ],
      "text/plain": [
       "  player_gender_orientation  older  younger\n",
       "0                        FB     27       25\n",
       "1                        FG      5        4\n",
       "2                        FS    320      626\n",
       "3                        MB      0        1\n",
       "4                        MG      7       15\n",
       "5                        MS   2163     1706"
      ]
     },
     "execution_count": 20,
     "metadata": {},
     "output_type": "execute_result"
    }
   ],
   "source": [
    "df_like.groupby('player_gender_orientation')['older','younger'].sum().reset_index()"
   ]
  },
  {
   "cell_type": "markdown",
   "metadata": {},
   "source": [
    "Similarly, equal number of players 0.32% vs. 0.37% would like someone taller or shorter than their declared height."
   ]
  },
  {
   "cell_type": "code",
   "execution_count": 21,
   "metadata": {},
   "outputs": [
    {
     "data": {
      "text/plain": [
       "0    0.996837\n",
       "1    0.003163\n",
       "Name: taller, dtype: float64"
      ]
     },
     "execution_count": 21,
     "metadata": {},
     "output_type": "execute_result"
    }
   ],
   "source": [
    "def taller(subject_height,player_height_max):\n",
    "    if subject_height > player_height_max:\n",
    "        return 1\n",
    "    else:\n",
    "        return 0\n",
    "\n",
    "df_like['taller']=df_like.apply(lambda x: taller(x['subject_height']\\\n",
    "                                                            ,x['player_height_max']), axis=1)\n",
    "\n",
    "df_like['taller'].value_counts(normalize=True)"
   ]
  },
  {
   "cell_type": "code",
   "execution_count": 22,
   "metadata": {},
   "outputs": [
    {
     "data": {
      "text/plain": [
       "0    0.996325\n",
       "1    0.003675\n",
       "Name: shorter, dtype: float64"
      ]
     },
     "execution_count": 22,
     "metadata": {},
     "output_type": "execute_result"
    }
   ],
   "source": [
    "def shorter(subject_height,player_height_min):\n",
    "    if subject_height < player_height_min:\n",
    "        return 1\n",
    "    else:\n",
    "        return 0\n",
    "\n",
    "df_like['shorter']=df_like.apply(lambda x: shorter(x['subject_height']\\\n",
    "                                                            ,x['player_height_min']), axis=1)\n",
    "\n",
    "df_like['shorter'].value_counts(normalize=True)"
   ]
  },
  {
   "cell_type": "markdown",
   "metadata": {},
   "source": [
    "However, if players go outside of their declared height, straight females and bi females would choose shorter subjects more while straight males would choose taller subjects more."
   ]
  },
  {
   "cell_type": "code",
   "execution_count": 23,
   "metadata": {},
   "outputs": [
    {
     "data": {
      "text/html": [
       "<div>\n",
       "<style>\n",
       "    .dataframe thead tr:only-child th {\n",
       "        text-align: right;\n",
       "    }\n",
       "\n",
       "    .dataframe thead th {\n",
       "        text-align: left;\n",
       "    }\n",
       "\n",
       "    .dataframe tbody tr th {\n",
       "        vertical-align: top;\n",
       "    }\n",
       "</style>\n",
       "<table border=\"1\" class=\"dataframe\">\n",
       "  <thead>\n",
       "    <tr style=\"text-align: right;\">\n",
       "      <th></th>\n",
       "      <th>player_gender_orientation</th>\n",
       "      <th>taller</th>\n",
       "      <th>shorter</th>\n",
       "    </tr>\n",
       "  </thead>\n",
       "  <tbody>\n",
       "    <tr>\n",
       "      <th>0</th>\n",
       "      <td>FB</td>\n",
       "      <td>0</td>\n",
       "      <td>19</td>\n",
       "    </tr>\n",
       "    <tr>\n",
       "      <th>1</th>\n",
       "      <td>FG</td>\n",
       "      <td>0</td>\n",
       "      <td>0</td>\n",
       "    </tr>\n",
       "    <tr>\n",
       "      <th>2</th>\n",
       "      <td>FS</td>\n",
       "      <td>8</td>\n",
       "      <td>102</td>\n",
       "    </tr>\n",
       "    <tr>\n",
       "      <th>3</th>\n",
       "      <td>MB</td>\n",
       "      <td>0</td>\n",
       "      <td>0</td>\n",
       "    </tr>\n",
       "    <tr>\n",
       "      <th>4</th>\n",
       "      <td>MG</td>\n",
       "      <td>2</td>\n",
       "      <td>2</td>\n",
       "    </tr>\n",
       "    <tr>\n",
       "      <th>5</th>\n",
       "      <td>MS</td>\n",
       "      <td>268</td>\n",
       "      <td>200</td>\n",
       "    </tr>\n",
       "  </tbody>\n",
       "</table>\n",
       "</div>"
      ],
      "text/plain": [
       "  player_gender_orientation  taller  shorter\n",
       "0                        FB       0       19\n",
       "1                        FG       0        0\n",
       "2                        FS       8      102\n",
       "3                        MB       0        0\n",
       "4                        MG       2        2\n",
       "5                        MS     268      200"
      ]
     },
     "execution_count": 23,
     "metadata": {},
     "output_type": "execute_result"
    }
   ],
   "source": [
    "df_like.groupby('player_gender_orientation')['taller','shorter'].sum().reset_index()"
   ]
  },
  {
   "cell_type": "markdown",
   "metadata": {},
   "source": [
    "The table below indicates that bi male, straight males, and bi females players prefer younger subjects, while straight females players prefer older subjects."
   ]
  },
  {
   "cell_type": "code",
   "execution_count": 182,
   "metadata": {},
   "outputs": [
    {
     "data": {
      "text/html": [
       "<div>\n",
       "<style>\n",
       "    .dataframe thead tr:only-child th {\n",
       "        text-align: right;\n",
       "    }\n",
       "\n",
       "    .dataframe thead th {\n",
       "        text-align: left;\n",
       "    }\n",
       "\n",
       "    .dataframe tbody tr th {\n",
       "        vertical-align: top;\n",
       "    }\n",
       "</style>\n",
       "<table border=\"1\" class=\"dataframe\">\n",
       "  <thead>\n",
       "    <tr style=\"text-align: right;\">\n",
       "      <th></th>\n",
       "      <th>player_gender_orientation</th>\n",
       "      <th>player_age</th>\n",
       "      <th>subject_age</th>\n",
       "    </tr>\n",
       "  </thead>\n",
       "  <tbody>\n",
       "    <tr>\n",
       "      <th>0</th>\n",
       "      <td>FB</td>\n",
       "      <td>25.584746</td>\n",
       "      <td>28.226695</td>\n",
       "    </tr>\n",
       "    <tr>\n",
       "      <th>1</th>\n",
       "      <td>FG</td>\n",
       "      <td>29.491379</td>\n",
       "      <td>30.068966</td>\n",
       "    </tr>\n",
       "    <tr>\n",
       "      <th>2</th>\n",
       "      <td>FS</td>\n",
       "      <td>27.813495</td>\n",
       "      <td>29.548883</td>\n",
       "    </tr>\n",
       "    <tr>\n",
       "      <th>3</th>\n",
       "      <td>MB</td>\n",
       "      <td>35.384615</td>\n",
       "      <td>31.076923</td>\n",
       "    </tr>\n",
       "    <tr>\n",
       "      <th>4</th>\n",
       "      <td>MG</td>\n",
       "      <td>28.308311</td>\n",
       "      <td>27.919571</td>\n",
       "    </tr>\n",
       "    <tr>\n",
       "      <th>5</th>\n",
       "      <td>MS</td>\n",
       "      <td>29.076614</td>\n",
       "      <td>26.799975</td>\n",
       "    </tr>\n",
       "  </tbody>\n",
       "</table>\n",
       "</div>"
      ],
      "text/plain": [
       "  player_gender_orientation  player_age  subject_age\n",
       "0                        FB   25.584746    28.226695\n",
       "1                        FG   29.491379    30.068966\n",
       "2                        FS   27.813495    29.548883\n",
       "3                        MB   35.384615    31.076923\n",
       "4                        MG   28.308311    27.919571\n",
       "5                        MS   29.076614    26.799975"
      ]
     },
     "execution_count": 182,
     "metadata": {},
     "output_type": "execute_result"
    }
   ],
   "source": [
    "df_like.groupby(['player_gender_orientation'])['player_age','subject_age'].mean().reset_index()"
   ]
  },
  {
   "cell_type": "code",
   "execution_count": 65,
   "metadata": {},
   "outputs": [
    {
     "data": {
      "text/plain": [
       "male      0.599807\n",
       "female    0.400193\n",
       "Name: player_gender, dtype: float64"
      ]
     },
     "execution_count": 65,
     "metadata": {},
     "output_type": "execute_result"
    }
   ],
   "source": [
    "df['player_gender']= df['player_gender_orientation'].apply(lambda x: \"male\" if x[0]==\"M\" else \"female\");\n",
    "df['player_gender'].value_counts(normalize=True)"
   ]
  },
  {
   "cell_type": "markdown",
   "metadata": {},
   "source": [
    "Below is the distribution of age among players by gender. Most of the female players are in their mid-twenties or early thirties while male players are in their late twenties and early thirties."
   ]
  },
  {
   "cell_type": "code",
   "execution_count": 122,
   "metadata": {},
   "outputs": [],
   "source": [
    "y_ms = df['player_age'][df['player_gender'] == 'male']\n",
    "y_fs = df['player_age'][df['player_gender'] == 'female']"
   ]
  },
  {
   "cell_type": "code",
   "execution_count": 132,
   "metadata": {},
   "outputs": [
    {
     "data": {
      "image/png": "[encoded data removed]",
      "text/plain": [
       "<matplotlib.figure.Figure at 0x109506c18>"
      ]
     },
     "metadata": {},
     "output_type": "display_data"
    }
   ],
   "source": [
    "plt.style.use('ggplot')\n",
    "\n",
    "bins = np.linspace(16, 60, 40)\n",
    "plt.figure(figsize=(10,7))\n",
    "plt.title(\"Distribution of Age of Players for Each Gender\",fontsize=15,y=1.03)\n",
    "plt.hist(y_ms,bins, label='male', alpha=.5, facecolor='blue',edgecolor = 'k')\n",
    "\n",
    "\n",
    "\n",
    "#histtype : {'bar', 'barstacked', 'step',  'stepfilled'}\n",
    "plt.hist(y_fs,bins, alpha=.5, label='female', color='red',edgecolor = 'k')\n",
    "plt.xticks(fontsize=12)\n",
    "plt.yticks(fontsize=12)\n",
    "plt.legend(loc='upper right', fontsize=10)\n",
    "plt.grid(color='gray', linestyle='--', alpha=.5)\n",
    "\n",
    "plt.show()"
   ]
  },
  {
   "cell_type": "markdown",
   "metadata": {},
   "source": [
    "It is very different for subjects. Most of the female subjects are in their twenties, and there is a large number of female subjects who are 24. I am not sure why this is the case, but I assume younger females prefer if someone esle takes an initiative."
   ]
  },
  {
   "cell_type": "code",
   "execution_count": 96,
   "metadata": {},
   "outputs": [],
   "source": [
    "y_ms = df['subject_age'][df['subject_gender'] == 'male']\n",
    "y_fs = df['subject_age'][df['subject_gender'] == 'female']"
   ]
  },
  {
   "cell_type": "code",
   "execution_count": 97,
   "metadata": {},
   "outputs": [
    {
     "data": {
      "image/png": "[encoded data removed]",
      "text/plain": [
       "<matplotlib.figure.Figure at 0x10aeb4940>"
      ]
     },
     "metadata": {},
     "output_type": "display_data"
    }
   ],
   "source": [
    "plt.style.use('ggplot')\n",
    "\n",
    "bins = np.linspace(16, 60, 40)\n",
    "plt.figure(figsize=(10,7))\n",
    "plt.title(\"Distribution of Age of Subjects for Each Gender\",fontsize=15,y=1.03)\n",
    "plt.hist(y_ms,bins, label='male', alpha=.5, color='blue',edgecolor = 'k')\n",
    "\n",
    "#histtype : {'bar', 'barstacked', 'step',  'stepfilled'}\n",
    "plt.hist(y_fs,bins, alpha=.5, label='female', color='red',edgecolor = 'k')\n",
    "plt.xticks(fontsize=12)\n",
    "plt.yticks(fontsize=12)\n",
    "plt.legend(loc='upper right', fontsize=10)\n",
    "plt.grid(color='gray', linestyle='--', alpha=.5)\n",
    "\n",
    "plt.show()"
   ]
  },
  {
   "cell_type": "markdown",
   "metadata": {},
   "source": [
    "We can see the similar picture when we take a look at the histogram of age among straight male players and the subjects they liked. Again, straight female subjects are mostly in their early or mid-twenties while straight male players are in twenties and thirties. It is obvious that straight male players prefer their straight female subjects in their twenties. "
   ]
  },
  {
   "cell_type": "code",
   "execution_count": 99,
   "metadata": {},
   "outputs": [],
   "source": [
    "y_ms = df_like['player_age'][df_like['player_gender_orientation'] == 'MS']\n",
    "y_fs = df_like['subject_age'][df_like['player_gender_orientation'] == 'MS']"
   ]
  },
  {
   "cell_type": "code",
   "execution_count": 100,
   "metadata": {},
   "outputs": [
    {
     "data": {
      "image/png": "[encoded data removed]",
      "text/plain": [
       "<matplotlib.figure.Figure at 0x10af55a90>"
      ]
     },
     "metadata": {},
     "output_type": "display_data"
    }
   ],
   "source": [
    "plt.style.use('ggplot')\n",
    "\n",
    "bins = np.linspace(16, 60, 40)\n",
    "plt.figure(figsize=(10,7))\n",
    "plt.title(\"Distribution of Age of MS Players and FS Subjects\",fontsize=15,y=1.03)\n",
    "plt.hist(y_ms,bins, label='MS Players', alpha=.5, color='blue',edgecolor = 'k')\n",
    "\n",
    "#histtype : {'bar', 'barstacked', 'step',  'stepfilled'}\n",
    "plt.hist(y_fs,bins, alpha=.5, label='FS Subjects', color='red',edgecolor = 'k')\n",
    "plt.xticks(fontsize=12)\n",
    "plt.yticks(fontsize=12)\n",
    "plt.legend(loc='upper right', fontsize=10)\n",
    "plt.grid(color='gray', linestyle='--', alpha=.5)\n",
    "\n",
    "plt.show()"
   ]
  },
  {
   "cell_type": "markdown",
   "metadata": {},
   "source": [
    "This seems to be mutual. Below we can see that straight female players who are mostly in their twenties prefer straight male subjects who are the same age or older."
   ]
  },
  {
   "cell_type": "code",
   "execution_count": 62,
   "metadata": {},
   "outputs": [],
   "source": [
    "y_ms = df_like['player_age'][df_like['player_gender_orientation'] == 'FS']\n",
    "y_fs = df_like['subject_age'][df_like['player_gender_orientation'] == 'FS']"
   ]
  },
  {
   "cell_type": "code",
   "execution_count": 63,
   "metadata": {},
   "outputs": [
    {
     "data": {
      "image/png": "[encoded data removed]",
      "text/plain": [
       "<matplotlib.figure.Figure at 0x10a9d0160>"
      ]
     },
     "metadata": {},
     "output_type": "display_data"
    }
   ],
   "source": [
    "plt.style.use('ggplot')\n",
    "\n",
    "bins = np.linspace(16, 60, 40)\n",
    "plt.figure(figsize=(10,7))\n",
    "plt.title(\"Distribution of Age of FS Players and MS Subjects\",fontsize=15,y=1.03)\n",
    "plt.hist(y_fs,bins, label='MS Subjects', alpha=.5, color='blue',edgecolor = 'k')\n",
    "\n",
    "#histtype : {'bar', 'barstacked', 'step',  'stepfilled'}\n",
    "plt.hist(y_ms,bins, alpha=.5, label='FS Players', color='red',edgecolor = 'k')\n",
    "plt.xticks(fontsize=12)\n",
    "plt.yticks(fontsize=12)\n",
    "plt.legend(loc='upper right', fontsize=10)\n",
    "plt.grid(color='gray', linestyle='--', alpha=.5)\n",
    "\n",
    "plt.show()"
   ]
  },
  {
   "cell_type": "markdown",
   "metadata": {},
   "source": [
    "The picture is a bit different for gay people. There are more gay male players in their twenties. Of course, gay mate players can also male with bi male subjects but I don't think it would change the overall picture."
   ]
  },
  {
   "cell_type": "code",
   "execution_count": 68,
   "metadata": {},
   "outputs": [],
   "source": [
    "y_ms = df_like['player_age'][df_like['player_gender_orientation'] == 'MG']\n",
    "y_fs = df_like['subject_age'][df_like['player_gender_orientation'] == 'MG']"
   ]
  },
  {
   "cell_type": "code",
   "execution_count": 69,
   "metadata": {},
   "outputs": [
    {
     "data": {
      "image/png": "[encoded data removed]",
      "text/plain": [
       "<matplotlib.figure.Figure at 0x10bf7b128>"
      ]
     },
     "metadata": {},
     "output_type": "display_data"
    }
   ],
   "source": [
    "plt.style.use('ggplot')\n",
    "\n",
    "bins = np.linspace(16, 60, 40)\n",
    "plt.figure(figsize=(10,7))\n",
    "plt.title(\"Distribution of Age of MG Players and Subjects \",fontsize=15,y=1.03)\n",
    "plt.hist(y_ms,bins, label='MG Players', alpha=.5, color='blue',edgecolor = 'k')\n",
    "\n",
    "#histtype : {'bar', 'barstacked', 'step',  'stepfilled'}\n",
    "plt.hist(y_fs,bins, alpha=.5, label='MG Subjects', color='red',edgecolor = 'k')\n",
    "plt.xticks(fontsize=12)\n",
    "plt.yticks(fontsize=12)\n",
    "plt.legend(loc='upper right', fontsize=10)\n",
    "plt.grid(color='gray', linestyle='--', alpha=.5)\n",
    "\n",
    "plt.show()"
   ]
  },
  {
   "cell_type": "markdown",
   "metadata": {},
   "source": [
    "It is very different for gay females. Most of the gay female players are in their mid-thirties while age of gay female subjects they liked varies between twenties and forties."
   ]
  },
  {
   "cell_type": "code",
   "execution_count": 76,
   "metadata": {},
   "outputs": [],
   "source": [
    "y_ms = df_like['player_age'][df_like['player_gender_orientation'] == 'FG']\n",
    "y_fs = df_like['subject_age'][df_like['player_gender_orientation'] == 'FG']"
   ]
  },
  {
   "cell_type": "code",
   "execution_count": 77,
   "metadata": {},
   "outputs": [
    {
     "data": {
      "image/png": "[encoded data removed]",
      "text/plain": [
       "<matplotlib.figure.Figure at 0x10beef5f8>"
      ]
     },
     "metadata": {},
     "output_type": "display_data"
    }
   ],
   "source": [
    "plt.style.use('ggplot')\n",
    "\n",
    "bins = np.linspace(16, 60, 40)\n",
    "plt.figure(figsize=(10,7))\n",
    "plt.title(\"Distribution of Age of FG Players and FG Subjects\",fontsize=15,y=1.03)\n",
    "plt.hist(y_ms,bins, label='FG Players', alpha=.5, color='blue',edgecolor = 'k')\n",
    "\n",
    "#histtype : {'bar', 'barstacked', 'step',  'stepfilled'}\n",
    "plt.hist(y_fs,bins, alpha=.5, label='FG Subjects', color='red',edgecolor = 'k')\n",
    "plt.xticks(fontsize=12)\n",
    "plt.yticks(fontsize=12)\n",
    "plt.legend(loc='upper right', fontsize=10)\n",
    "plt.grid(color='gray', linestyle='--', alpha=.5)\n",
    "\n",
    "plt.show()"
   ]
  },
  {
   "cell_type": "markdown",
   "metadata": {},
   "source": [
    "Finally, bi people seem to have a different mating pattern. Bi male players are mostly in their late thirties while bi female players are mostly in their twenties."
   ]
  },
  {
   "cell_type": "code",
   "execution_count": 81,
   "metadata": {},
   "outputs": [],
   "source": [
    "y_ms = df_like['player_age'][df_like['player_gender_orientation'] == 'MB']\n",
    "y_fs = df_like['subject_age'][df_like['player_gender_orientation'] == 'MB']"
   ]
  },
  {
   "cell_type": "code",
   "execution_count": 83,
   "metadata": {},
   "outputs": [
    {
     "data": {
      "image/png": "[encoded data removed]",
      "text/plain": [
       "<matplotlib.figure.Figure at 0x10be7b630>"
      ]
     },
     "metadata": {},
     "output_type": "display_data"
    }
   ],
   "source": [
    "plt.style.use('ggplot')\n",
    "\n",
    "bins = np.linspace(16, 60, 40)\n",
    "plt.figure(figsize=(10,7))\n",
    "plt.title(\"Distribution of Age of MB Players and MB Subjects\",fontsize=15,y=1.03)\n",
    "plt.hist(y_ms,bins, label='MB Players', alpha=.5, color='blue',edgecolor = 'k')\n",
    "\n",
    "#histtype : {'bar', 'barstacked', 'step',  'stepfilled'}\n",
    "plt.hist(y_fs,bins, alpha=.5, label='MB Subjects', color='red',edgecolor = 'k')\n",
    "plt.xticks(fontsize=12)\n",
    "plt.yticks(fontsize=12)\n",
    "plt.legend(loc='upper right', fontsize=10)\n",
    "plt.grid(color='gray', linestyle='--', alpha=.5)\n",
    "\n",
    "plt.show()"
   ]
  },
  {
   "cell_type": "code",
   "execution_count": 92,
   "metadata": {},
   "outputs": [],
   "source": [
    "y_ms = df_like['player_age'][df_like['player_gender_orientation'] == 'FB']\n",
    "y_fs = df_like['subject_age'][df_like['player_gender_orientation'] == 'FB']"
   ]
  },
  {
   "cell_type": "code",
   "execution_count": 93,
   "metadata": {},
   "outputs": [
    {
     "data": {
      "image/png": "[encoded data removed]",
      "text/plain": [
       "<matplotlib.figure.Figure at 0x10bce78d0>"
      ]
     },
     "metadata": {},
     "output_type": "display_data"
    }
   ],
   "source": [
    "plt.style.use('ggplot')\n",
    "\n",
    "bins = np.linspace(16, 60, 40)\n",
    "plt.figure(figsize=(10,7))\n",
    "plt.title(\"Distribution of Age of FB Players and FB Subjects\",fontsize=15,y=1.03)\n",
    "plt.hist(y_ms,bins, label='FB Players', alpha=.5, color='blue',edgecolor = 'k')\n",
    "\n",
    "#histtype : {'bar', 'barstacked', 'step',  'stepfilled'}\n",
    "plt.hist(y_fs,bins, alpha=.4, label='FB Subjects', color='red',edgecolor = 'k')\n",
    "plt.xticks(fontsize=12)\n",
    "plt.yticks(fontsize=12)\n",
    "plt.legend(loc='upper right', fontsize=10)\n",
    "plt.grid(color='gray', linestyle='--', alpha=.5)\n",
    "\n",
    "plt.show()"
   ]
  },
  {
   "cell_type": "markdown",
   "metadata": {},
   "source": [
    "It is very interesting and actually somewhat contradicts social science research. Proximity is an important factor in mating. People prefer mate with someone who lives not far from them. However, the pattern below indicates that players like subjects who live farther. It is something that needs to be investigated. Somewhat, larger distance stops being an issue for the users of the application. It might be also a coincidence."
   ]
  },
  {
   "cell_type": "code",
   "execution_count": 188,
   "metadata": {},
   "outputs": [
    {
     "data": {
      "text/html": [
       "<div>\n",
       "<style>\n",
       "    .dataframe thead tr:only-child th {\n",
       "        text-align: right;\n",
       "    }\n",
       "\n",
       "    .dataframe thead th {\n",
       "        text-align: left;\n",
       "    }\n",
       "\n",
       "    .dataframe tbody tr th {\n",
       "        vertical-align: top;\n",
       "    }\n",
       "</style>\n",
       "<table border=\"1\" class=\"dataframe\">\n",
       "  <thead>\n",
       "    <tr style=\"text-align: right;\">\n",
       "      <th></th>\n",
       "      <th>like</th>\n",
       "      <th>distance</th>\n",
       "    </tr>\n",
       "  </thead>\n",
       "  <tbody>\n",
       "    <tr>\n",
       "      <th>0</th>\n",
       "      <td>0</td>\n",
       "      <td>98.638464</td>\n",
       "    </tr>\n",
       "    <tr>\n",
       "      <th>1</th>\n",
       "      <td>1</td>\n",
       "      <td>122.051134</td>\n",
       "    </tr>\n",
       "  </tbody>\n",
       "</table>\n",
       "</div>"
      ],
      "text/plain": [
       "   like    distance\n",
       "0     0   98.638464\n",
       "1     1  122.051134"
      ]
     },
     "execution_count": 188,
     "metadata": {},
     "output_type": "execute_result"
    }
   ],
   "source": [
    "df.groupby('like')['distance'].mean().reset_index()"
   ]
  },
  {
   "cell_type": "markdown",
   "metadata": {},
   "source": [
    "Below is also an interesting pattern, it seems that taller subjects are more likely to be liked."
   ]
  },
  {
   "cell_type": "code",
   "execution_count": 92,
   "metadata": {},
   "outputs": [
    {
     "data": {
      "text/html": [
       "<div>\n",
       "<style>\n",
       "    .dataframe thead tr:only-child th {\n",
       "        text-align: right;\n",
       "    }\n",
       "\n",
       "    .dataframe thead th {\n",
       "        text-align: left;\n",
       "    }\n",
       "\n",
       "    .dataframe tbody tr th {\n",
       "        vertical-align: top;\n",
       "    }\n",
       "</style>\n",
       "<table border=\"1\" class=\"dataframe\">\n",
       "  <thead>\n",
       "    <tr style=\"text-align: right;\">\n",
       "      <th></th>\n",
       "      <th>player_gender_orientation</th>\n",
       "      <th>like</th>\n",
       "      <th>subject_height</th>\n",
       "    </tr>\n",
       "  </thead>\n",
       "  <tbody>\n",
       "    <tr>\n",
       "      <th>0</th>\n",
       "      <td>FB</td>\n",
       "      <td>0</td>\n",
       "      <td>177.835417</td>\n",
       "    </tr>\n",
       "    <tr>\n",
       "      <th>1</th>\n",
       "      <td>FB</td>\n",
       "      <td>1</td>\n",
       "      <td>180.233051</td>\n",
       "    </tr>\n",
       "    <tr>\n",
       "      <th>2</th>\n",
       "      <td>FG</td>\n",
       "      <td>0</td>\n",
       "      <td>171.540107</td>\n",
       "    </tr>\n",
       "    <tr>\n",
       "      <th>3</th>\n",
       "      <td>FG</td>\n",
       "      <td>1</td>\n",
       "      <td>175.008621</td>\n",
       "    </tr>\n",
       "    <tr>\n",
       "      <th>4</th>\n",
       "      <td>FS</td>\n",
       "      <td>0</td>\n",
       "      <td>178.778113</td>\n",
       "    </tr>\n",
       "    <tr>\n",
       "      <th>5</th>\n",
       "      <td>FS</td>\n",
       "      <td>1</td>\n",
       "      <td>181.746824</td>\n",
       "    </tr>\n",
       "    <tr>\n",
       "      <th>6</th>\n",
       "      <td>MB</td>\n",
       "      <td>0</td>\n",
       "      <td>169.593985</td>\n",
       "    </tr>\n",
       "    <tr>\n",
       "      <th>7</th>\n",
       "      <td>MB</td>\n",
       "      <td>1</td>\n",
       "      <td>169.692308</td>\n",
       "    </tr>\n",
       "    <tr>\n",
       "      <th>8</th>\n",
       "      <td>MG</td>\n",
       "      <td>0</td>\n",
       "      <td>178.676875</td>\n",
       "    </tr>\n",
       "    <tr>\n",
       "      <th>9</th>\n",
       "      <td>MG</td>\n",
       "      <td>1</td>\n",
       "      <td>179.305630</td>\n",
       "    </tr>\n",
       "    <tr>\n",
       "      <th>10</th>\n",
       "      <td>MS</td>\n",
       "      <td>0</td>\n",
       "      <td>165.517260</td>\n",
       "    </tr>\n",
       "    <tr>\n",
       "      <th>11</th>\n",
       "      <td>MS</td>\n",
       "      <td>1</td>\n",
       "      <td>166.083784</td>\n",
       "    </tr>\n",
       "  </tbody>\n",
       "</table>\n",
       "</div>"
      ],
      "text/plain": [
       "   player_gender_orientation  like  subject_height\n",
       "0                         FB     0      177.835417\n",
       "1                         FB     1      180.233051\n",
       "2                         FG     0      171.540107\n",
       "3                         FG     1      175.008621\n",
       "4                         FS     0      178.778113\n",
       "5                         FS     1      181.746824\n",
       "6                         MB     0      169.593985\n",
       "7                         MB     1      169.692308\n",
       "8                         MG     0      178.676875\n",
       "9                         MG     1      179.305630\n",
       "10                        MS     0      165.517260\n",
       "11                        MS     1      166.083784"
      ]
     },
     "execution_count": 92,
     "metadata": {},
     "output_type": "execute_result"
    }
   ],
   "source": [
    "df.groupby(['player_gender_orientation','like'])['subject_height'].mean().reset_index()"
   ]
  },
  {
   "cell_type": "markdown",
   "metadata": {},
   "source": [
    "The more times a subject has been saved previously, the more likely this subject to be liked. It is probably due to the fact that this subject seems to be more desirable in general."
   ]
  },
  {
   "cell_type": "code",
   "execution_count": 93,
   "metadata": {},
   "outputs": [
    {
     "data": {
      "text/html": [
       "<div>\n",
       "<style>\n",
       "    .dataframe thead tr:only-child th {\n",
       "        text-align: right;\n",
       "    }\n",
       "\n",
       "    .dataframe thead th {\n",
       "        text-align: left;\n",
       "    }\n",
       "\n",
       "    .dataframe tbody tr th {\n",
       "        vertical-align: top;\n",
       "    }\n",
       "</style>\n",
       "<table border=\"1\" class=\"dataframe\">\n",
       "  <thead>\n",
       "    <tr style=\"text-align: right;\">\n",
       "      <th></th>\n",
       "      <th>player_gender_orientation</th>\n",
       "      <th>like</th>\n",
       "      <th>subject_saved</th>\n",
       "    </tr>\n",
       "  </thead>\n",
       "  <tbody>\n",
       "    <tr>\n",
       "      <th>0</th>\n",
       "      <td>FB</td>\n",
       "      <td>0</td>\n",
       "      <td>10.206326</td>\n",
       "    </tr>\n",
       "    <tr>\n",
       "      <th>1</th>\n",
       "      <td>FB</td>\n",
       "      <td>1</td>\n",
       "      <td>33.315678</td>\n",
       "    </tr>\n",
       "    <tr>\n",
       "      <th>2</th>\n",
       "      <td>FG</td>\n",
       "      <td>0</td>\n",
       "      <td>17.560428</td>\n",
       "    </tr>\n",
       "    <tr>\n",
       "      <th>3</th>\n",
       "      <td>FG</td>\n",
       "      <td>1</td>\n",
       "      <td>37.767241</td>\n",
       "    </tr>\n",
       "    <tr>\n",
       "      <th>4</th>\n",
       "      <td>FS</td>\n",
       "      <td>0</td>\n",
       "      <td>10.387967</td>\n",
       "    </tr>\n",
       "    <tr>\n",
       "      <th>5</th>\n",
       "      <td>FS</td>\n",
       "      <td>1</td>\n",
       "      <td>33.141634</td>\n",
       "    </tr>\n",
       "    <tr>\n",
       "      <th>6</th>\n",
       "      <td>MB</td>\n",
       "      <td>0</td>\n",
       "      <td>30.390977</td>\n",
       "    </tr>\n",
       "    <tr>\n",
       "      <th>7</th>\n",
       "      <td>MB</td>\n",
       "      <td>1</td>\n",
       "      <td>42.307692</td>\n",
       "    </tr>\n",
       "    <tr>\n",
       "      <th>8</th>\n",
       "      <td>MG</td>\n",
       "      <td>0</td>\n",
       "      <td>2.768125</td>\n",
       "    </tr>\n",
       "    <tr>\n",
       "      <th>9</th>\n",
       "      <td>MG</td>\n",
       "      <td>1</td>\n",
       "      <td>5.340483</td>\n",
       "    </tr>\n",
       "    <tr>\n",
       "      <th>10</th>\n",
       "      <td>MS</td>\n",
       "      <td>0</td>\n",
       "      <td>38.510339</td>\n",
       "    </tr>\n",
       "    <tr>\n",
       "      <th>11</th>\n",
       "      <td>MS</td>\n",
       "      <td>1</td>\n",
       "      <td>68.778730</td>\n",
       "    </tr>\n",
       "  </tbody>\n",
       "</table>\n",
       "</div>"
      ],
      "text/plain": [
       "   player_gender_orientation  like  subject_saved\n",
       "0                         FB     0      10.206326\n",
       "1                         FB     1      33.315678\n",
       "2                         FG     0      17.560428\n",
       "3                         FG     1      37.767241\n",
       "4                         FS     0      10.387967\n",
       "5                         FS     1      33.141634\n",
       "6                         MB     0      30.390977\n",
       "7                         MB     1      42.307692\n",
       "8                         MG     0       2.768125\n",
       "9                         MG     1       5.340483\n",
       "10                        MS     0      38.510339\n",
       "11                        MS     1      68.778730"
      ]
     },
     "execution_count": 93,
     "metadata": {},
     "output_type": "execute_result"
    }
   ],
   "source": [
    "df.groupby(['player_gender_orientation','like'])['subject_saved'].mean().reset_index()"
   ]
  },
  {
   "cell_type": "markdown",
   "metadata": {},
   "source": [
    "Rating does not seem to have a definite pattern and its effect varies across gender-orientation groups. There might be either an interaction between gender orientation and rating or this pattern is a coincidence.  To establish this, I need to know more about the predictor 'subject_rated'. If there is an interaction, then including this interaction into a predictive model can significantly increase the model’s predictive accuracy.  "
   ]
  },
  {
   "cell_type": "code",
   "execution_count": 101,
   "metadata": {},
   "outputs": [
    {
     "data": {
      "text/html": [
       "<div>\n",
       "<style>\n",
       "    .dataframe thead tr:only-child th {\n",
       "        text-align: right;\n",
       "    }\n",
       "\n",
       "    .dataframe thead th {\n",
       "        text-align: left;\n",
       "    }\n",
       "\n",
       "    .dataframe tbody tr th {\n",
       "        vertical-align: top;\n",
       "    }\n",
       "</style>\n",
       "<table border=\"1\" class=\"dataframe\">\n",
       "  <thead>\n",
       "    <tr style=\"text-align: right;\">\n",
       "      <th></th>\n",
       "      <th>player_gender_orientation</th>\n",
       "      <th>like</th>\n",
       "      <th>subject_rated</th>\n",
       "    </tr>\n",
       "  </thead>\n",
       "  <tbody>\n",
       "    <tr>\n",
       "      <th>0</th>\n",
       "      <td>FB</td>\n",
       "      <td>0</td>\n",
       "      <td>156.826591</td>\n",
       "    </tr>\n",
       "    <tr>\n",
       "      <th>1</th>\n",
       "      <td>FB</td>\n",
       "      <td>1</td>\n",
       "      <td>154.699153</td>\n",
       "    </tr>\n",
       "    <tr>\n",
       "      <th>2</th>\n",
       "      <td>FG</td>\n",
       "      <td>0</td>\n",
       "      <td>138.316578</td>\n",
       "    </tr>\n",
       "    <tr>\n",
       "      <th>3</th>\n",
       "      <td>FG</td>\n",
       "      <td>1</td>\n",
       "      <td>165.267241</td>\n",
       "    </tr>\n",
       "    <tr>\n",
       "      <th>4</th>\n",
       "      <td>FS</td>\n",
       "      <td>0</td>\n",
       "      <td>152.727078</td>\n",
       "    </tr>\n",
       "    <tr>\n",
       "      <th>5</th>\n",
       "      <td>FS</td>\n",
       "      <td>1</td>\n",
       "      <td>146.959609</td>\n",
       "    </tr>\n",
       "    <tr>\n",
       "      <th>6</th>\n",
       "      <td>MB</td>\n",
       "      <td>0</td>\n",
       "      <td>149.548872</td>\n",
       "    </tr>\n",
       "    <tr>\n",
       "      <th>7</th>\n",
       "      <td>MB</td>\n",
       "      <td>1</td>\n",
       "      <td>145.461538</td>\n",
       "    </tr>\n",
       "    <tr>\n",
       "      <th>8</th>\n",
       "      <td>MG</td>\n",
       "      <td>0</td>\n",
       "      <td>26.005000</td>\n",
       "    </tr>\n",
       "    <tr>\n",
       "      <th>9</th>\n",
       "      <td>MG</td>\n",
       "      <td>1</td>\n",
       "      <td>25.549598</td>\n",
       "    </tr>\n",
       "    <tr>\n",
       "      <th>10</th>\n",
       "      <td>MS</td>\n",
       "      <td>0</td>\n",
       "      <td>179.271559</td>\n",
       "    </tr>\n",
       "    <tr>\n",
       "      <th>11</th>\n",
       "      <td>MS</td>\n",
       "      <td>1</td>\n",
       "      <td>169.323728</td>\n",
       "    </tr>\n",
       "  </tbody>\n",
       "</table>\n",
       "</div>"
      ],
      "text/plain": [
       "   player_gender_orientation  like  subject_rated\n",
       "0                         FB     0     156.826591\n",
       "1                         FB     1     154.699153\n",
       "2                         FG     0     138.316578\n",
       "3                         FG     1     165.267241\n",
       "4                         FS     0     152.727078\n",
       "5                         FS     1     146.959609\n",
       "6                         MB     0     149.548872\n",
       "7                         MB     1     145.461538\n",
       "8                         MG     0      26.005000\n",
       "9                         MG     1      25.549598\n",
       "10                        MS     0     179.271559\n",
       "11                        MS     1     169.323728"
      ]
     },
     "execution_count": 101,
     "metadata": {},
     "output_type": "execute_result"
    }
   ],
   "source": [
    "df.groupby(['player_gender_orientation','like'])['subject_rated'].mean().reset_index()\n"
   ]
  },
  {
   "cell_type": "markdown",
   "metadata": {},
   "source": [
    "There are possibly more interesting patterns and anomalies, however, I will need more time to look into them. I would like to devote more time to building the algorithm."
   ]
  },
  {
   "cell_type": "code",
   "execution_count": null,
   "metadata": {},
   "outputs": [],
   "source": []
  }
 ],
 "metadata": {
  "kernelspec": {
   "display_name": "Python 3",
   "language": "python",
   "name": "python3"
  },
  "language_info": {
   "codemirror_mode": {
    "name": "ipython",
    "version": 3
   },
   "file_extension": ".py",
   "mimetype": "text/x-python",
   "name": "python",
   "nbconvert_exporter": "python",
   "pygments_lexer": "ipython3",
   "version": "3.6.3"
  }
 },
 "nbformat": 4,
 "nbformat_minor": 2
}
