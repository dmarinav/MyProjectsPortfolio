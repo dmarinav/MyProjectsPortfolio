{
 "cells": [
  {
   "cell_type": "code",
   "execution_count": 1,
   "metadata": {
    "collapsed": true
   },
   "outputs": [],
   "source": [
    "import pandas as pd \n",
    "from IPython.display import display\n",
    "import matplotlib.pyplot as plt\n",
    "import seaborn as sns\n",
    "%matplotlib inline\n",
    "import pandas as pd\n",
    "import numpy as np"
   ]
  },
  {
   "cell_type": "code",
   "execution_count": 2,
   "metadata": {
    "collapsed": true
   },
   "outputs": [],
   "source": [
    "pd.set_option('display.max_colwidth', -1)\n",
    "pd.set_option('display.max_rows', 1000)"
   ]
  },
  {
   "cell_type": "code",
   "execution_count": 3,
   "metadata": {},
   "outputs": [
    {
     "name": "stdout",
     "output_type": "stream",
     "text": [
      "<class 'pandas.core.frame.DataFrame'>\n",
      "RangeIndex: 1000 entries, 0 to 999\n",
      "Columns: 933 entries, Facility_0264_A to Facility_0021_C\n",
      "dtypes: float64(933)\n",
      "memory usage: 7.1 MB\n"
     ]
    }
   ],
   "source": [
    "df1 = pd.read_csv('facilities_error_rates_data.csv', encoding='utf8')\n",
    "df2 = pd.read_csv('radiology_practice_data.csv', encoding='utf8')\n",
    "\n",
    "\n",
    "df1.info()"
   ]
  },
  {
   "cell_type": "code",
   "execution_count": 4,
   "metadata": {},
   "outputs": [
    {
     "name": "stdout",
     "output_type": "stream",
     "text": [
      "<class 'pandas.core.frame.DataFrame'>\n",
      "RangeIndex: 311 entries, 0 to 310\n",
      "Data columns (total 5 columns):\n",
      "parent_id                311 non-null int64\n",
      "facility_id              311 non-null object\n",
      "anatomy_a_exam_volume    311 non-null int64\n",
      "anatomy_b_exam_volume    311 non-null int64\n",
      "anatomy_c_exam_volume    311 non-null int64\n",
      "dtypes: int64(4), object(1)\n",
      "memory usage: 12.2+ KB\n"
     ]
    }
   ],
   "source": [
    "df2.info()"
   ]
  },
  {
   "cell_type": "markdown",
   "metadata": {},
   "source": [
    "# PART 1"
   ]
  },
  {
   "cell_type": "markdown",
   "metadata": {},
   "source": [
    "### Estimating a weighted average error rate for Population across various exam types"
   ]
  },
  {
   "cell_type": "code",
   "execution_count": 5,
   "metadata": {
    "collapsed": true
   },
   "outputs": [],
   "source": [
    "# Transposing the data frame and reseting index\n",
    "\n",
    "df3=df1.T.reset_index()"
   ]
  },
  {
   "cell_type": "code",
   "execution_count": 6,
   "metadata": {
    "collapsed": true
   },
   "outputs": [],
   "source": [
    "df3['exam']=df3['index'].map(lambda y: y.split('_')[2])\n",
    "df3['facility_id']=df3['index'].map(lambda y: y.split('_')[:2])\n",
    "df3['facility_id']=df3['facility_id'].apply(lambda y: str(y[0])+'_'+str(y[1]))\n",
    "    "
   ]
  },
  {
   "cell_type": "code",
   "execution_count": 7,
   "metadata": {
    "collapsed": true
   },
   "outputs": [],
   "source": [
    "df_A=df3[df3['exam']=='A'].copy()\n",
    "new_cols=[str(i)+'_'+'A'for i in df_A.columns]\n",
    "df_A.rename(columns=dict(zip(df_A.columns[:-1], new_cols)),inplace=True)"
   ]
  },
  {
   "cell_type": "code",
   "execution_count": 8,
   "metadata": {
    "collapsed": true
   },
   "outputs": [],
   "source": [
    "data_A=pd.merge(df_A, df2.iloc[:,1:3], on=['facility_id'])\n"
   ]
  },
  {
   "cell_type": "code",
   "execution_count": 9,
   "metadata": {
    "collapsed": true
   },
   "outputs": [],
   "source": [
    "s_A=data_A.iloc[:,1:1001].multiply(data_A['anatomy_a_exam_volume'],axis=\"index\")\n"
   ]
  },
  {
   "cell_type": "code",
   "execution_count": 10,
   "metadata": {
    "collapsed": true
   },
   "outputs": [],
   "source": [
    "df_B=df3[df3['exam']=='B'].copy()\n",
    "new_cols=[str(i)+'_'+'B'for i in df_B.columns]\n",
    "df_B.rename(columns=dict(zip(df_B.columns[:-1], new_cols)),inplace=True)"
   ]
  },
  {
   "cell_type": "code",
   "execution_count": 11,
   "metadata": {
    "collapsed": true
   },
   "outputs": [],
   "source": [
    "data_B=pd.merge(df_B, df2.iloc[:,1:4], on=['facility_id'])\n"
   ]
  },
  {
   "cell_type": "code",
   "execution_count": 12,
   "metadata": {
    "collapsed": true
   },
   "outputs": [],
   "source": [
    "s_B=data_B.iloc[:,1:1001].multiply(data_B['anatomy_b_exam_volume'],axis=\"index\")"
   ]
  },
  {
   "cell_type": "code",
   "execution_count": 13,
   "metadata": {
    "collapsed": true
   },
   "outputs": [],
   "source": [
    "df_C=df3[df3['exam']=='C'].copy()\n",
    "new_cols=[str(i)+'_'+'C'for i in df_C.columns]\n",
    "df_C.rename(columns=dict(zip(df_C.columns[:-1], new_cols)),inplace=True)"
   ]
  },
  {
   "cell_type": "code",
   "execution_count": 14,
   "metadata": {
    "collapsed": true
   },
   "outputs": [],
   "source": [
    "data_C=pd.merge(df_C, df2.iloc[:,1:5], on=['facility_id'])\n"
   ]
  },
  {
   "cell_type": "code",
   "execution_count": 15,
   "metadata": {
    "collapsed": true
   },
   "outputs": [],
   "source": [
    "s_C=data_C.iloc[:,1:1001].multiply(data_C['anatomy_c_exam_volume'],axis=\"index\")"
   ]
  },
  {
   "cell_type": "code",
   "execution_count": 16,
   "metadata": {
    "collapsed": true
   },
   "outputs": [],
   "source": [
    "df_all=pd.DataFrame(s_A.as_matrix()+s_B.as_matrix()+s_C.as_matrix())"
   ]
  },
  {
   "cell_type": "code",
   "execution_count": 17,
   "metadata": {
    "collapsed": true
   },
   "outputs": [],
   "source": [
    "df_all=pd.concat([data_A['facility_id'],df_all], axis=1)"
   ]
  },
  {
   "cell_type": "code",
   "execution_count": 18,
   "metadata": {
    "collapsed": true
   },
   "outputs": [],
   "source": [
    "data_all=pd.merge(df2, df_all, on=['facility_id'])\n",
    "\n"
   ]
  },
  {
   "cell_type": "code",
   "execution_count": 19,
   "metadata": {
    "collapsed": true
   },
   "outputs": [],
   "source": [
    "data_all['exam_volume_sum']=data_all['anatomy_a_exam_volume'] +data_all['anatomy_b_exam_volume']+data_all['anatomy_c_exam_volume']"
   ]
  },
  {
   "cell_type": "code",
   "execution_count": 20,
   "metadata": {
    "collapsed": true
   },
   "outputs": [],
   "source": [
    "data_all_1=data_all.iloc[:,5:-1].divide(data_all['exam_volume_sum'],axis=\"index\")\n",
    "\n"
   ]
  },
  {
   "cell_type": "code",
   "execution_count": 21,
   "metadata": {
    "collapsed": true
   },
   "outputs": [],
   "source": [
    "data_final=pd.concat([data_A['facility_id'],data_all_1], axis=1)"
   ]
  },
  {
   "cell_type": "code",
   "execution_count": 22,
   "metadata": {},
   "outputs": [
    {
     "data": {
      "text/html": [
       "<div>\n",
       "<style>\n",
       "    .dataframe thead tr:only-child th {\n",
       "        text-align: right;\n",
       "    }\n",
       "\n",
       "    .dataframe thead th {\n",
       "        text-align: left;\n",
       "    }\n",
       "\n",
       "    .dataframe tbody tr th {\n",
       "        vertical-align: top;\n",
       "    }\n",
       "</style>\n",
       "<table border=\"1\" class=\"dataframe\">\n",
       "  <thead>\n",
       "    <tr style=\"text-align: right;\">\n",
       "      <th></th>\n",
       "      <th>facility_id</th>\n",
       "      <th>0</th>\n",
       "      <th>1</th>\n",
       "      <th>2</th>\n",
       "      <th>3</th>\n",
       "      <th>4</th>\n",
       "      <th>5</th>\n",
       "      <th>6</th>\n",
       "      <th>7</th>\n",
       "      <th>8</th>\n",
       "      <th>...</th>\n",
       "      <th>990</th>\n",
       "      <th>991</th>\n",
       "      <th>992</th>\n",
       "      <th>993</th>\n",
       "      <th>994</th>\n",
       "      <th>995</th>\n",
       "      <th>996</th>\n",
       "      <th>997</th>\n",
       "      <th>998</th>\n",
       "      <th>999</th>\n",
       "    </tr>\n",
       "  </thead>\n",
       "  <tbody>\n",
       "    <tr>\n",
       "      <th>0</th>\n",
       "      <td>Facility_0264</td>\n",
       "      <td>0.031783</td>\n",
       "      <td>0.028786</td>\n",
       "      <td>0.036388</td>\n",
       "      <td>0.027582</td>\n",
       "      <td>0.027896</td>\n",
       "      <td>0.025476</td>\n",
       "      <td>0.032638</td>\n",
       "      <td>0.031408</td>\n",
       "      <td>0.029912</td>\n",
       "      <td>...</td>\n",
       "      <td>0.031124</td>\n",
       "      <td>0.029281</td>\n",
       "      <td>0.032823</td>\n",
       "      <td>0.029763</td>\n",
       "      <td>0.025632</td>\n",
       "      <td>0.022270</td>\n",
       "      <td>0.029164</td>\n",
       "      <td>0.029986</td>\n",
       "      <td>0.030704</td>\n",
       "      <td>0.037376</td>\n",
       "    </tr>\n",
       "    <tr>\n",
       "      <th>1</th>\n",
       "      <td>Facility_0301</td>\n",
       "      <td>0.269745</td>\n",
       "      <td>0.234471</td>\n",
       "      <td>0.229956</td>\n",
       "      <td>0.207903</td>\n",
       "      <td>0.262946</td>\n",
       "      <td>0.262699</td>\n",
       "      <td>0.239258</td>\n",
       "      <td>0.278468</td>\n",
       "      <td>0.253754</td>\n",
       "      <td>...</td>\n",
       "      <td>0.246143</td>\n",
       "      <td>0.232332</td>\n",
       "      <td>0.273544</td>\n",
       "      <td>0.269466</td>\n",
       "      <td>0.247630</td>\n",
       "      <td>0.259992</td>\n",
       "      <td>0.282825</td>\n",
       "      <td>0.314680</td>\n",
       "      <td>0.235005</td>\n",
       "      <td>0.255889</td>\n",
       "    </tr>\n",
       "    <tr>\n",
       "      <th>2</th>\n",
       "      <td>Facility_0310</td>\n",
       "      <td>0.142657</td>\n",
       "      <td>0.151259</td>\n",
       "      <td>0.142772</td>\n",
       "      <td>0.136024</td>\n",
       "      <td>0.134451</td>\n",
       "      <td>0.154550</td>\n",
       "      <td>0.139490</td>\n",
       "      <td>0.141200</td>\n",
       "      <td>0.147731</td>\n",
       "      <td>...</td>\n",
       "      <td>0.145342</td>\n",
       "      <td>0.123114</td>\n",
       "      <td>0.140860</td>\n",
       "      <td>0.138390</td>\n",
       "      <td>0.144968</td>\n",
       "      <td>0.140664</td>\n",
       "      <td>0.144690</td>\n",
       "      <td>0.131341</td>\n",
       "      <td>0.142198</td>\n",
       "      <td>0.136873</td>\n",
       "    </tr>\n",
       "    <tr>\n",
       "      <th>3</th>\n",
       "      <td>Facility_0156</td>\n",
       "      <td>0.066078</td>\n",
       "      <td>0.116969</td>\n",
       "      <td>0.035753</td>\n",
       "      <td>0.061968</td>\n",
       "      <td>0.076893</td>\n",
       "      <td>0.045461</td>\n",
       "      <td>0.095132</td>\n",
       "      <td>0.161350</td>\n",
       "      <td>0.092989</td>\n",
       "      <td>...</td>\n",
       "      <td>0.040615</td>\n",
       "      <td>0.050714</td>\n",
       "      <td>0.143067</td>\n",
       "      <td>0.044882</td>\n",
       "      <td>0.053509</td>\n",
       "      <td>0.135221</td>\n",
       "      <td>0.151103</td>\n",
       "      <td>0.080826</td>\n",
       "      <td>0.040965</td>\n",
       "      <td>0.077580</td>\n",
       "    </tr>\n",
       "    <tr>\n",
       "      <th>4</th>\n",
       "      <td>Facility_0009</td>\n",
       "      <td>0.386058</td>\n",
       "      <td>0.363962</td>\n",
       "      <td>0.454798</td>\n",
       "      <td>0.360838</td>\n",
       "      <td>0.387461</td>\n",
       "      <td>0.385500</td>\n",
       "      <td>0.343959</td>\n",
       "      <td>0.413509</td>\n",
       "      <td>0.406072</td>\n",
       "      <td>...</td>\n",
       "      <td>0.339221</td>\n",
       "      <td>0.352862</td>\n",
       "      <td>0.379755</td>\n",
       "      <td>0.373487</td>\n",
       "      <td>0.402840</td>\n",
       "      <td>0.400167</td>\n",
       "      <td>0.402509</td>\n",
       "      <td>0.360588</td>\n",
       "      <td>0.362250</td>\n",
       "      <td>0.379045</td>\n",
       "    </tr>\n",
       "  </tbody>\n",
       "</table>\n",
       "<p>5 rows × 1001 columns</p>\n",
       "</div>"
      ],
      "text/plain": [
       "     facility_id         0         1         2         3         4         5  \\\n",
       "0  Facility_0264  0.031783  0.028786  0.036388  0.027582  0.027896  0.025476   \n",
       "1  Facility_0301  0.269745  0.234471  0.229956  0.207903  0.262946  0.262699   \n",
       "2  Facility_0310  0.142657  0.151259  0.142772  0.136024  0.134451  0.154550   \n",
       "3  Facility_0156  0.066078  0.116969  0.035753  0.061968  0.076893  0.045461   \n",
       "4  Facility_0009  0.386058  0.363962  0.454798  0.360838  0.387461  0.385500   \n",
       "\n",
       "          6         7         8    ...          990       991       992  \\\n",
       "0  0.032638  0.031408  0.029912    ...     0.031124  0.029281  0.032823   \n",
       "1  0.239258  0.278468  0.253754    ...     0.246143  0.232332  0.273544   \n",
       "2  0.139490  0.141200  0.147731    ...     0.145342  0.123114  0.140860   \n",
       "3  0.095132  0.161350  0.092989    ...     0.040615  0.050714  0.143067   \n",
       "4  0.343959  0.413509  0.406072    ...     0.339221  0.352862  0.379755   \n",
       "\n",
       "        993       994       995       996       997       998       999  \n",
       "0  0.029763  0.025632  0.022270  0.029164  0.029986  0.030704  0.037376  \n",
       "1  0.269466  0.247630  0.259992  0.282825  0.314680  0.235005  0.255889  \n",
       "2  0.138390  0.144968  0.140664  0.144690  0.131341  0.142198  0.136873  \n",
       "3  0.044882  0.053509  0.135221  0.151103  0.080826  0.040965  0.077580  \n",
       "4  0.373487  0.402840  0.400167  0.402509  0.360588  0.362250  0.379045  \n",
       "\n",
       "[5 rows x 1001 columns]"
      ]
     },
     "execution_count": 22,
     "metadata": {},
     "output_type": "execute_result"
    }
   ],
   "source": [
    "data_final.head()"
   ]
  },
  {
   "cell_type": "markdown",
   "metadata": {
    "collapsed": true
   },
   "source": [
    "### Estimating a weighted average error rate for Provider 0 across various exam types"
   ]
  },
  {
   "cell_type": "code",
   "execution_count": 23,
   "metadata": {
    "collapsed": true
   },
   "outputs": [],
   "source": [
    "data_parent_id=pd.merge(data_all[['parent_id','facility_id']], data_final, on=['facility_id'])"
   ]
  },
  {
   "cell_type": "code",
   "execution_count": 24,
   "metadata": {},
   "outputs": [
    {
     "data": {
      "text/html": [
       "<div>\n",
       "<style>\n",
       "    .dataframe thead tr:only-child th {\n",
       "        text-align: right;\n",
       "    }\n",
       "\n",
       "    .dataframe thead th {\n",
       "        text-align: left;\n",
       "    }\n",
       "\n",
       "    .dataframe tbody tr th {\n",
       "        vertical-align: top;\n",
       "    }\n",
       "</style>\n",
       "<table border=\"1\" class=\"dataframe\">\n",
       "  <thead>\n",
       "    <tr style=\"text-align: right;\">\n",
       "      <th></th>\n",
       "      <th>parent_id</th>\n",
       "      <th>facility_id</th>\n",
       "      <th>0</th>\n",
       "      <th>1</th>\n",
       "      <th>2</th>\n",
       "      <th>3</th>\n",
       "      <th>4</th>\n",
       "      <th>5</th>\n",
       "      <th>6</th>\n",
       "      <th>7</th>\n",
       "      <th>...</th>\n",
       "      <th>990</th>\n",
       "      <th>991</th>\n",
       "      <th>992</th>\n",
       "      <th>993</th>\n",
       "      <th>994</th>\n",
       "      <th>995</th>\n",
       "      <th>996</th>\n",
       "      <th>997</th>\n",
       "      <th>998</th>\n",
       "      <th>999</th>\n",
       "    </tr>\n",
       "  </thead>\n",
       "  <tbody>\n",
       "    <tr>\n",
       "      <th>2</th>\n",
       "      <td>0</td>\n",
       "      <td>Facility_0310</td>\n",
       "      <td>0.142657</td>\n",
       "      <td>0.151259</td>\n",
       "      <td>0.142772</td>\n",
       "      <td>0.136024</td>\n",
       "      <td>0.134451</td>\n",
       "      <td>0.154550</td>\n",
       "      <td>0.139490</td>\n",
       "      <td>0.141200</td>\n",
       "      <td>...</td>\n",
       "      <td>0.145342</td>\n",
       "      <td>0.123114</td>\n",
       "      <td>0.140860</td>\n",
       "      <td>0.138390</td>\n",
       "      <td>0.144968</td>\n",
       "      <td>0.140664</td>\n",
       "      <td>0.144690</td>\n",
       "      <td>0.131341</td>\n",
       "      <td>0.142198</td>\n",
       "      <td>0.136873</td>\n",
       "    </tr>\n",
       "    <tr>\n",
       "      <th>52</th>\n",
       "      <td>0</td>\n",
       "      <td>Facility_0311</td>\n",
       "      <td>0.093934</td>\n",
       "      <td>0.091443</td>\n",
       "      <td>0.106611</td>\n",
       "      <td>0.094951</td>\n",
       "      <td>0.101161</td>\n",
       "      <td>0.106449</td>\n",
       "      <td>0.095327</td>\n",
       "      <td>0.102173</td>\n",
       "      <td>...</td>\n",
       "      <td>0.109018</td>\n",
       "      <td>0.112999</td>\n",
       "      <td>0.104802</td>\n",
       "      <td>0.107331</td>\n",
       "      <td>0.103767</td>\n",
       "      <td>0.116001</td>\n",
       "      <td>0.106820</td>\n",
       "      <td>0.111043</td>\n",
       "      <td>0.096411</td>\n",
       "      <td>0.117253</td>\n",
       "    </tr>\n",
       "    <tr>\n",
       "      <th>113</th>\n",
       "      <td>0</td>\n",
       "      <td>Facility_0308</td>\n",
       "      <td>0.123717</td>\n",
       "      <td>0.117951</td>\n",
       "      <td>0.107032</td>\n",
       "      <td>0.115629</td>\n",
       "      <td>0.120879</td>\n",
       "      <td>0.128233</td>\n",
       "      <td>0.122325</td>\n",
       "      <td>0.119523</td>\n",
       "      <td>...</td>\n",
       "      <td>0.126801</td>\n",
       "      <td>0.122948</td>\n",
       "      <td>0.113776</td>\n",
       "      <td>0.137274</td>\n",
       "      <td>0.113226</td>\n",
       "      <td>0.112904</td>\n",
       "      <td>0.109100</td>\n",
       "      <td>0.123032</td>\n",
       "      <td>0.104678</td>\n",
       "      <td>0.107263</td>\n",
       "    </tr>\n",
       "    <tr>\n",
       "      <th>254</th>\n",
       "      <td>0</td>\n",
       "      <td>Facility_0309</td>\n",
       "      <td>0.185924</td>\n",
       "      <td>0.188510</td>\n",
       "      <td>0.186599</td>\n",
       "      <td>0.195713</td>\n",
       "      <td>0.189753</td>\n",
       "      <td>0.207276</td>\n",
       "      <td>0.209604</td>\n",
       "      <td>0.196825</td>\n",
       "      <td>...</td>\n",
       "      <td>0.193656</td>\n",
       "      <td>0.194640</td>\n",
       "      <td>0.208923</td>\n",
       "      <td>0.203466</td>\n",
       "      <td>0.207139</td>\n",
       "      <td>0.190658</td>\n",
       "      <td>0.184622</td>\n",
       "      <td>0.202120</td>\n",
       "      <td>0.204900</td>\n",
       "      <td>0.205666</td>\n",
       "    </tr>\n",
       "  </tbody>\n",
       "</table>\n",
       "<p>4 rows × 1002 columns</p>\n",
       "</div>"
      ],
      "text/plain": [
       "     parent_id    facility_id         0         1         2         3  \\\n",
       "2    0          Facility_0310  0.142657  0.151259  0.142772  0.136024   \n",
       "52   0          Facility_0311  0.093934  0.091443  0.106611  0.094951   \n",
       "113  0          Facility_0308  0.123717  0.117951  0.107032  0.115629   \n",
       "254  0          Facility_0309  0.185924  0.188510  0.186599  0.195713   \n",
       "\n",
       "            4         5         6         7    ...          990       991  \\\n",
       "2    0.134451  0.154550  0.139490  0.141200    ...     0.145342  0.123114   \n",
       "52   0.101161  0.106449  0.095327  0.102173    ...     0.109018  0.112999   \n",
       "113  0.120879  0.128233  0.122325  0.119523    ...     0.126801  0.122948   \n",
       "254  0.189753  0.207276  0.209604  0.196825    ...     0.193656  0.194640   \n",
       "\n",
       "          992       993       994       995       996       997       998  \\\n",
       "2    0.140860  0.138390  0.144968  0.140664  0.144690  0.131341  0.142198   \n",
       "52   0.104802  0.107331  0.103767  0.116001  0.106820  0.111043  0.096411   \n",
       "113  0.113776  0.137274  0.113226  0.112904  0.109100  0.123032  0.104678   \n",
       "254  0.208923  0.203466  0.207139  0.190658  0.184622  0.202120  0.204900   \n",
       "\n",
       "          999  \n",
       "2    0.136873  \n",
       "52   0.117253  \n",
       "113  0.107263  \n",
       "254  0.205666  \n",
       "\n",
       "[4 rows x 1002 columns]"
      ]
     },
     "execution_count": 24,
     "metadata": {},
     "output_type": "execute_result"
    }
   ],
   "source": [
    "data_provider0=data_parent_id[data_parent_id['parent_id']==0]\n",
    "\n",
    "data_provider0"
   ]
  },
  {
   "cell_type": "code",
   "execution_count": 25,
   "metadata": {},
   "outputs": [
    {
     "data": {
      "text/html": [
       "<div>\n",
       "<style>\n",
       "    .dataframe thead tr:only-child th {\n",
       "        text-align: right;\n",
       "    }\n",
       "\n",
       "    .dataframe thead th {\n",
       "        text-align: left;\n",
       "    }\n",
       "\n",
       "    .dataframe tbody tr th {\n",
       "        vertical-align: top;\n",
       "    }\n",
       "</style>\n",
       "<table border=\"1\" class=\"dataframe\">\n",
       "  <thead>\n",
       "    <tr style=\"text-align: right;\">\n",
       "      <th></th>\n",
       "      <th>facility_id</th>\n",
       "      <th>0</th>\n",
       "      <th>1</th>\n",
       "      <th>2</th>\n",
       "      <th>3</th>\n",
       "      <th>4</th>\n",
       "      <th>5</th>\n",
       "      <th>6</th>\n",
       "      <th>7</th>\n",
       "      <th>8</th>\n",
       "      <th>...</th>\n",
       "      <th>990</th>\n",
       "      <th>991</th>\n",
       "      <th>992</th>\n",
       "      <th>993</th>\n",
       "      <th>994</th>\n",
       "      <th>995</th>\n",
       "      <th>996</th>\n",
       "      <th>997</th>\n",
       "      <th>998</th>\n",
       "      <th>999</th>\n",
       "    </tr>\n",
       "  </thead>\n",
       "  <tbody>\n",
       "    <tr>\n",
       "      <th>0</th>\n",
       "      <td>Facility_0310</td>\n",
       "      <td>0.142657</td>\n",
       "      <td>0.151259</td>\n",
       "      <td>0.142772</td>\n",
       "      <td>0.136024</td>\n",
       "      <td>0.134451</td>\n",
       "      <td>0.154550</td>\n",
       "      <td>0.139490</td>\n",
       "      <td>0.141200</td>\n",
       "      <td>0.147731</td>\n",
       "      <td>...</td>\n",
       "      <td>0.145342</td>\n",
       "      <td>0.123114</td>\n",
       "      <td>0.140860</td>\n",
       "      <td>0.138390</td>\n",
       "      <td>0.144968</td>\n",
       "      <td>0.140664</td>\n",
       "      <td>0.144690</td>\n",
       "      <td>0.131341</td>\n",
       "      <td>0.142198</td>\n",
       "      <td>0.136873</td>\n",
       "    </tr>\n",
       "    <tr>\n",
       "      <th>1</th>\n",
       "      <td>Facility_0311</td>\n",
       "      <td>0.093934</td>\n",
       "      <td>0.091443</td>\n",
       "      <td>0.106611</td>\n",
       "      <td>0.094951</td>\n",
       "      <td>0.101161</td>\n",
       "      <td>0.106449</td>\n",
       "      <td>0.095327</td>\n",
       "      <td>0.102173</td>\n",
       "      <td>0.125421</td>\n",
       "      <td>...</td>\n",
       "      <td>0.109018</td>\n",
       "      <td>0.112999</td>\n",
       "      <td>0.104802</td>\n",
       "      <td>0.107331</td>\n",
       "      <td>0.103767</td>\n",
       "      <td>0.116001</td>\n",
       "      <td>0.106820</td>\n",
       "      <td>0.111043</td>\n",
       "      <td>0.096411</td>\n",
       "      <td>0.117253</td>\n",
       "    </tr>\n",
       "    <tr>\n",
       "      <th>2</th>\n",
       "      <td>Facility_0308</td>\n",
       "      <td>0.123717</td>\n",
       "      <td>0.117951</td>\n",
       "      <td>0.107032</td>\n",
       "      <td>0.115629</td>\n",
       "      <td>0.120879</td>\n",
       "      <td>0.128233</td>\n",
       "      <td>0.122325</td>\n",
       "      <td>0.119523</td>\n",
       "      <td>0.113774</td>\n",
       "      <td>...</td>\n",
       "      <td>0.126801</td>\n",
       "      <td>0.122948</td>\n",
       "      <td>0.113776</td>\n",
       "      <td>0.137274</td>\n",
       "      <td>0.113226</td>\n",
       "      <td>0.112904</td>\n",
       "      <td>0.109100</td>\n",
       "      <td>0.123032</td>\n",
       "      <td>0.104678</td>\n",
       "      <td>0.107263</td>\n",
       "    </tr>\n",
       "    <tr>\n",
       "      <th>3</th>\n",
       "      <td>Facility_0309</td>\n",
       "      <td>0.185924</td>\n",
       "      <td>0.188510</td>\n",
       "      <td>0.186599</td>\n",
       "      <td>0.195713</td>\n",
       "      <td>0.189753</td>\n",
       "      <td>0.207276</td>\n",
       "      <td>0.209604</td>\n",
       "      <td>0.196825</td>\n",
       "      <td>0.202640</td>\n",
       "      <td>...</td>\n",
       "      <td>0.193656</td>\n",
       "      <td>0.194640</td>\n",
       "      <td>0.208923</td>\n",
       "      <td>0.203466</td>\n",
       "      <td>0.207139</td>\n",
       "      <td>0.190658</td>\n",
       "      <td>0.184622</td>\n",
       "      <td>0.202120</td>\n",
       "      <td>0.204900</td>\n",
       "      <td>0.205666</td>\n",
       "    </tr>\n",
       "  </tbody>\n",
       "</table>\n",
       "<p>4 rows × 1001 columns</p>\n",
       "</div>"
      ],
      "text/plain": [
       "     facility_id         0         1         2         3         4         5  \\\n",
       "0  Facility_0310  0.142657  0.151259  0.142772  0.136024  0.134451  0.154550   \n",
       "1  Facility_0311  0.093934  0.091443  0.106611  0.094951  0.101161  0.106449   \n",
       "2  Facility_0308  0.123717  0.117951  0.107032  0.115629  0.120879  0.128233   \n",
       "3  Facility_0309  0.185924  0.188510  0.186599  0.195713  0.189753  0.207276   \n",
       "\n",
       "          6         7         8    ...          990       991       992  \\\n",
       "0  0.139490  0.141200  0.147731    ...     0.145342  0.123114  0.140860   \n",
       "1  0.095327  0.102173  0.125421    ...     0.109018  0.112999  0.104802   \n",
       "2  0.122325  0.119523  0.113774    ...     0.126801  0.122948  0.113776   \n",
       "3  0.209604  0.196825  0.202640    ...     0.193656  0.194640  0.208923   \n",
       "\n",
       "        993       994       995       996       997       998       999  \n",
       "0  0.138390  0.144968  0.140664  0.144690  0.131341  0.142198  0.136873  \n",
       "1  0.107331  0.103767  0.116001  0.106820  0.111043  0.096411  0.117253  \n",
       "2  0.137274  0.113226  0.112904  0.109100  0.123032  0.104678  0.107263  \n",
       "3  0.203466  0.207139  0.190658  0.184622  0.202120  0.204900  0.205666  \n",
       "\n",
       "[4 rows x 1001 columns]"
      ]
     },
     "execution_count": 25,
     "metadata": {},
     "output_type": "execute_result"
    }
   ],
   "source": [
    "data_provider0=data_provider0.iloc[:,1:].reset_index(drop=True)\n",
    "\n",
    "data_provider0"
   ]
  },
  {
   "cell_type": "code",
   "execution_count": 26,
   "metadata": {
    "collapsed": true
   },
   "outputs": [],
   "source": [
    "df_provider0=data_provider0.set_index('facility_id').transpose()\n",
    "\n"
   ]
  },
  {
   "cell_type": "code",
   "execution_count": 27,
   "metadata": {
    "collapsed": true
   },
   "outputs": [],
   "source": [
    "df_provider0['provider0']=df_provider0.mean(axis=1)\n"
   ]
  },
  {
   "cell_type": "code",
   "execution_count": 28,
   "metadata": {
    "collapsed": true
   },
   "outputs": [],
   "source": [
    "### Calculating average for the population benchmark"
   ]
  },
  {
   "cell_type": "code",
   "execution_count": 29,
   "metadata": {
    "collapsed": true
   },
   "outputs": [],
   "source": [
    "d=data_final.set_index('facility_id')"
   ]
  },
  {
   "cell_type": "code",
   "execution_count": 30,
   "metadata": {
    "collapsed": true
   },
   "outputs": [],
   "source": [
    "df_final=d.transpose()"
   ]
  },
  {
   "cell_type": "code",
   "execution_count": 31,
   "metadata": {
    "collapsed": true
   },
   "outputs": [],
   "source": [
    "df_final['benchmark']=df_final.mean(axis=1)"
   ]
  },
  {
   "cell_type": "code",
   "execution_count": 32,
   "metadata": {
    "collapsed": true
   },
   "outputs": [],
   "source": [
    "data_vis1=pd.concat([df_provider0['provider0'], df_final['benchmark']], axis=1, join_axes=[ df_final.index])"
   ]
  },
  {
   "cell_type": "code",
   "execution_count": 35,
   "metadata": {},
   "outputs": [
    {
     "data": {
      "image/png": "[encoded data removed]",
      "text/plain": [
       "<matplotlib.figure.Figure at 0x10adf8b38>"
      ]
     },
     "metadata": {},
     "output_type": "display_data"
    }
   ],
   "source": [
    "plt.style.use('ggplot')\n",
    "\n",
    "from scipy.stats import norm\n",
    "\n",
    "a=np.array(data_vis1['provider0'].sort_values())\n",
    "fit1 = norm.pdf(a, np.mean(a), np.std(a))\n",
    "b=np.array(data_vis1['benchmark'].sort_values())\n",
    "fit2 = norm.pdf(b, np.mean(b), np.std(b))\n",
    "\n",
    "\n",
    "\n",
    "plt.figure(figsize=(12,7))\n",
    "plt.axvline(data_vis1['provider0'].median(), color='k', linestyle='dashed', linewidth=1.5)\n",
    "plt.title(\"Distribution of Errors for Provider 0 vs. Overall Population\",fontsize=17,y=1.03,family=\"serif\")\n",
    "plt.hist(data_vis1['provider0'],label='Provider0', facecolor='darkslateblue',edgecolor = 'k',alpha=.8)\n",
    "plt.plot(a,fit1, color='darkslateblue', linewidth=3)\n",
    "\n",
    "\n",
    "\n",
    "plt.hist(data_vis1['benchmark'], label='Population Benchmark', color='magenta',edgecolor = 'k')\n",
    "plt.plot(b,fit2, color='magenta',linewidth=3)\n",
    "plt.xticks(fontsize=12)\n",
    "plt.yticks(fontsize=12)\n",
    "plt.legend([ 'Median','Provider 0', 'Population'],loc='upper left', fontsize=14)\n",
    "\n",
    "\n",
    "plt.axvline(data_vis1['benchmark'].median(), color='k', linestyle='dashed', linewidth=1.5)\n",
    "\n",
    "plt.show()"
   ]
  },
  {
   "cell_type": "code",
   "execution_count": 2041,
   "metadata": {
    "collapsed": true
   },
   "outputs": [],
   "source": [
    "df_final['code']='Population'\n",
    "a=df_final[['code','benchmark']]\n",
    "a.columns=['code','perfomance']\n"
   ]
  },
  {
   "cell_type": "code",
   "execution_count": 2042,
   "metadata": {
    "collapsed": true
   },
   "outputs": [],
   "source": [
    "df_provider0['code']='Provider0'\n",
    "b=df_provider0[['code','provider0']]\n",
    "b.columns=['code','perfomance']\n"
   ]
  },
  {
   "cell_type": "code",
   "execution_count": 2043,
   "metadata": {
    "collapsed": true
   },
   "outputs": [],
   "source": [
    "data_vis2=pd.concat([a,b], axis=0)"
   ]
  },
  {
   "cell_type": "code",
   "execution_count": 2044,
   "metadata": {},
   "outputs": [
    {
     "data": {
      "image/png": "[encoded data removed]",
      "text/plain": [
       "<matplotlib.figure.Figure at 0x1a57d01ef0>"
      ]
     },
     "metadata": {},
     "output_type": "display_data"
    }
   ],
   "source": [
    "\n",
    "plt.subplots(figsize=(12, 7))\n",
    "\n",
    "\n",
    "\n",
    "ax=sns.boxplot (x=\"code\", y = \"perfomance\", data=data_vis2, saturation=0.5,\\\n",
    "             linewidth=1, width=.7, order=['Provider0','Population'],whis=3)\n",
    "\n",
    "ax.set_xlabel('')\n",
    "ax.set_xticklabels(['Provider 0','Population'],size=15,family=\"serif\")\n",
    "\n",
    "ax.set_ylabel('Error Rate',family=\"serif\",size=15)\n",
    "ax.set_title(\"Boxplot of Error Rates for Provider 0 vs. Population \",y=1.03,family=\"serif\", size=17)\n",
    "ax.set_ylim([0.12,0.16])\n",
    "mybox0 = ax.artists[0]\n",
    "mybox0.set_facecolor('slateblue')\n",
    "mybox1 = ax.artists[1]\n",
    "mybox1.set_facecolor('magenta')\n",
    "\n",
    "\n",
    "medians = data_vis2.groupby(['code'])['perfomance'].median().round(10).sort_values()\n",
    "median_labels = [str(np.round(s, 4)) for s in medians]\n",
    "\n",
    "pos = range(len(medians))\n",
    "for tick, label in zip(pos,ax.get_xticklabels()):\n",
    "    ax.text(pos[tick], medians[tick]+.005, median_labels[tick], \n",
    "            horizontalalignment='left', size='large')\n",
    "plt.show()\n"
   ]
  },
  {
   "cell_type": "markdown",
   "metadata": {},
   "source": [
    "## PART2"
   ]
  },
  {
   "cell_type": "markdown",
   "metadata": {},
   "source": [
    "### Estimating a weighted average error rate for Provider 0 for each facility"
   ]
  },
  {
   "cell_type": "code",
   "execution_count": 1830,
   "metadata": {
    "collapsed": true
   },
   "outputs": [],
   "source": [
    "data_vis3=pd.concat([df_provider0, df_final['benchmark']], axis=1, join_axes=[ df_final.index])"
   ]
  },
  {
   "cell_type": "code",
   "execution_count": 1831,
   "metadata": {
    "collapsed": true
   },
   "outputs": [],
   "source": [
    "df_Facility_0310=data_vis3[['Facility_0310']].copy()\n",
    "df_Facility_0310['code']='Facility_0310'\n",
    "df_Facility_0310.columns=['error','code']"
   ]
  },
  {
   "cell_type": "code",
   "execution_count": 1832,
   "metadata": {
    "collapsed": true
   },
   "outputs": [],
   "source": [
    "df_Facility_0311=data_vis3[['Facility_0311']].copy()\n",
    "df_Facility_0311['code']='Facility_0311'\n",
    "df_Facility_0311.columns=['error','code']"
   ]
  },
  {
   "cell_type": "code",
   "execution_count": 1833,
   "metadata": {
    "collapsed": true
   },
   "outputs": [],
   "source": [
    "df_Facility_0308=data_vis3[['Facility_0308']].copy()\n",
    "df_Facility_0308['code']='Facility_0308'\n",
    "df_Facility_0308.columns=['error','code']\n"
   ]
  },
  {
   "cell_type": "code",
   "execution_count": 1834,
   "metadata": {
    "collapsed": true
   },
   "outputs": [],
   "source": [
    "df_Facility_0309=data_vis3[['Facility_0309']].copy()\n",
    "df_Facility_0309['code']='Facility_0309'\n",
    "df_Facility_0309.columns=['error','code']"
   ]
  },
  {
   "cell_type": "code",
   "execution_count": 1835,
   "metadata": {
    "collapsed": true
   },
   "outputs": [],
   "source": [
    "df_benchmark=data_vis3[['benchmark']].copy()\n",
    "df_benchmark['code']='Population'\n",
    "df_benchmark.columns=['error','code']\n"
   ]
  },
  {
   "cell_type": "code",
   "execution_count": 1836,
   "metadata": {
    "collapsed": true
   },
   "outputs": [],
   "source": [
    "data_vis4=pd.concat([df_Facility_0310,df_Facility_0311,df_Facility_0308,df_Facility_0309,df_benchmark ], axis=0)"
   ]
  },
  {
   "cell_type": "code",
   "execution_count": 1837,
   "metadata": {},
   "outputs": [
    {
     "data": {
      "image/png": "[encoded data removed]",
      "text/plain": [
       "<matplotlib.figure.Figure at 0x1a358aa4e0>"
      ]
     },
     "metadata": {},
     "output_type": "display_data"
    }
   ],
   "source": [
    "\n",
    "plt.subplots(figsize=(12, 7))\n",
    "\n",
    "\n",
    "\n",
    "ax=sns.boxplot(x=\"code\", y = \"error\", data=data_vis4, saturation=0.5,\\\n",
    "             linewidth=1, width=.7, order=['Facility_0311','Facility_0308','Facility_0310',\\\n",
    "                                           'Population','Facility_0309'],whis=3)\n",
    "\n",
    "ax.set_xlabel('')\n",
    "ax.set_xticklabels(['Facility_0311','Facility_0308','Facility_0310',\\\n",
    "                                           'Population','Facility_0309'],size=15,family=\"serif\")\n",
    "\n",
    "ax.set_ylabel('Error Rate',family=\"serif\",size=15)\n",
    "ax.set_title(\"Boxplot of Error Rates by Facility for Provider 0 vs. Population \",y=1.03,family=\"serif\", size=17)\n",
    "ax.set_ylim([0.05,0.25])\n",
    "\n",
    "mybox0 = ax.artists[0]\n",
    "mybox1 = ax.artists[1]\n",
    "mybox2 = ax.artists[2]\n",
    "mybox4 = ax.artists[4]\n",
    "mybox3 = ax.artists[3]\n",
    "mybox0.set_facecolor('slateblue')\n",
    "mybox1.set_facecolor('slateblue')\n",
    "mybox2.set_facecolor('slateblue')\n",
    "mybox4.set_facecolor('slateblue')\n",
    "mybox3.set_facecolor('magenta')\n",
    "\n",
    "\n",
    "medians = data_vis4.groupby(['code'])['error'].median().round(10).sort_values()\n",
    "median_labels = [str(np.round(s, 4)) for s in medians]\n",
    "\n",
    "pos = range(len(medians))\n",
    "for tick, label in zip(pos,ax.get_xticklabels()):\n",
    "    ax.text(pos[tick], medians[tick]+.035, median_labels[tick], \n",
    "            horizontalalignment='center', size='large')\n",
    "plt.show()"
   ]
  },
  {
   "cell_type": "markdown",
   "metadata": {},
   "source": [
    "### Estimating a weighted average for exam A across all facilities"
   ]
  },
  {
   "cell_type": "code",
   "execution_count": 1838,
   "metadata": {
    "collapsed": true
   },
   "outputs": [],
   "source": [
    "df5=df2[['facility_id', 'anatomy_a_exam_volume']].copy()"
   ]
  },
  {
   "cell_type": "code",
   "execution_count": 1839,
   "metadata": {
    "collapsed": true
   },
   "outputs": [],
   "source": [
    "df6=df5.set_index('facility_id').transpose()"
   ]
  },
  {
   "cell_type": "code",
   "execution_count": 1840,
   "metadata": {
    "collapsed": true
   },
   "outputs": [],
   "source": [
    "df6['rows']=1000"
   ]
  },
  {
   "cell_type": "code",
   "execution_count": 1841,
   "metadata": {},
   "outputs": [
    {
     "name": "stdout",
     "output_type": "stream",
     "text": [
      "<class 'pandas.core.frame.DataFrame'>\n",
      "RangeIndex: 1000 entries, 0 to 999\n",
      "Columns: 312 entries, index to Facility_0021\n",
      "dtypes: int64(311), object(1)\n",
      "memory usage: 2.4+ MB\n"
     ]
    }
   ],
   "source": [
    "df7 = df6.loc[df6.index.repeat(df6['rows'])].reset_index()\n",
    "\n",
    "df7.iloc[:,:-1].info()"
   ]
  },
  {
   "cell_type": "code",
   "execution_count": 1842,
   "metadata": {
    "collapsed": true
   },
   "outputs": [],
   "source": [
    "df7.reset_index(drop=True, col_level=1)\n",
    "df8=df7.iloc[:, 1:-1]"
   ]
  },
  {
   "cell_type": "code",
   "execution_count": 1843,
   "metadata": {
    "collapsed": true
   },
   "outputs": [],
   "source": [
    "df_facA=pd.concat([data_A['facility_id'],data_A.iloc[:,1:-3]], axis=1)\n",
    "\n",
    "examA=df_facA.set_index('facility_id').transpose().reset_index(drop=True)"
   ]
  },
  {
   "cell_type": "code",
   "execution_count": 1844,
   "metadata": {
    "scrolled": true
   },
   "outputs": [
    {
     "name": "stdout",
     "output_type": "stream",
     "text": [
      "<class 'pandas.core.frame.DataFrame'>\n",
      "RangeIndex: 1000 entries, 0 to 999\n",
      "Columns: 311 entries, Facility_0264 to Facility_0021\n",
      "dtypes: float64(311)\n",
      "memory usage: 2.4 MB\n"
     ]
    }
   ],
   "source": [
    "examA.info()"
   ]
  },
  {
   "cell_type": "code",
   "execution_count": 1845,
   "metadata": {
    "scrolled": false
   },
   "outputs": [
    {
     "name": "stdout",
     "output_type": "stream",
     "text": [
      "<class 'pandas.core.frame.DataFrame'>\n",
      "RangeIndex: 1000 entries, 0 to 999\n",
      "Columns: 311 entries, Facility_0264 to Facility_0021\n",
      "dtypes: int64(311)\n",
      "memory usage: 2.4 MB\n"
     ]
    }
   ],
   "source": [
    "df8.info()"
   ]
  },
  {
   "cell_type": "code",
   "execution_count": 1846,
   "metadata": {
    "collapsed": true
   },
   "outputs": [],
   "source": [
    "dat_examA=pd.DataFrame(examA.values*df8.values, columns=examA.columns, index=examA.index)"
   ]
  },
  {
   "cell_type": "code",
   "execution_count": 1847,
   "metadata": {
    "collapsed": true
   },
   "outputs": [],
   "source": [
    "dat_examA['sum_all_facilities']=dat_examA.sum(axis=1)\n",
    "df8['sum_all_volume']=df8.sum(axis=1)"
   ]
  },
  {
   "cell_type": "code",
   "execution_count": 1848,
   "metadata": {
    "collapsed": true
   },
   "outputs": [],
   "source": [
    "dat_examA['exam_A_rate']=dat_examA['sum_all_facilities']/df8['sum_all_volume']"
   ]
  },
  {
   "cell_type": "markdown",
   "metadata": {},
   "source": [
    "### Estimating a weighted average for exam A across facilities for Provider 0"
   ]
  },
  {
   "cell_type": "code",
   "execution_count": 1934,
   "metadata": {
    "collapsed": true
   },
   "outputs": [],
   "source": [
    "provider0=pd.merge( df_A,df2, on=['facility_id'])"
   ]
  },
  {
   "cell_type": "code",
   "execution_count": 1935,
   "metadata": {
    "collapsed": true
   },
   "outputs": [],
   "source": [
    "data_provider0=provider0[provider0['parent_id']==0].iloc[:,:-6]\n",
    "volume_provider0=df2[df2['parent_id']==0]"
   ]
  },
  {
   "cell_type": "code",
   "execution_count": 1936,
   "metadata": {},
   "outputs": [
    {
     "name": "stdout",
     "output_type": "stream",
     "text": [
      "<class 'pandas.core.frame.DataFrame'>\n",
      "RangeIndex: 1000 entries, 0 to 999\n",
      "Data columns (total 5 columns):\n",
      "index            1000 non-null object\n",
      "Facility_0310    1000 non-null int64\n",
      "Facility_0311    1000 non-null int64\n",
      "Facility_0308    1000 non-null int64\n",
      "Facility_0309    1000 non-null int64\n",
      "dtypes: int64(4), object(1)\n",
      "memory usage: 39.1+ KB\n"
     ]
    }
   ],
   "source": [
    "df5=volume_provider0[['facility_id', 'anatomy_a_exam_volume']].copy()\n",
    "df6=df5.set_index('facility_id').transpose()\n",
    "df6['rows']=1000\n",
    "df7 = df6.loc[df6.index.repeat(df6['rows'])].reset_index()\n",
    "df7.iloc[:,:-1].info()\n"
   ]
  },
  {
   "cell_type": "code",
   "execution_count": 1937,
   "metadata": {
    "collapsed": true
   },
   "outputs": [],
   "source": [
    "df7.reset_index(drop=True, col_level=1)\n",
    "df8=df7.iloc[:, 1:-1]"
   ]
  },
  {
   "cell_type": "code",
   "execution_count": 1938,
   "metadata": {
    "collapsed": true
   },
   "outputs": [],
   "source": [
    "df8.columns=['Facility_0310_rate', 'Facility_0311_rate', 'Facility_0308_rate', 'Facility_0309_rate']\n"
   ]
  },
  {
   "cell_type": "code",
   "execution_count": 1939,
   "metadata": {
    "collapsed": true
   },
   "outputs": [],
   "source": [
    "examA_0=data_provider0.set_index('index_A').transpose().reset_index(drop=True)\n",
    "\n",
    "\n"
   ]
  },
  {
   "cell_type": "code",
   "execution_count": 1940,
   "metadata": {
    "scrolled": false
   },
   "outputs": [
    {
     "data": {
      "text/html": [
       "<div>\n",
       "<style>\n",
       "    .dataframe thead tr:only-child th {\n",
       "        text-align: right;\n",
       "    }\n",
       "\n",
       "    .dataframe thead th {\n",
       "        text-align: left;\n",
       "    }\n",
       "\n",
       "    .dataframe tbody tr th {\n",
       "        vertical-align: top;\n",
       "    }\n",
       "</style>\n",
       "<table border=\"1\" class=\"dataframe\">\n",
       "  <thead>\n",
       "    <tr style=\"text-align: right;\">\n",
       "      <th></th>\n",
       "      <th>Facility_0310_A</th>\n",
       "      <th>Facility_0311_A</th>\n",
       "      <th>Facility_0308_A</th>\n",
       "      <th>Facility_0309_A</th>\n",
       "      <th>Facility_0310_rate</th>\n",
       "      <th>Facility_0311_rate</th>\n",
       "      <th>Facility_0308_rate</th>\n",
       "      <th>Facility_0309_rate</th>\n",
       "    </tr>\n",
       "  </thead>\n",
       "  <tbody>\n",
       "    <tr>\n",
       "      <th>0</th>\n",
       "      <td>0.269170</td>\n",
       "      <td>0.115919</td>\n",
       "      <td>0.206685</td>\n",
       "      <td>0.167888</td>\n",
       "      <td>511</td>\n",
       "      <td>396</td>\n",
       "      <td>135</td>\n",
       "      <td>512</td>\n",
       "    </tr>\n",
       "    <tr>\n",
       "      <th>1</th>\n",
       "      <td>0.286112</td>\n",
       "      <td>0.089648</td>\n",
       "      <td>0.178173</td>\n",
       "      <td>0.150792</td>\n",
       "      <td>511</td>\n",
       "      <td>396</td>\n",
       "      <td>135</td>\n",
       "      <td>512</td>\n",
       "    </tr>\n",
       "    <tr>\n",
       "      <th>2</th>\n",
       "      <td>0.286180</td>\n",
       "      <td>0.133311</td>\n",
       "      <td>0.198550</td>\n",
       "      <td>0.123066</td>\n",
       "      <td>511</td>\n",
       "      <td>396</td>\n",
       "      <td>135</td>\n",
       "      <td>512</td>\n",
       "    </tr>\n",
       "    <tr>\n",
       "      <th>3</th>\n",
       "      <td>0.238690</td>\n",
       "      <td>0.106451</td>\n",
       "      <td>0.159202</td>\n",
       "      <td>0.141479</td>\n",
       "      <td>511</td>\n",
       "      <td>396</td>\n",
       "      <td>135</td>\n",
       "      <td>512</td>\n",
       "    </tr>\n",
       "    <tr>\n",
       "      <th>4</th>\n",
       "      <td>0.258238</td>\n",
       "      <td>0.122614</td>\n",
       "      <td>0.206263</td>\n",
       "      <td>0.133915</td>\n",
       "      <td>511</td>\n",
       "      <td>396</td>\n",
       "      <td>135</td>\n",
       "      <td>512</td>\n",
       "    </tr>\n",
       "  </tbody>\n",
       "</table>\n",
       "</div>"
      ],
      "text/plain": [
       "   Facility_0310_A  Facility_0311_A  Facility_0308_A  Facility_0309_A  \\\n",
       "0  0.269170         0.115919         0.206685         0.167888          \n",
       "1  0.286112         0.089648         0.178173         0.150792          \n",
       "2  0.286180         0.133311         0.198550         0.123066          \n",
       "3  0.238690         0.106451         0.159202         0.141479          \n",
       "4  0.258238         0.122614         0.206263         0.133915          \n",
       "\n",
       "   Facility_0310_rate  Facility_0311_rate  Facility_0308_rate  \\\n",
       "0  511                 396                 135                  \n",
       "1  511                 396                 135                  \n",
       "2  511                 396                 135                  \n",
       "3  511                 396                 135                  \n",
       "4  511                 396                 135                  \n",
       "\n",
       "   Facility_0309_rate  \n",
       "0  512                 \n",
       "1  512                 \n",
       "2  512                 \n",
       "3  512                 \n",
       "4  512                 "
      ]
     },
     "execution_count": 1940,
     "metadata": {},
     "output_type": "execute_result"
    }
   ],
   "source": [
    "dat_examA_0=pd.concat((examA_0,df8), axis=1)\n",
    "\n",
    "dat_examA_0.head()"
   ]
  },
  {
   "cell_type": "code",
   "execution_count": 1941,
   "metadata": {
    "collapsed": true
   },
   "outputs": [],
   "source": [
    "dat_examA_0['exam_A_rate_0']=(dat_examA_0['Facility_0310_A']*dat_examA_0['Facility_0310_rate'] +\\\n",
    "dat_examA_0['Facility_0311_A']*dat_examA_0['Facility_0311_rate']+\\\n",
    "dat_examA_0['Facility_0308_A']*dat_examA_0['Facility_0308_rate']+\\\n",
    "dat_examA_0['Facility_0309_A']*dat_examA_0['Facility_0309_rate'])/(dat_examA_0['Facility_0310_rate']+dat_examA_0['Facility_0311_rate']+\\\n",
    "                                                                  dat_examA_0['Facility_0308_rate']+dat_examA_0['Facility_0309_rate'])\n",
    "\n",
    "\n"
   ]
  },
  {
   "cell_type": "markdown",
   "metadata": {},
   "source": [
    "### Estimating a weighted average for exam B across all facilities"
   ]
  },
  {
   "cell_type": "code",
   "execution_count": 1942,
   "metadata": {
    "collapsed": true
   },
   "outputs": [],
   "source": [
    "df5=df2[['facility_id', 'anatomy_b_exam_volume']].copy()"
   ]
  },
  {
   "cell_type": "code",
   "execution_count": 1943,
   "metadata": {
    "collapsed": true
   },
   "outputs": [],
   "source": [
    "df6=df5.set_index('facility_id').transpose()"
   ]
  },
  {
   "cell_type": "code",
   "execution_count": 1944,
   "metadata": {
    "collapsed": true
   },
   "outputs": [],
   "source": [
    "df6['rows']=1000"
   ]
  },
  {
   "cell_type": "code",
   "execution_count": 1945,
   "metadata": {},
   "outputs": [
    {
     "name": "stdout",
     "output_type": "stream",
     "text": [
      "<class 'pandas.core.frame.DataFrame'>\n",
      "RangeIndex: 1000 entries, 0 to 999\n",
      "Columns: 312 entries, index to Facility_0021\n",
      "dtypes: int64(311), object(1)\n",
      "memory usage: 2.4+ MB\n"
     ]
    }
   ],
   "source": [
    "df7 = df6.loc[df6.index.repeat(df6['rows'])].reset_index()\n",
    "\n",
    "df7.iloc[:,:-1].info()"
   ]
  },
  {
   "cell_type": "code",
   "execution_count": 1946,
   "metadata": {
    "collapsed": true
   },
   "outputs": [],
   "source": [
    "df7.reset_index(drop=True, col_level=1)\n",
    "df8=df7.iloc[:, 1:-1]"
   ]
  },
  {
   "cell_type": "code",
   "execution_count": 1947,
   "metadata": {},
   "outputs": [
    {
     "name": "stdout",
     "output_type": "stream",
     "text": [
      "<class 'pandas.core.frame.DataFrame'>\n",
      "RangeIndex: 1000 entries, 0 to 999\n",
      "Columns: 311 entries, Facility_0264 to Facility_0021\n",
      "dtypes: int64(311)\n",
      "memory usage: 2.4 MB\n"
     ]
    }
   ],
   "source": [
    "df8.info()"
   ]
  },
  {
   "cell_type": "code",
   "execution_count": 1948,
   "metadata": {
    "collapsed": true
   },
   "outputs": [],
   "source": [
    "df_facB=pd.concat([data_B['facility_id'],data_B.iloc[:,1:-4]], axis=1)\n",
    "\n",
    "examB=df_facB.set_index('facility_id').transpose().reset_index(drop=True)"
   ]
  },
  {
   "cell_type": "code",
   "execution_count": 1949,
   "metadata": {
    "scrolled": true
   },
   "outputs": [
    {
     "name": "stdout",
     "output_type": "stream",
     "text": [
      "<class 'pandas.core.frame.DataFrame'>\n",
      "RangeIndex: 1000 entries, 0 to 999\n",
      "Columns: 311 entries, Facility_0264 to Facility_0021\n",
      "dtypes: float64(311)\n",
      "memory usage: 2.4 MB\n"
     ]
    }
   ],
   "source": [
    "examB.info()"
   ]
  },
  {
   "cell_type": "code",
   "execution_count": 1950,
   "metadata": {
    "collapsed": true
   },
   "outputs": [],
   "source": [
    "dat_examB=pd.DataFrame(examB.values*df8.values, columns=examB.columns, index=examB.index)"
   ]
  },
  {
   "cell_type": "code",
   "execution_count": 1951,
   "metadata": {
    "collapsed": true
   },
   "outputs": [],
   "source": [
    "dat_examB['sum_all_facilities']=dat_examB.sum(axis=1)\n",
    "df8['sum_all_volume']=df8.sum(axis=1)"
   ]
  },
  {
   "cell_type": "code",
   "execution_count": 1952,
   "metadata": {
    "collapsed": true
   },
   "outputs": [],
   "source": [
    "dat_examB['exam_B_rate']=dat_examB['sum_all_facilities']/df8['sum_all_volume']"
   ]
  },
  {
   "cell_type": "markdown",
   "metadata": {},
   "source": [
    "### Estimating a weighted average for exam B across facilities for Provider 0"
   ]
  },
  {
   "cell_type": "code",
   "execution_count": 1953,
   "metadata": {
    "collapsed": true
   },
   "outputs": [],
   "source": [
    "provider0=pd.merge( df_B,df2, on=['facility_id'])"
   ]
  },
  {
   "cell_type": "code",
   "execution_count": 1954,
   "metadata": {
    "collapsed": true
   },
   "outputs": [],
   "source": [
    "data_provider0=provider0[provider0['parent_id']==0].iloc[:,:-6]\n",
    "volume_provider0=df2[df2['parent_id']==0]"
   ]
  },
  {
   "cell_type": "code",
   "execution_count": 1955,
   "metadata": {},
   "outputs": [
    {
     "name": "stdout",
     "output_type": "stream",
     "text": [
      "<class 'pandas.core.frame.DataFrame'>\n",
      "RangeIndex: 1000 entries, 0 to 999\n",
      "Data columns (total 5 columns):\n",
      "index            1000 non-null object\n",
      "Facility_0310    1000 non-null int64\n",
      "Facility_0311    1000 non-null int64\n",
      "Facility_0308    1000 non-null int64\n",
      "Facility_0309    1000 non-null int64\n",
      "dtypes: int64(4), object(1)\n",
      "memory usage: 39.1+ KB\n"
     ]
    }
   ],
   "source": [
    "df5=volume_provider0[['facility_id', 'anatomy_b_exam_volume']].copy()\n",
    "df6=df5.set_index('facility_id').transpose()\n",
    "df6['rows']=1000\n",
    "df7 = df6.loc[df6.index.repeat(df6['rows'])].reset_index()\n",
    "df7.iloc[:,:-1].info()\n"
   ]
  },
  {
   "cell_type": "code",
   "execution_count": 1956,
   "metadata": {
    "collapsed": true
   },
   "outputs": [],
   "source": [
    "df7.reset_index(drop=True, col_level=1)\n",
    "df8=df7.iloc[:, 1:-1]"
   ]
  },
  {
   "cell_type": "code",
   "execution_count": 1957,
   "metadata": {
    "collapsed": true
   },
   "outputs": [],
   "source": [
    "df8.columns=['Facility_0310_rate', 'Facility_0311_rate', 'Facility_0308_rate', 'Facility_0309_rate']\n"
   ]
  },
  {
   "cell_type": "code",
   "execution_count": 1958,
   "metadata": {
    "collapsed": true
   },
   "outputs": [],
   "source": [
    "examB_0=data_provider0.set_index('index_B').transpose().reset_index(drop=True)\n",
    "\n",
    "\n"
   ]
  },
  {
   "cell_type": "code",
   "execution_count": 1959,
   "metadata": {
    "scrolled": false
   },
   "outputs": [
    {
     "data": {
      "text/html": [
       "<div>\n",
       "<style>\n",
       "    .dataframe thead tr:only-child th {\n",
       "        text-align: right;\n",
       "    }\n",
       "\n",
       "    .dataframe thead th {\n",
       "        text-align: left;\n",
       "    }\n",
       "\n",
       "    .dataframe tbody tr th {\n",
       "        vertical-align: top;\n",
       "    }\n",
       "</style>\n",
       "<table border=\"1\" class=\"dataframe\">\n",
       "  <thead>\n",
       "    <tr style=\"text-align: right;\">\n",
       "      <th></th>\n",
       "      <th>Facility_0310_B</th>\n",
       "      <th>Facility_0311_B</th>\n",
       "      <th>Facility_0308_B</th>\n",
       "      <th>Facility_0309_B</th>\n",
       "      <th>Facility_0310_rate</th>\n",
       "      <th>Facility_0311_rate</th>\n",
       "      <th>Facility_0308_rate</th>\n",
       "      <th>Facility_0309_rate</th>\n",
       "    </tr>\n",
       "  </thead>\n",
       "  <tbody>\n",
       "    <tr>\n",
       "      <th>0</th>\n",
       "      <td>0.103303</td>\n",
       "      <td>0.016193</td>\n",
       "      <td>0.073522</td>\n",
       "      <td>0.110930</td>\n",
       "      <td>418</td>\n",
       "      <td>241</td>\n",
       "      <td>336</td>\n",
       "      <td>392</td>\n",
       "    </tr>\n",
       "    <tr>\n",
       "      <th>1</th>\n",
       "      <td>0.118093</td>\n",
       "      <td>0.025283</td>\n",
       "      <td>0.083424</td>\n",
       "      <td>0.123855</td>\n",
       "      <td>418</td>\n",
       "      <td>241</td>\n",
       "      <td>336</td>\n",
       "      <td>392</td>\n",
       "    </tr>\n",
       "    <tr>\n",
       "      <th>2</th>\n",
       "      <td>0.094715</td>\n",
       "      <td>0.017055</td>\n",
       "      <td>0.062094</td>\n",
       "      <td>0.120702</td>\n",
       "      <td>418</td>\n",
       "      <td>241</td>\n",
       "      <td>336</td>\n",
       "      <td>392</td>\n",
       "    </tr>\n",
       "    <tr>\n",
       "      <th>3</th>\n",
       "      <td>0.118690</td>\n",
       "      <td>0.018186</td>\n",
       "      <td>0.100980</td>\n",
       "      <td>0.120078</td>\n",
       "      <td>418</td>\n",
       "      <td>241</td>\n",
       "      <td>336</td>\n",
       "      <td>392</td>\n",
       "    </tr>\n",
       "    <tr>\n",
       "      <th>4</th>\n",
       "      <td>0.099760</td>\n",
       "      <td>0.017794</td>\n",
       "      <td>0.069384</td>\n",
       "      <td>0.126576</td>\n",
       "      <td>418</td>\n",
       "      <td>241</td>\n",
       "      <td>336</td>\n",
       "      <td>392</td>\n",
       "    </tr>\n",
       "  </tbody>\n",
       "</table>\n",
       "</div>"
      ],
      "text/plain": [
       "   Facility_0310_B  Facility_0311_B  Facility_0308_B  Facility_0309_B  \\\n",
       "0  0.103303         0.016193         0.073522         0.110930          \n",
       "1  0.118093         0.025283         0.083424         0.123855          \n",
       "2  0.094715         0.017055         0.062094         0.120702          \n",
       "3  0.118690         0.018186         0.100980         0.120078          \n",
       "4  0.099760         0.017794         0.069384         0.126576          \n",
       "\n",
       "   Facility_0310_rate  Facility_0311_rate  Facility_0308_rate  \\\n",
       "0  418                 241                 336                  \n",
       "1  418                 241                 336                  \n",
       "2  418                 241                 336                  \n",
       "3  418                 241                 336                  \n",
       "4  418                 241                 336                  \n",
       "\n",
       "   Facility_0309_rate  \n",
       "0  392                 \n",
       "1  392                 \n",
       "2  392                 \n",
       "3  392                 \n",
       "4  392                 "
      ]
     },
     "execution_count": 1959,
     "metadata": {},
     "output_type": "execute_result"
    }
   ],
   "source": [
    "dat_examB_0=pd.concat((examB_0,df8), axis=1)\n",
    "\n",
    "dat_examB_0.head()"
   ]
  },
  {
   "cell_type": "code",
   "execution_count": 1960,
   "metadata": {
    "collapsed": true
   },
   "outputs": [],
   "source": [
    "dat_examB_0['exam_B_rate_0']=(dat_examB_0['Facility_0310_B']*dat_examB_0['Facility_0310_rate'] +\\\n",
    "dat_examB_0['Facility_0311_B']*dat_examB_0['Facility_0311_rate']+\\\n",
    "dat_examB_0['Facility_0308_B']*dat_examB_0['Facility_0308_rate']+\\\n",
    "dat_examB_0['Facility_0309_B']*dat_examB_0['Facility_0309_rate'])/(dat_examB_0['Facility_0310_rate']+dat_examB_0['Facility_0311_rate']+\\\n",
    "                                                                  dat_examB_0['Facility_0308_rate']+dat_examB_0['Facility_0309_rate'])\n",
    "\n",
    "\n"
   ]
  },
  {
   "cell_type": "markdown",
   "metadata": {},
   "source": [
    "### Estimating a weighted average for exam C across all facilities"
   ]
  },
  {
   "cell_type": "code",
   "execution_count": 1591,
   "metadata": {
    "collapsed": true
   },
   "outputs": [],
   "source": [
    "df5=df2[['facility_id', 'anatomy_c_exam_volume']].copy()"
   ]
  },
  {
   "cell_type": "code",
   "execution_count": 1592,
   "metadata": {
    "collapsed": true
   },
   "outputs": [],
   "source": [
    "df6=df5.set_index('facility_id').transpose()"
   ]
  },
  {
   "cell_type": "code",
   "execution_count": 1593,
   "metadata": {
    "collapsed": true
   },
   "outputs": [],
   "source": [
    "df6['rows']=1000"
   ]
  },
  {
   "cell_type": "code",
   "execution_count": 1594,
   "metadata": {},
   "outputs": [
    {
     "name": "stdout",
     "output_type": "stream",
     "text": [
      "<class 'pandas.core.frame.DataFrame'>\n",
      "RangeIndex: 1000 entries, 0 to 999\n",
      "Columns: 312 entries, index to Facility_0021\n",
      "dtypes: int64(311), object(1)\n",
      "memory usage: 2.4+ MB\n"
     ]
    }
   ],
   "source": [
    "df7 = df6.loc[df6.index.repeat(df6['rows'])].reset_index()\n",
    "\n",
    "df7.iloc[:,:-1].info()"
   ]
  },
  {
   "cell_type": "code",
   "execution_count": 1595,
   "metadata": {
    "collapsed": true
   },
   "outputs": [],
   "source": [
    "df7.reset_index(drop=True, col_level=1)\n",
    "df8=df7.iloc[:, 1:-1]"
   ]
  },
  {
   "cell_type": "code",
   "execution_count": 1596,
   "metadata": {},
   "outputs": [
    {
     "name": "stdout",
     "output_type": "stream",
     "text": [
      "<class 'pandas.core.frame.DataFrame'>\n",
      "RangeIndex: 1000 entries, 0 to 999\n",
      "Columns: 311 entries, Facility_0264 to Facility_0021\n",
      "dtypes: int64(311)\n",
      "memory usage: 2.4 MB\n"
     ]
    }
   ],
   "source": [
    "df8.info()"
   ]
  },
  {
   "cell_type": "code",
   "execution_count": 1599,
   "metadata": {
    "collapsed": true
   },
   "outputs": [],
   "source": [
    "df_facC=pd.concat([data_C['facility_id'],data_C.iloc[:,1:-5]], axis=1)\n",
    "\n",
    "examC=df_facC.set_index('facility_id').transpose().reset_index(drop=True)"
   ]
  },
  {
   "cell_type": "code",
   "execution_count": 1600,
   "metadata": {
    "scrolled": true
   },
   "outputs": [
    {
     "name": "stdout",
     "output_type": "stream",
     "text": [
      "<class 'pandas.core.frame.DataFrame'>\n",
      "RangeIndex: 1000 entries, 0 to 999\n",
      "Columns: 311 entries, Facility_0264 to Facility_0021\n",
      "dtypes: float64(311)\n",
      "memory usage: 2.4 MB\n"
     ]
    }
   ],
   "source": [
    "examC.info()"
   ]
  },
  {
   "cell_type": "code",
   "execution_count": 1601,
   "metadata": {
    "collapsed": true
   },
   "outputs": [],
   "source": [
    "dat_examC=pd.DataFrame(examC.values*df8.values, columns=examC.columns, index=examC.index)"
   ]
  },
  {
   "cell_type": "code",
   "execution_count": 1602,
   "metadata": {
    "collapsed": true
   },
   "outputs": [],
   "source": [
    "dat_examC['sum_all_facilities']=dat_examC.sum(axis=1)\n",
    "df8['sum_all_volume']=df8.sum(axis=1)"
   ]
  },
  {
   "cell_type": "code",
   "execution_count": 1605,
   "metadata": {
    "collapsed": true
   },
   "outputs": [],
   "source": [
    "dat_examC['exam_C_rate']=dat_examC['sum_all_facilities']/df8['sum_all_volume']\n"
   ]
  },
  {
   "cell_type": "markdown",
   "metadata": {},
   "source": [
    "### Estimating a weighted average for exam C across facilities for Provider 0"
   ]
  },
  {
   "cell_type": "code",
   "execution_count": 1961,
   "metadata": {
    "collapsed": true
   },
   "outputs": [],
   "source": [
    "provider0=pd.merge( df_C,df2, on=['facility_id'])"
   ]
  },
  {
   "cell_type": "code",
   "execution_count": 1962,
   "metadata": {
    "collapsed": true
   },
   "outputs": [],
   "source": [
    "data_provider0=provider0[provider0['parent_id']==0].iloc[:,:-6]\n",
    "volume_provider0=df2[df2['parent_id']==0]"
   ]
  },
  {
   "cell_type": "code",
   "execution_count": 1963,
   "metadata": {},
   "outputs": [
    {
     "name": "stdout",
     "output_type": "stream",
     "text": [
      "<class 'pandas.core.frame.DataFrame'>\n",
      "RangeIndex: 1000 entries, 0 to 999\n",
      "Data columns (total 5 columns):\n",
      "index            1000 non-null object\n",
      "Facility_0310    1000 non-null int64\n",
      "Facility_0311    1000 non-null int64\n",
      "Facility_0308    1000 non-null int64\n",
      "Facility_0309    1000 non-null int64\n",
      "dtypes: int64(4), object(1)\n",
      "memory usage: 39.1+ KB\n"
     ]
    }
   ],
   "source": [
    "df5=volume_provider0[['facility_id', 'anatomy_c_exam_volume']].copy()\n",
    "df6=df5.set_index('facility_id').transpose()\n",
    "df6['rows']=1000\n",
    "df7 = df6.loc[df6.index.repeat(df6['rows'])].reset_index()\n",
    "df7.iloc[:,:-1].info()\n"
   ]
  },
  {
   "cell_type": "code",
   "execution_count": 1964,
   "metadata": {
    "collapsed": true
   },
   "outputs": [],
   "source": [
    "df7.reset_index(drop=True, col_level=1)\n",
    "df8=df7.iloc[:, 1:-1]"
   ]
  },
  {
   "cell_type": "code",
   "execution_count": 1973,
   "metadata": {
    "collapsed": true
   },
   "outputs": [],
   "source": [
    "df8.columns=['Facility_0310_rate', 'Facility_0311_rate', 'Facility_0308_rate', 'Facility_0309_rate']\n"
   ]
  },
  {
   "cell_type": "code",
   "execution_count": 1974,
   "metadata": {
    "collapsed": true
   },
   "outputs": [],
   "source": [
    "examC_0=data_provider0.set_index('index_C').transpose().reset_index(drop=True)\n",
    "\n",
    "\n"
   ]
  },
  {
   "cell_type": "code",
   "execution_count": 1975,
   "metadata": {
    "scrolled": false
   },
   "outputs": [
    {
     "data": {
      "text/html": [
       "<div>\n",
       "<style>\n",
       "    .dataframe thead tr:only-child th {\n",
       "        text-align: right;\n",
       "    }\n",
       "\n",
       "    .dataframe thead th {\n",
       "        text-align: left;\n",
       "    }\n",
       "\n",
       "    .dataframe tbody tr th {\n",
       "        vertical-align: top;\n",
       "    }\n",
       "</style>\n",
       "<table border=\"1\" class=\"dataframe\">\n",
       "  <thead>\n",
       "    <tr style=\"text-align: right;\">\n",
       "      <th></th>\n",
       "      <th>Facility_0310_C</th>\n",
       "      <th>Facility_0311_C</th>\n",
       "      <th>Facility_0308_C</th>\n",
       "      <th>Facility_0309_C</th>\n",
       "      <th>Facility_0310_rate</th>\n",
       "      <th>Facility_0311_rate</th>\n",
       "      <th>Facility_0308_rate</th>\n",
       "      <th>Facility_0309_rate</th>\n",
       "    </tr>\n",
       "  </thead>\n",
       "  <tbody>\n",
       "    <tr>\n",
       "      <th>0</th>\n",
       "      <td>0.016153</td>\n",
       "      <td>0.118883</td>\n",
       "      <td>0.135302</td>\n",
       "      <td>0.296618</td>\n",
       "      <td>381</td>\n",
       "      <td>402</td>\n",
       "      <td>489</td>\n",
       "      <td>349</td>\n",
       "    </tr>\n",
       "    <tr>\n",
       "      <th>1</th>\n",
       "      <td>0.006780</td>\n",
       "      <td>0.132875</td>\n",
       "      <td>0.125050</td>\n",
       "      <td>0.316465</td>\n",
       "      <td>381</td>\n",
       "      <td>402</td>\n",
       "      <td>489</td>\n",
       "      <td>349</td>\n",
       "    </tr>\n",
       "    <tr>\n",
       "      <th>2</th>\n",
       "      <td>0.003155</td>\n",
       "      <td>0.134000</td>\n",
       "      <td>0.112644</td>\n",
       "      <td>0.353822</td>\n",
       "      <td>381</td>\n",
       "      <td>402</td>\n",
       "      <td>489</td>\n",
       "      <td>349</td>\n",
       "    </tr>\n",
       "    <tr>\n",
       "      <th>3</th>\n",
       "      <td>0.017346</td>\n",
       "      <td>0.129644</td>\n",
       "      <td>0.113665</td>\n",
       "      <td>0.360230</td>\n",
       "      <td>381</td>\n",
       "      <td>402</td>\n",
       "      <td>489</td>\n",
       "      <td>349</td>\n",
       "    </tr>\n",
       "    <tr>\n",
       "      <th>4</th>\n",
       "      <td>0.006488</td>\n",
       "      <td>0.130007</td>\n",
       "      <td>0.132690</td>\n",
       "      <td>0.342632</td>\n",
       "      <td>381</td>\n",
       "      <td>402</td>\n",
       "      <td>489</td>\n",
       "      <td>349</td>\n",
       "    </tr>\n",
       "  </tbody>\n",
       "</table>\n",
       "</div>"
      ],
      "text/plain": [
       "   Facility_0310_C  Facility_0311_C  Facility_0308_C  Facility_0309_C  \\\n",
       "0  0.016153         0.118883         0.135302         0.296618          \n",
       "1  0.006780         0.132875         0.125050         0.316465          \n",
       "2  0.003155         0.134000         0.112644         0.353822          \n",
       "3  0.017346         0.129644         0.113665         0.360230          \n",
       "4  0.006488         0.130007         0.132690         0.342632          \n",
       "\n",
       "   Facility_0310_rate  Facility_0311_rate  Facility_0308_rate  \\\n",
       "0  381                 402                 489                  \n",
       "1  381                 402                 489                  \n",
       "2  381                 402                 489                  \n",
       "3  381                 402                 489                  \n",
       "4  381                 402                 489                  \n",
       "\n",
       "   Facility_0309_rate  \n",
       "0  349                 \n",
       "1  349                 \n",
       "2  349                 \n",
       "3  349                 \n",
       "4  349                 "
      ]
     },
     "execution_count": 1975,
     "metadata": {},
     "output_type": "execute_result"
    }
   ],
   "source": [
    "dat_examC_0=pd.concat((examC_0,df8), axis=1)\n",
    "\n",
    "dat_examC_0.head()"
   ]
  },
  {
   "cell_type": "code",
   "execution_count": 1977,
   "metadata": {
    "collapsed": true
   },
   "outputs": [],
   "source": [
    "dat_examC_0['exam_C_rate_0']=(dat_examC_0['Facility_0310_C']*dat_examC_0['Facility_0310_rate'] +\\\n",
    "dat_examC_0['Facility_0311_C']*dat_examC_0['Facility_0311_rate']+\\\n",
    "dat_examC_0['Facility_0308_C']*dat_examC_0['Facility_0308_rate']+\\\n",
    "dat_examC_0['Facility_0309_C']*dat_examC_0['Facility_0309_rate'])/(dat_examC_0['Facility_0310_rate']+dat_examC_0['Facility_0311_rate']+\\\n",
    "                                                                  dat_examC_0['Facility_0308_rate']+dat_examC_0['Facility_0309_rate'])\n",
    "\n",
    "\n"
   ]
  },
  {
   "cell_type": "code",
   "execution_count": 1978,
   "metadata": {
    "collapsed": true
   },
   "outputs": [],
   "source": [
    "exam_A_rate=dat_examA[['exam_A_rate']].copy()\n",
    "exam_A_rate['code']='RateExamA'\n",
    "exam_A_rate.columns=['error','code']\n",
    "\n",
    "exam_A_rate_0=dat_examA_0[['exam_A_rate_0']].copy()\n",
    "exam_A_rate_0['code']='RateExamA_0'\n",
    "exam_A_rate_0.columns=['error','code']"
   ]
  },
  {
   "cell_type": "code",
   "execution_count": 1979,
   "metadata": {
    "collapsed": true
   },
   "outputs": [],
   "source": [
    "exam_B_rate=dat_examB[['exam_B_rate']].copy()\n",
    "exam_B_rate['code']='RateExamB'\n",
    "exam_B_rate.columns=['error','code']\n",
    "\n",
    "exam_B_rate_0=dat_examB_0[['exam_B_rate_0']].copy()\n",
    "exam_B_rate_0['code']='RateExamB_0'\n",
    "exam_B_rate_0.columns=['error','code']"
   ]
  },
  {
   "cell_type": "code",
   "execution_count": 1980,
   "metadata": {
    "collapsed": true
   },
   "outputs": [],
   "source": [
    "exam_C_rate=dat_examC[['exam_C_rate']].copy()\n",
    "exam_C_rate['code']='RateExamC'\n",
    "exam_C_rate.columns=['error','code']\n",
    "\n",
    "exam_C_rate_0=dat_examC_0[['exam_C_rate_0']].copy()\n",
    "exam_C_rate_0['code']='RateExamC_0'\n",
    "exam_C_rate_0.columns=['error','code']\n"
   ]
  },
  {
   "cell_type": "code",
   "execution_count": 1987,
   "metadata": {
    "collapsed": true
   },
   "outputs": [],
   "source": [
    "data_vis5=pd.concat([exam_A_rate,exam_A_rate_0, exam_B_rate_0,exam_B_rate,exam_C_rate_0,exam_C_rate], axis=0)"
   ]
  },
  {
   "cell_type": "code",
   "execution_count": 2074,
   "metadata": {},
   "outputs": [
    {
     "data": {
      "image/png": "[encoded data removed]",
      "text/plain": [
       "<matplotlib.figure.Figure at 0x1a5906fac8>"
      ]
     },
     "metadata": {},
     "output_type": "display_data"
    }
   ],
   "source": [
    "\n",
    "plt.subplots(figsize=(12, 7))\n",
    "\n",
    "\n",
    "\n",
    "ax=sns.boxplot(x=\"code\", y = \"error\", data=data_vis5, saturation=0.5,\\\n",
    "             linewidth=1, width=.7, order=['RateExamA','RateExamA_0',\\\n",
    "                                           'RateExamB','RateExamB_0',\\\n",
    "                                           'RateExamC','RateExamC_0'],whis=3)\n",
    "\n",
    "ax.set_xlabel('')\n",
    "ax.set_xticklabels(['Population\\n Exam A','Provider 0\\n Exam A',\\\n",
    "                     'Population\\n Exam B','Provider 0\\n Exam B',\\\n",
    "'Population\\n Exam C','Provider 0\\nExam C'],size=14,family=\"serif\")\n",
    "\n",
    "ax.set_ylabel('Error Rate',family=\"serif\",size=15)\n",
    "ax.set_title(\"Boxplot of Error Rates by Exam Type for Provider 0 vs. Population \",y=1.03,family=\"serif\", size=17)\n",
    "# ax.set_ylim([0.05,0.25])\n",
    "\n",
    "mybox0 = ax.artists[0]\n",
    "mybox1 = ax.artists[1]\n",
    "mybox2 = ax.artists[2]\n",
    "mybox4 = ax.artists[4]\n",
    "mybox3 = ax.artists[3]\n",
    "mybox5 = ax.artists[5]\n",
    "mybox0.set_facecolor('magenta')\n",
    "mybox1.set_facecolor('slateblue')\n",
    "mybox2.set_facecolor('magenta')\n",
    "mybox3.set_facecolor('slateblue')\n",
    "mybox4.set_facecolor('magenta')\n",
    "mybox5.set_facecolor('slateblue')\n",
    "\n",
    "\n",
    "medians = data_vis5.groupby(['code'])['error'].median().round(10)\n",
    "median_labels = [str(np.round(s, 4)) for s in medians]\n",
    "\n",
    "pos = range(len(medians))\n",
    "for tick, label in zip(pos,ax.get_xticklabels()):\n",
    "    ax.text(pos[tick], medians[tick]+.009, median_labels[tick], \n",
    "            horizontalalignment='left', size='large')\n",
    "plt.show()"
   ]
  },
  {
   "cell_type": "code",
   "execution_count": null,
   "metadata": {
    "collapsed": true
   },
   "outputs": [],
   "source": []
  }
 ],
 "metadata": {
  "kernelspec": {
   "display_name": "Python 3",
   "language": "python",
   "name": "python3"
  },
  "language_info": {
   "codemirror_mode": {
    "name": "ipython",
    "version": 3
   },
   "file_extension": ".py",
   "mimetype": "text/x-python",
   "name": "python",
   "nbconvert_exporter": "python",
   "pygments_lexer": "ipython3",
   "version": "3.6.3"
  }
 },
 "nbformat": 4,
 "nbformat_minor": 2
}
